{
 "cells": [
  {
   "cell_type": "markdown",
   "metadata": {
    "deletable": true,
    "editable": true,
    "slideshow": {
     "slide_type": "slide"
    }
   },
   "source": [
    "<center>\n",
    "<h2>Syntactic Parsing part 2: <br> Transition-based Dependency parsing</h2>\n",
    "<p style=\"text-align:center\">\n",
    "Natural Language Processing<br>\n",
    "(COM4513/6513)<br>\n",
    "<br>\n",
    "<a href=\"http://andreasvlachos.github.io\">Andreas Vlachos</a><br>\n",
    "a.vlachos@sheffield.ac.uk<br>\n",
    "<small>Department of Computer Science<br>\n",
    "University of Sheffield\n",
    "</small>\n",
    "</p>\n",
    "</center>"
   ]
  },
  {
   "cell_type": "markdown",
   "metadata": {
    "deletable": true,
    "editable": true,
    "slideshow": {
     "slide_type": "slide"
    }
   },
   "source": [
    "### Previous lecture\n",
    "\n",
    "Dependency parsing:\n",
    "<img src=\"images/tikz/test.png\" style=\"width:1000px; border:none; box-shadow:none;\">"
   ]
  },
  {
   "cell_type": "markdown",
   "metadata": {
    "deletable": true,
    "editable": true,
    "slideshow": {
     "slide_type": "slide"
    }
   },
   "source": [
    "### Problem setup\n",
    "\n",
    "Training data is pairs of word sequences (sentences) and dependency trees:\n",
    "\n",
    "\\begin{align}\n",
    "D_{train} & = \\{(\\mathbf{x}^1,G_x^1)...(\\mathbf{x}^M,G_x^M)\\} \\\\\n",
    "\\mathbf{x}^m & = [x_1,... x_N]\\\\\n",
    "graph\\; G_\\mathbf{x} &= (V_\\mathbf{x}, A_\\mathbf{x})\\\\\n",
    "vertices\\; V_\\mathbf{x} &=\\{0,1,...,N\\}\\\\\n",
    "edges\\; A_\\mathbf{x} &=\\{(i,j,k)|i,j\\in V, k \\in L \\text{(labels)}\\}\n",
    "\\end{align}"
   ]
  },
  {
   "cell_type": "markdown",
   "metadata": {
    "deletable": true,
    "editable": true,
    "slideshow": {
     "slide_type": "fragment"
    }
   },
   "source": [
    "We want to learn a model to predict the best graph:\n",
    "\n",
    "$$\n",
    "\\hat G_\\mathbf{x} = \\mathop{\\arg \\max}\\limits_{G_\\mathbf{x} \\in \\cal G_\\mathbf{x}} score(G_\\mathbf{x},\\mathbf{x})\n",
    "$$"
   ]
  },
  {
   "cell_type": "markdown",
   "metadata": {
    "deletable": true,
    "editable": true,
    "slideshow": {
     "slide_type": "slide"
    }
   },
   "source": [
    "### Graph-based dependency parsing: Inference\n",
    "\n",
    "<img src=\"images/MSTParsing.png\" style=\"width:1000px; border:none; box-shadow:none;\">\n",
    "\n",
    "Pick the highest scoring edges forming a spanning tree of the graph"
   ]
  },
  {
   "cell_type": "markdown",
   "metadata": {
    "deletable": true,
    "editable": true,
    "slideshow": {
     "slide_type": "fragment"
    }
   },
   "source": [
    "We assume we have a function $f$ scoring each edge $(head, dependent, label)$ given the sentence $\\mathbf{x}$"
   ]
  },
  {
   "cell_type": "markdown",
   "metadata": {
    "deletable": true,
    "editable": true,
    "slideshow": {
     "slide_type": "slide"
    }
   },
   "source": [
    "### Graph-based dependency parsing: training\n",
    "\n",
    "Decompose the graph score into arc scores:\n",
    "\n",
    "\\begin{align}\n",
    "\t\t\t\t\\hat G_\\mathbf{x} & = \\mathop{\\arg \\max}\\limits_{G_\\mathbf{x} \\in \\cal G_\\mathbf{x}} score(G_\\mathbf{x},\\mathbf{x})\\\\\n",
    "\t\t\t\t & = \\mathop{\\arg \\max}\\limits_{G_\\mathbf{x} \\in \\cal G_\\mathbf{x}} \\mathbf{w} \\cdot \\Phi(G_\\mathbf{x},\\mathbf{x}) \\quad \\text{(linear model)}\\\\\n",
    "\t\t\t\t & = \\mathop{\\arg \\max}\\limits_{G_\\mathbf{x} \\in \\cal G_\\mathbf{x}} \\sum_{(i,j,l) \\in A_x} \\mathbf{w} \\cdot \\phi((i,j,l),\\mathbf{x}) \\quad \\text{(arc-factored)}\n",
    "\t\t\t\t \\end{align}\n",
    "\n",
    "Can learn the weights with the structured perceptron!"
   ]
  },
  {
   "cell_type": "markdown",
   "metadata": {
    "deletable": true,
    "editable": true,
    "slideshow": {
     "slide_type": "slide"
    }
   },
   "source": [
    "### In this lecture\n",
    "\n",
    "Graph-based dependency parsing restricts the features to\n",
    "perform joint inference efficiently."
   ]
  },
  {
   "cell_type": "markdown",
   "metadata": {
    "deletable": true,
    "editable": true,
    "slideshow": {
     "slide_type": "fragment"
    }
   },
   "source": [
    "**Transition-based dependency parsing** trades joint inference for feature flexibility.\n",
    "\n",
    "No more argmax over graphs, just use a classifier with any features we want!"
   ]
  },
  {
   "cell_type": "markdown",
   "metadata": {
    "deletable": true,
    "editable": true,
    "slideshow": {
     "slide_type": "subslide"
    }
   },
   "source": [
    "### Joint vs incremental prediction\n",
    "\n",
    "<p style=\"float: left;\">**Joint**: score (and enumerate)<br> complete outputs (graphs)</p> \n",
    "<img src=\"images/tikz/StucturedPredictionDef.png\" style=\"width:40%; float: right;\">"
   ]
  },
  {
   "cell_type": "markdown",
   "metadata": {
    "deletable": true,
    "editable": true,
    "slideshow": {
     "slide_type": "fragment"
    }
   },
   "source": [
    "<p style=\"float: left;\">**Incremental**: predict a sequence <br>of actions (transitions) constructing<br> the output</p> \n",
    "<img src=\"images/tikz/StucturedPrediction.png\" style=\"width:40%; float: right;\">"
   ]
  },
  {
   "cell_type": "markdown",
   "metadata": {
    "deletable": true,
    "editable": true,
    "slideshow": {
     "slide_type": "slide"
    }
   },
   "source": [
    "<h3>Transition system</h3>\n",
    "\n",
    "<p>The <b>actions</b> $\\cal A$ the classifier $f$ can predict and their effect on the <b>state</b> which tracks the prediction: $S_{t+1}=S_1(\\alpha_1\\ldots\\alpha_t)$</p>\n",
    "\n",
    "<img src=\"images/tikz/IncrementalStructure.png\" style=\"align:center; width:65%\">"
   ]
  },
  {
   "cell_type": "markdown",
   "metadata": {
    "deletable": true,
    "editable": true,
    "slideshow": {
     "slide_type": "fragment"
    }
   },
   "source": [
    "What should the actions (transitions) be for dependency parsing?"
   ]
  },
  {
   "cell_type": "markdown",
   "metadata": {
    "deletable": true,
    "editable": true,
    "slideshow": {
     "slide_type": "slide"
    }
   },
   "source": [
    "### Transition system setup\n",
    "\n",
    "**input**: Vertices $V_\\mathbf{x} =\\{0,1,...,N\\}$ (words sentence $\\mathbf{x}$)"
   ]
  },
  {
   "cell_type": "markdown",
   "metadata": {
    "deletable": true,
    "editable": true,
    "slideshow": {
     "slide_type": "fragment"
    }
   },
   "source": [
    "**state** $S=(Stack,B,A)$: \n",
    "- Arcs $A$ (dependencies predicted so far)\n",
    "- Buffer $Buf$ (words left to process)\n",
    "- Stack $Stack$ (last-in, first out memory)"
   ]
  },
  {
   "cell_type": "markdown",
   "metadata": {
    "deletable": true,
    "editable": true,
    "slideshow": {
     "slide_type": "fragment"
    }
   },
   "source": [
    "Initial state: $S_0 = ([],[0,1,...,N],\\{\\}) $\n",
    "\n",
    "Final state: $S_{final}=(Stack,[],A)$"
   ]
  },
  {
   "cell_type": "markdown",
   "metadata": {
    "deletable": true,
    "editable": true,
    "slideshow": {
     "slide_type": "subslide"
    }
   },
   "source": [
    "### Transition system\n",
    "\n",
    "$\\text{Shift} \\; (Stack, i|Buf, A)\\rightarrow(Stack|i, Buf, A)$<br>\n",
    "push next word from the buffer ($i$) to stack"
   ]
  },
  {
   "cell_type": "markdown",
   "metadata": {
    "deletable": true,
    "editable": true,
    "slideshow": {
     "slide_type": "fragment"
    }
   },
   "source": [
    "$\\text{Reduce} \\; (Stack|i, Buf, A)\\rightarrow(Stack, Buf, A)$<br>\n",
    "pop word top of the stack ($i$) if it has a head"
   ]
  },
  {
   "cell_type": "markdown",
   "metadata": {
    "deletable": true,
    "editable": true,
    "slideshow": {
     "slide_type": "fragment"
    }
   },
   "source": [
    "$\\text{Right-Arc}(label)\\; (Stack|i, j|Buf, A) \\rightarrow (Stack|i|j, Buf, A\\cup\\{(i,j,l)\\})$<br>\n",
    "create edge $(i,j,label)$ between top of the stack ($i$) <br>and next in buffer ($j$), push $j$}"
   ]
  },
  {
   "cell_type": "markdown",
   "metadata": {
    "deletable": true,
    "editable": true,
    "slideshow": {
     "slide_type": "fragment"
    }
   },
   "source": [
    "$\\text{Left-Arc}(label)\\; (Stack|i, j|Buf, A) \\rightarrow (Stack, j|Buf, A\\cup\\{(j,i,l)\\})$<br>\n",
    "create edge $(j,i,label)$ and pop $i$, if $i$ has no head"
   ]
  },
  {
   "cell_type": "markdown",
   "metadata": {
    "deletable": true,
    "editable": true,
    "slideshow": {
     "slide_type": "slide"
    }
   },
   "source": [
    "### Example\n",
    "\n",
    "<img src=\"images/tikz/depParseArcEager0.png\" style=\"width:1000px; border:none; box-shadow:none;\">\n",
    "\n",
    "Stack = []\n",
    "\n",
    "Buffer = [ROOT, Economic, news, had, little, effect, on, financial, markets, .]\n",
    "\n",
    "Action?<span class=\"fragment\">$\\quad \\text{Shift}$</span>"
   ]
  },
  {
   "cell_type": "markdown",
   "metadata": {
    "deletable": true,
    "editable": true,
    "slideshow": {
     "slide_type": "subslide"
    }
   },
   "source": [
    "### Example\n",
    "\n",
    "<img src=\"images/tikz/depParseArcEager0.png\" style=\"width:1000px; border:none; box-shadow:none;\">\n",
    "\n",
    "Stack = [ROOT]\n",
    "\n",
    "Buffer = [Economic, news, had, little, effect, on, financial, markets, .]\n",
    "\n",
    "Action?<span class=\"fragment\">$\\quad \\text{Shift}$</span>"
   ]
  },
  {
   "cell_type": "markdown",
   "metadata": {
    "deletable": true,
    "editable": true,
    "slideshow": {
     "slide_type": "subslide"
    }
   },
   "source": [
    "### Example\n",
    "\n",
    "<img src=\"images/tikz/depParseArcEager0.png\" style=\"width:1000px; border:none; box-shadow:none;\">\n",
    "\n",
    "Stack = [ROOT, Economic]\n",
    "\n",
    "Buffer = [news, had, little, effect, on, financial, markets, .]\n",
    "\n",
    "Action?<span class=\"fragment\">$\\quad \\text{Left-Arc}(amod)$</span>"
   ]
  },
  {
   "cell_type": "markdown",
   "metadata": {
    "deletable": true,
    "editable": true,
    "slideshow": {
     "slide_type": "subslide"
    }
   },
   "source": [
    "### Example\n",
    "\n",
    "<img src=\"images/tikz/depParseArcEager1.png\" style=\"width:1000px; border:none; box-shadow:none;\">\n",
    "\n",
    "Stack = [ROOT]\n",
    "\n",
    "Buffer = [news, had, little, effect, on, financial, markets, .]\n",
    "\n",
    "Action?<span class=\"fragment\">$\\quad \\text{Shift}$</span>"
   ]
  },
  {
   "cell_type": "markdown",
   "metadata": {
    "deletable": true,
    "editable": true,
    "slideshow": {
     "slide_type": "subslide"
    }
   },
   "source": [
    "### Example\n",
    "\n",
    "<img src=\"images/tikz/depParseArcEager1.png\" style=\"width:1000px; border:none; box-shadow:none;\">\n",
    "\n",
    "Stack = [ROOT, news]\n",
    "\n",
    "Buffer = [had, little, effect, on, financial, markets, .]\n",
    "\n",
    "Action?<span class=\"fragment\">$\\quad \\text{Left-Arc}(nsubj)$</span>"
   ]
  },
  {
   "cell_type": "markdown",
   "metadata": {
    "deletable": true,
    "editable": true,
    "slideshow": {
     "slide_type": "subslide"
    }
   },
   "source": [
    "### Example\n",
    "\n",
    "<img src=\"images/tikz/depParseArcEager2.png\" style=\"width:1000px; border:none; box-shadow:none;\">\n",
    "\n",
    "Stack = [ROOT]\n",
    "\n",
    "Buffer = [had, little, effect, on, financial, markets, .]\n",
    "\n",
    "Action?<span class=\"fragment\">$\\quad \\text{Right-Arc}(root)$</span>"
   ]
  },
  {
   "cell_type": "markdown",
   "metadata": {
    "deletable": true,
    "editable": true,
    "slideshow": {
     "slide_type": "subslide"
    }
   },
   "source": [
    "### Example\n",
    "\n",
    "<img src=\"images/tikz/depParseArcEager3.png\" style=\"width:1000px; border:none; box-shadow:none;\">\n",
    "\n",
    "Stack = [ROOT, had]\n",
    "\n",
    "Buffer = [little, effect, on, financial, markets, .]\n",
    "\n",
    "Action?<span class=\"fragment\">$\\quad \\text{Shift}$</span>"
   ]
  },
  {
   "cell_type": "markdown",
   "metadata": {
    "deletable": true,
    "editable": true,
    "slideshow": {
     "slide_type": "subslide"
    }
   },
   "source": [
    "### Example\n",
    "\n",
    "<img src=\"images/tikz/depParseArcEager3.png\" style=\"width:1000px; border:none; box-shadow:none;\">\n",
    "\n",
    "Stack = [ROOT, had, little]\n",
    "\n",
    "Buffer = [effect, on, financial, markets, .]\n",
    "\n",
    "Action?<span class=\"fragment\">$\\quad \\text{Left-Arc}(amod)$</span>"
   ]
  },
  {
   "cell_type": "markdown",
   "metadata": {
    "deletable": true,
    "editable": true,
    "slideshow": {
     "slide_type": "subslide"
    }
   },
   "source": [
    "### Example\n",
    "\n",
    "<img src=\"images/tikz/depParseArcEager4.png\" style=\"width:1000px; border:none; box-shadow:none;\">\n",
    "\n",
    "Stack = [ROOT, had]\n",
    "\n",
    "Buffer = [effect, on, financial, markets, .]\n",
    "\n",
    "Action?<span class=\"fragment\">$\\quad \\text{Right-Arc}(dobj)$</span>"
   ]
  },
  {
   "cell_type": "markdown",
   "metadata": {
    "deletable": true,
    "editable": true,
    "slideshow": {
     "slide_type": "subslide"
    }
   },
   "source": [
    "### Example\n",
    "\n",
    "<img src=\"images/tikz/depParseArcEager5.png\" style=\"width:1000px; border:none; box-shadow:none;\">\n",
    "\n",
    "Stack = [ROOT, had, effect]\n",
    "\n",
    "Buffer = [on, financial, markets, .]\n",
    "\n",
    "Action?<span class=\"fragment\">$\\quad \\text{a few more later...}$</span>"
   ]
  },
  {
   "cell_type": "markdown",
   "metadata": {
    "deletable": true,
    "editable": true,
    "slideshow": {
     "slide_type": "subslide"
    }
   },
   "source": [
    "### Example\n",
    "\n",
    "<img src=\"images/tikz/depParseArcEagerFinal.png\" style=\"width:1000px; border:none; box-shadow:none;\">\n",
    "\n",
    "Stack = [ROOT, had, .]\n",
    "\n",
    "Buffer = []\n",
    "\n",
    "Empty buffer. DONE!"
   ]
  },
  {
   "cell_type": "markdown",
   "metadata": {
    "deletable": true,
    "editable": true,
    "slideshow": {
     "slide_type": "slide"
    }
   },
   "source": [
    "### Other transition systems?\n",
    "\n",
    "This was the arc-eager system. Others:\n",
    "- arc-standard (3 actions)\n",
    "- easy-first (not left-to-right), etc.\n"
   ]
  },
  {
   "cell_type": "markdown",
   "metadata": {
    "deletable": true,
    "editable": true,
    "slideshow": {
     "slide_type": "fragment"
    }
   },
   "source": [
    "All operate with actions combining:\n",
    "- moving words from the buffer to the stack and back (shift/un-shift)\n",
    "- popping words from the stack (reduce)\n",
    "- creating labeled arcs left and right"
   ]
  },
  {
   "cell_type": "markdown",
   "metadata": {
    "deletable": true,
    "editable": true,
    "slideshow": {
     "slide_type": "fragment"
    }
   },
   "source": [
    "Intuition: Define actions that are easy to learn"
   ]
  },
  {
   "cell_type": "markdown",
   "metadata": {
    "deletable": true,
    "editable": true,
    "slideshow": {
     "slide_type": "slide"
    }
   },
   "source": [
    "<h3>Transition-based parsing</h3>\n",
    "\n",
    "<p style=\"text-align: left; border:3px; border-radius: 25px; background-color:lightgrey; border-style:solid; border-color:black; padding: 0.3em;\">\n",
    "\\begin{align}\n",
    "& \\textbf{Input:} \\; sentence \\; \\mathbf{x}\\\\\n",
    "& state \\; S_1=initialize(\\mathbf{x}); timestep \\; t = 1\\\\\n",
    "& \\mathbf{while}\\; S_t \\; \\text{not final}\\; \\mathbf{do}\\\\\n",
    "& \\quad action \\; \\alpha_t = \\mathop{\\arg \\max}_{\\alpha \\in {\\cal A}} f(\\alpha, S_t)\\\\\n",
    "& \\quad S_{t+1}=S_t(\\alpha_t); t=t+1\\\\\n",
    "\\end{align}\n",
    "</p>"
   ]
  },
  {
   "cell_type": "markdown",
   "metadata": {
    "deletable": true,
    "editable": true,
    "slideshow": {
     "slide_type": "fragment"
    }
   },
   "source": [
    "What is $f$? <span class=\"fragment\">A multiclass classifier</span>"
   ]
  },
  {
   "cell_type": "markdown",
   "metadata": {
    "deletable": true,
    "editable": true,
    "slideshow": {
     "slide_type": "fragment"
    }
   },
   "source": [
    "What do we need to learn it?"
   ]
  },
  {
   "cell_type": "markdown",
   "metadata": {
    "deletable": true,
    "editable": true,
    "slideshow": {
     "slide_type": "fragment"
    }
   },
   "source": [
    "- learning algorithm (perceptron, logistic regression)\n",
    "- labeled training data\n",
    "- feature extraction"
   ]
  },
  {
   "cell_type": "markdown",
   "metadata": {
    "deletable": true,
    "editable": true,
    "slideshow": {
     "slide_type": "subslide"
    }
   },
   "source": [
    "### What are the right actions?\n",
    "\n",
    "We only have sentences labeled with graphs: $D_{train} = \\{(\\mathbf{x}^1,G_x^1)...(\\mathbf{x}^M,G_x^M)\\}$"
   ]
  },
  {
   "cell_type": "markdown",
   "metadata": {
    "deletable": true,
    "editable": true,
    "slideshow": {
     "slide_type": "fragment"
    }
   },
   "source": [
    "<center>\n",
    "<a href=\"http://www.ancient-origins.net/sites/default/files/field/image/\">\n",
    "<img src=\"images/oracle-delphi.jpg\" style=\"width:60%; border:none; box-shadow:none;\"></a>\n",
    "</center>\n",
    "\n",
    "Ask an oracle to tell us the actions constructing the graph!\n",
    "\n",
    "In our case, a set of **rules** comparing the current state $S=(Stack,Buffer,ArcsPredicted)$ with $G_x$ returning the correct action as label"
   ]
  },
  {
   "cell_type": "markdown",
   "metadata": {
    "deletable": true,
    "editable": true,
    "slideshow": {
     "slide_type": "subslide"
    }
   },
   "source": [
    "<h3>Learning from an oracle</h3>\n",
    "Given a labeled sentence and a transition system, an oracle returns states labeled with the correct actions.\n",
    "\n",
    "\\begin{align}\n",
    "D_{train} & = \\{(\\mathbf{x}^1,G_x^1)...(\\mathbf{x}^M,G_x^M)\\} \\\\\n",
    "\\mathbf{x}^m & = [x_1,..., x_N]\\\\\n",
    "graph\\; G_\\mathbf{x} &= (V_\\mathbf{x}, A_\\mathbf{x})\\\\\n",
    "vertices\\; V_\\mathbf{x} &=\\{0,1,...,N\\}\\\\\n",
    "edges\\; A_\\mathbf{x} &=\\{(i,j,k)|i,j\\in V, k \\in L \\text{(labels)}\\}\\\\\n",
    "\\color{red}{states\\; \\mathbf{S}^m} & \\color{red}{=[S_1,...,S_T]}\\\\\n",
    "\\color{red}{actions\\; \\mathbf{\\alpha}^m} & \\color{red}{=[\\alpha_1,...,\\alpha_T]}\\\\\n",
    "\\end{align}\n",
    "</p>\n"
   ]
  },
  {
   "cell_type": "markdown",
   "metadata": {
    "deletable": true,
    "editable": true,
    "slideshow": {
     "slide_type": "subslide"
    }
   },
   "source": [
    "### Features\n",
    "\n",
    "<img src=\"images/tikz/depParseArcEager5.png\" style=\"width:1000px; border:none; box-shadow:none;\">\n",
    "\n",
    "Stack = [ROOT, had, effect]\n",
    "\n",
    "Buffer = [on, financial, markets, .]\n",
    "\n",
    "What features would help us predict the correction action $\\text{Right-Arc}(prep)$"
   ]
  },
  {
   "cell_type": "markdown",
   "metadata": {
    "deletable": true,
    "editable": true,
    "slideshow": {
     "slide_type": "fragment"
    }
   },
   "source": [
    "Features based on the words/PoS in stack and buffer:\n",
    "<br> wordS1=effect, wordB1=on, wordS2=had, posS1=NOUN, etc.\n",
    "\n",
    "Features based on the dependencies so far:\n",
    "<br> depS1=dobj, depLeftChildS1=amod, depRightChildS1=NULL, etc.\n",
    "\n",
    "Features based on previous actions:\n",
    "<br> $\\alpha_{t-1}=\\text{Right-Arc}(dobj)$, etc."
   ]
  },
  {
   "cell_type": "markdown",
   "metadata": {
    "deletable": true,
    "editable": true,
    "slideshow": {
     "slide_type": "slide"
    }
   },
   "source": [
    "### Transition-based vs Graph-based parsing\n",
    "\n",
    "- Transition-based tends to be better on shorter sentences, graph-based on longer ones\n",
    "\n",
    "- Graph-based tends to be better on long-range dependencies\n",
    "\n",
    "- Graph-based lacks the rich structural features\n",
    "\n",
    "- Transition-based is greedy and suffers from early mistakes"
   ]
  },
  {
   "cell_type": "markdown",
   "metadata": {
    "deletable": true,
    "editable": true,
    "slideshow": {
     "slide_type": "fragment"
    }
   },
   "source": [
    "Actually, can we ameliorate the greedy issue?"
   ]
  },
  {
   "cell_type": "markdown",
   "metadata": {
    "deletable": true,
    "editable": true,
    "slideshow": {
     "slide_type": "subslide"
    }
   },
   "source": [
    "### Beam Search\n",
    "\n",
    "\n",
    "<a href=\"http://slideplayer.com/slide/8593664/\"><img width=\"80%\" src=\"images/beam_pos.jpg\"></a>\n",
    "\n",
    "Don't need to be completely greedy if we are happy to increase CPU and memory usage"
   ]
  },
  {
   "cell_type": "markdown",
   "metadata": {
    "deletable": true,
    "editable": true,
    "slideshow": {
     "slide_type": "subslide"
    }
   },
   "source": [
    "<h3>Non-Projectivity</h3>\n",
    "<img src=\"images/tikz/depParseNonProjective.png\" style=\"width:1000px; border:none; box-shadow:none;\">\n",
    "<ul>\n",
    "<li>a.k.a. crossing dependencies</li>\n",
    "<li>long-range dependencies</li>\n",
    "<li>free word order</li>\n",
    "</ul>"
   ]
  },
  {
   "cell_type": "markdown",
   "metadata": {
    "deletable": true,
    "editable": true,
    "slideshow": {
     "slide_type": "subslide"
    }
   },
   "source": [
    "### Non-projective transition-based parsing\n",
    "\n",
    "The standard stack-based systems cannot do it.\n",
    "\n",
    "But there are extensions:\n",
    "- swap actions: word reodering\n",
    "- k-planar parsing: use multiple stacks (usually 2)\n",
    "\n",
    "\n",
    "Standard graph-based parsing handles non-projectivity."
   ]
  },
  {
   "cell_type": "markdown",
   "metadata": {
    "deletable": true,
    "editable": true,
    "slideshow": {
     "slide_type": "slide"
    }
   },
   "source": [
    "### Incremental language processing\n",
    "\n",
    "Other problems solved with similar approaches (a.k.a. transition-based, greedy):\n",
    "- semantic parsing\n",
    "- coreference resolution\n",
    "- etc.\n",
    "\n",
    "Whenever you have a problem with a very large space of outputs, worth considering.\n",
    "\n",
    "Humans process language incrementally, should machines do the same?"
   ]
  },
  {
   "cell_type": "markdown",
   "metadata": {
    "deletable": true,
    "editable": true,
    "slideshow": {
     "slide_type": "slide"
    }
   },
   "source": [
    "### Bibliography\n",
    "- Nivre and McDonald's tutorial [slides](http://stp.lingfil.uu.se/~nivre/eacl14.html)\n",
    "- Nivre's article on [deterministic transition-based dependency parsing](http://www.mitpressjournals.org/doi/pdf/10.1162/coli.07-056-R1-07-027)\n",
    "- Nivre and McDonald's [paper](http://www.aclweb.org/anthology/D07-1013) comparing their approaches"
   ]
  },
  {
   "cell_type": "markdown",
   "metadata": {
    "deletable": true,
    "editable": true,
    "slideshow": {
     "slide_type": "slide"
    }
   },
   "source": [
    "### Coming up next\n",
    "\n",
    "Continuous representations (getting ready for neural networks)"
   ]
  }
 ],
 "metadata": {
  "celltoolbar": "Slideshow",
  "kernelspec": {
   "display_name": "Python 3",
   "language": "python",
   "name": "python3"
  },
  "language_info": {
   "codemirror_mode": {
    "name": "ipython",
    "version": 3
   },
   "file_extension": ".py",
   "mimetype": "text/x-python",
   "name": "python",
   "nbconvert_exporter": "python",
   "pygments_lexer": "ipython3",
   "version": "3.5.2"
  },
  "livereveal": {
   "start_slideshow_at": "selected",
   "theme": "solarized",
   "transition": "none"
  }
 },
 "nbformat": 4,
 "nbformat_minor": 2
}
