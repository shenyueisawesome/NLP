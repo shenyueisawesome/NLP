{
 "cells": [
  {
   "cell_type": "code",
   "execution_count": 8,
   "metadata": {
    "collapsed": true,
    "deletable": true,
    "editable": true,
    "slideshow": {
     "slide_type": "skip"
    }
   },
   "outputs": [],
   "source": [
    "import matplotlib.pyplot as plt\n",
    "import numpy as np\n",
    "import math\n",
    "\n",
    "def sigmoid(x):\n",
    "    a = []\n",
    "    for item in x:\n",
    "        a.append(1/(1+math.exp(-item)))\n",
    "    return a\n",
    "x = np.arange(-10., 10., 0.2)\n",
    "plt.grid()"
   ]
  },
  {
   "cell_type": "markdown",
   "metadata": {
    "deletable": true,
    "editable": true,
    "slideshow": {
     "slide_type": "slide"
    }
   },
   "source": [
    "<center>\n",
    "<h2>Neural Networks</h2>\n",
    "<p style=\"text-align:center\">\n",
    "Natural Language Processing<br>\n",
    "(COM4513/6513)<br>\n",
    "<br>\n",
    "<a href=\"http://andreasvlachos.github.io\">Andreas Vlachos</a><br>\n",
    "a.vlachos@sheffield.ac.uk<br>\n",
    "<small>Department of Computer Science<br>\n",
    "University of Sheffield\n",
    "</small>\n",
    "</p>\n",
    "</center>"
   ]
  },
  {
   "cell_type": "markdown",
   "metadata": {
    "deletable": true,
    "editable": true,
    "slideshow": {
     "slide_type": "slide"
    }
   },
   "source": [
    "### In this lecture\n",
    "\n",
    "Neural networks:\n",
    "- a learning paradigm that is driving a lot of the recent progress in the field\n",
    "- comes with many names: deep learning, representation learning, etc."
   ]
  },
  {
   "cell_type": "markdown",
   "metadata": {
    "deletable": true,
    "editable": true,
    "slideshow": {
     "slide_type": "fragment"
    }
   },
   "source": [
    "Have we seen any so far?"
   ]
  },
  {
   "cell_type": "markdown",
   "metadata": {
    "deletable": true,
    "editable": true,
    "slideshow": {
     "slide_type": "subslide"
    }
   },
   "source": [
    "### Skip-gram\n",
    "\n",
    "<img src=\"images/skipgram.png\"  style=\"width:950px;\">\n",
    "\n",
    "Given the word in the middle predict each of the context words through their embeddings"
   ]
  },
  {
   "cell_type": "markdown",
   "metadata": {
    "deletable": true,
    "editable": true,
    "slideshow": {
     "slide_type": "slide"
    }
   },
   "source": [
    "<h3>Perceptron reminder</h3>\n",
    "<a href=\"https://blog.dbrgn.ch/2013/3/26/perceptrons-in-python/\"><img src=\"images/perceptron.png\" style=\"width:600px; background:none; border:none; box-shadow:none;\" /></a>\n",
    "\n",
    "$$\\hat y = sign(\\sum_{n=1}^N w_nx_n) = sign(\\mathbf{w} \\cdot \\mathbf{x})$$"
   ]
  },
  {
   "cell_type": "markdown",
   "metadata": {
    "deletable": true,
    "editable": true,
    "slideshow": {
     "slide_type": "subslide"
    }
   },
   "source": [
    "<h3>Logistic regression reminder</h3>\n",
    "\n",
    "<p>Logistic regression (binary):\n",
    "$$P(y=1| \\mathbf{x};\\mathbf{w}) = \\sigma(\\mathbf{w} \\cdot \\mathbf{x}) =  \\frac{1}{1+\\exp( - \\mathbf{w} \\cdot \\mathbf{x})} $$\n",
    "</p>"
   ]
  },
  {
   "cell_type": "markdown",
   "metadata": {
    "deletable": true,
    "editable": true,
    "slideshow": {
     "slide_type": "fragment"
    }
   },
   "source": [
    "The most basic neural network:\n",
    "- an input layer, $\\mathbf{x}$\n",
    "- (learned) weights $\\mathbf{w}$ (includes $bias$)\n",
    "- activation function, sigmoid $\\sigma$"
   ]
  },
  {
   "cell_type": "code",
   "execution_count": 9,
   "metadata": {
    "collapsed": false,
    "deletable": true,
    "editable": true,
    "slideshow": {
     "slide_type": "fragment"
    }
   },
   "outputs": [
    {
     "data": {
      "image/png": "[encoded data removed]",
      "text/plain": [
       "<matplotlib.figure.Figure at 0x7f1f63ac9710>"
      ]
     },
     "metadata": {},
     "output_type": "display_data"
    }
   ],
   "source": [
    "plt.plot(x,sigmoid(x))\n",
    "plt.show()"
   ]
  },
  {
   "cell_type": "markdown",
   "metadata": {
    "deletable": true,
    "editable": true,
    "slideshow": {
     "slide_type": "slide"
    }
   },
   "source": [
    "### Limitations of linear models\n",
    "\n",
    "Linear classifiers are useful in a variety of tasks.\n",
    "\n",
    "But what are their limitations?"
   ]
  },
  {
   "cell_type": "markdown",
   "metadata": {
    "deletable": true,
    "editable": true,
    "slideshow": {
     "slide_type": "fragment"
    }
   },
   "source": [
    "<img src=\"images/linearlySep.jpg\" style=\"width:400px; float:left\" />\n",
    "<img src=\"images/nonLinearlySep.jpg\" style=\"width:400px; float:right\" />"
   ]
  },
  {
   "cell_type": "markdown",
   "metadata": {
    "deletable": true,
    "editable": true,
    "slideshow": {
     "slide_type": "fragment"
    }
   },
   "source": [
    "The righthand dataset is not linearly separable and cannot be learned with a linear model."
   ]
  },
  {
   "cell_type": "markdown",
   "metadata": {
    "deletable": true,
    "editable": true,
    "slideshow": {
     "slide_type": "slide"
    }
   },
   "source": [
    "### Intuition\n",
    "\n",
    "<img src=\"images/nonLinearlySep.jpg\"/>\n",
    "\n",
    "Decompose the problem in 3 binary tasks:\n",
    "- top-right red circles vs. rest\n",
    "- bottom-left red circles vs. rest\n",
    "- the actual task using the above as input"
   ]
  },
  {
   "cell_type": "markdown",
   "metadata": {
    "deletable": true,
    "editable": true,
    "slideshow": {
     "slide_type": "slide"
    }
   },
   "source": [
    "### Multilayer perceptron\n",
    "\n",
    "with one hidden layer consisting of two units (neurons):\n",
    "\t\t\t\t\n",
    "<img src=\"images/hiddenLayerNN.jpg\" style=\"width:650px;\" />\n",
    "\n",
    "\\begin{align}\n",
    "h_1(\\mathbf{x},\\theta_1,\\theta_2, b_1) & = \\sigma(\\theta_1 x_1 + \\theta_2 x_2 + b_1 )\\\\\n",
    "h_2(\\mathbf{x},\\theta_3,\\theta_4, b_2) & = \\sigma(\\theta_3 x_1 + \\theta_4 x_2 + b_2 )\\\\\n",
    "f(\\mathbf{x},\\pmb{\\theta}, \\mathbf{b}, \\pmb{\\omega}, c) & = \\sigma(\\omega_1 h_1(\\mathbf{x},\\mathbf{\\theta}, b_1) + \\omega_2 h_2(\\mathbf{x},\\mathbf{\\theta}, b_2) + c )\\\\\n",
    "\\end{align}\n",
    "\n",
    "$h_1$ and $h_2$ are the input (**learned features**) for the final (classification) layer"
   ]
  },
  {
   "cell_type": "markdown",
   "metadata": {
    "deletable": true,
    "editable": true,
    "slideshow": {
     "slide_type": "slide"
    }
   },
   "source": [
    "### Training\n",
    "\n",
    "What $\\mathbf{w}=\\{\\pmb{\\theta}, \\pmb{\\omega}, \\mathbf{b}, c\\}$ best fits $D_{train} = \\{(x_1,y_1)... (x_N, y_N)\\}$?"
   ]
  },
  {
   "cell_type": "markdown",
   "metadata": {
    "deletable": true,
    "editable": true,
    "slideshow": {
     "slide_type": "fragment"
    }
   },
   "source": [
    "The $\\mathbf{w}^{\\star} \\in \\cal \\Re^d$ ($d=$ number of features) maximizing log-likelihood:\n",
    "\n",
    "$$\\mathbf{w}^{\\star} = \\mathop{\\arg \\max}\\limits_{\\mathbf{w}} L(\\mathbf{w};D_{train}) = \\mathop{\\arg \\max}\\limits_{\\mathbf{w}} \\sum_{n=1}^N \\log f(y_n|x_n;\\mathbf{w})$$\n",
    "\n",
    "Not enough to avoid mistakes, make them unlikely!"
   ]
  },
  {
   "cell_type": "markdown",
   "metadata": {
    "deletable": true,
    "editable": true,
    "slideshow": {
     "slide_type": "fragment"
    }
   },
   "source": [
    "Sounds familiar?"
   ]
  },
  {
   "cell_type": "markdown",
   "metadata": {
    "deletable": true,
    "editable": true,
    "slideshow": {
     "slide_type": "slide"
    }
   },
   "source": [
    "### Gradient-based optimization\n",
    "\n",
    "<a href=\"http://bestmaths.net/online/index.php/year-levels/year-12/year-12-topic-list/first-principles/\"><img src=\"images/Y12_Differentiation_from_First_Principles_02.gif\"></a>\n",
    "\n",
    "$f(x)=x^2$\n",
    "\n",
    "$\\nabla_x f(x) = 2x$\n",
    "\n",
    "$f(x)$ is convex, thus if $\\nabla_x f(x_k) = 0$ then $x_k = \\mathop{\\arg \\max}\\limits_{x \\in \\Re} f(x)$"
   ]
  },
  {
   "cell_type": "markdown",
   "metadata": {
    "deletable": true,
    "editable": true,
    "slideshow": {
     "slide_type": "subslide"
    }
   },
   "source": [
    "### Gradient descent\n",
    "<p style=\"border:3px; width:1000px; border-radius: 25px; background-color:lightgrey; border-style:solid; border-color:black; padding: 0.3em;\">\n",
    "\\begin{align}\n",
    "& \\textbf{Input:} \\; D_{train} = \\{(x_1,y_1)...(x_N,y_N)\\}, learning \\; rate\\; \\alpha\\\\\n",
    "& initialize\\; \\mathbf{w} \\\\\n",
    "& \\mathbf{while} \\; not \\; converged \\; \\mathbf{do}\\\\\n",
    "& \\quad update \\; \\mathbf{w} = \\mathbf{w} - \\alpha \\nabla_{\\mathbf{w}} NLL(\\mathbf{w};D_{train}) \\\\\n",
    "& \\mathbf{return} \\; \\mathbf{w}\n",
    "\\end{align}\n",
    "</p>"
   ]
  },
  {
   "cell_type": "markdown",
   "metadata": {
    "deletable": true,
    "editable": true,
    "slideshow": {
     "slide_type": "fragment"
    }
   },
   "source": [
    "- minimizing the negative log likelihood ($NLL$) = maximize the likelihood\n",
    "- learning rate shouldn't be too big; more advanced methods adapt it"
   ]
  },
  {
   "cell_type": "markdown",
   "metadata": {
    "deletable": true,
    "editable": true,
    "slideshow": {
     "slide_type": "subslide"
    }
   },
   "source": [
    "### Training\n",
    "\n",
    "<img src=\"images/hiddenLayerNN.jpg\" style=\"width:450px; background:none; border:none; box-shadow:none;\" />\n",
    "\n",
    "How to learn:\n",
    "- $\\mathbf{\\theta}$ if we do not know what their outputs $h_1, h_2$ should be?\n",
    "- $\\mathbf{\\omega}$  if we do not know the inputs $h_1, h_2$?"
   ]
  },
  {
   "cell_type": "markdown",
   "metadata": {
    "deletable": true,
    "editable": true,
    "slideshow": {
     "slide_type": "fragment"
    }
   },
   "source": [
    "**Backpropagation**: in every SGD iteration:\n",
    "- model calculates intermediate and final values (forward step)\n",
    "- use them to calculate the gradients (back-propagate)"
   ]
  },
  {
   "cell_type": "markdown",
   "metadata": {
    "deletable": true,
    "editable": true,
    "slideshow": {
     "slide_type": "subslide"
    }
   },
   "source": [
    "### Backpropagation\n",
    "\n",
    "<p style=\"border:3px; width: 900px; border-radius: 25px; background-color:lightgrey; border-style:solid; border-color:black; padding: 0.3em;\">\n",
    "\\begin{align}\n",
    "& \\textbf{Input:} \\; D_{train} = \\{(\\mathbf{x}^1,y^1)...(\\mathbf{x}^M,y^M)\\}\\\\\n",
    "& initialize\\; randomly \\; \\mathbf{\\theta}, \\mathbf{\\omega}, \\mathbf{b}, c  \\\\\n",
    "& \\mathbf{for} \\; (\\mathbf{x},y) \\in D_{train} \\; \\mathbf{do}\\\\\n",
    "& \\quad predict  \\; \\hat y, hidden_1, hidden_2 = f(\\mathbf{x},\\mathbf{\\theta}, \\mathbf{b}, \\omega_1, \\omega_2, c) \\\\\n",
    "& \\quad calculate \\; loss \\; l=L(\\hat y, y)\\\\\n",
    "& \\quad backpropagate\\; l \\; via\\; gradients: update \\; \\mathbf{\\omega}, c; update \\; \\mathbf{\\theta},\\mathbf{\\beta}\\\\\n",
    "& \\mathbf{return} \\; w\n",
    "\\end{align}\n",
    "</p>"
   ]
  },
  {
   "cell_type": "markdown",
   "metadata": {
    "deletable": true,
    "editable": true,
    "slideshow": {
     "slide_type": "slide"
    }
   },
   "source": [
    "### Non-linearity\n",
    "\n",
    "<!--TODO: explain via linear function, anything that is not y=ax+b-->\n",
    "...matters. Without a non-linear activation function  hidden layers are not helpful.\n",
    "\n",
    "[Let's play](http://playground.tensorflow.org/#activation=sigmoid&batchSize=10&dataset=xor&regDataset=reg-plane&learningRate=0.03&regularizationRate=0&noise=0&networkShape=4&seed=0.24754&showTestData=false&discretize=false&percTrainData=50&x=true&y=true&xTimesY=false&xSquared=false&ySquared=false&cosX=false&sinX=false&cosY=false&sinY=false&collectStats=false&problem=classification)"
   ]
  },
  {
   "cell_type": "markdown",
   "metadata": {
    "deletable": true,
    "editable": true,
    "slideshow": {
     "slide_type": "slide"
    }
   },
   "source": [
    "### Implementation tips\n",
    "\n",
    "- Learning objective non-convex: initialization matters\n",
    "- start with small non-zero values\n",
    "- random restarts to escape local optima\n",
    "\n",
    "- greater learning capacity makes overfitting more likely: regularize\n",
    "\n",
    "- check gradient implementation using numeric differentiation\n",
    "\n",
    "- many software toolkits are available to use: Tensorflow, Theano, Torch etc"
   ]
  },
  {
   "cell_type": "markdown",
   "metadata": {
    "deletable": true,
    "editable": true,
    "slideshow": {
     "slide_type": "slide"
    }
   },
   "source": [
    "### A bit of history\n",
    "\n",
    "XOR and AI winter\n",
    "\n",
    "Kernel methods (SVMs) in the 90's and early 00's overtook NNs in popularity for two reasons:\n",
    "- theoretical guarantees\n",
    "- computers were not powerful enough\n",
    "\n",
    "Empirical success and faster computers changed this."
   ]
  },
  {
   "cell_type": "markdown",
   "metadata": {
    "deletable": true,
    "editable": true,
    "slideshow": {
     "slide_type": "fragment"
    }
   },
   "source": [
    "A personal note : when I was an MSc student, I was told that NNs\tbelonged to the past..."
   ]
  },
  {
   "cell_type": "markdown",
   "metadata": {
    "deletable": true,
    "editable": true,
    "slideshow": {
     "slide_type": "slide"
    }
   },
   "source": [
    "### Bibliography\n",
    "\n",
    "- A [simple implementation](http://iamtrask.github.io/2015/07/12/basic-python-network/) in python of backpropagation for a multilayer perceptron\n",
    "- A [presentation](http://lxmls.it.pt/2016/Deep-Neural-Networks-Are-Our-Friends.pdf) by Wang Ling explaining it differently as a computation graph \n",
    "- The lecture followed the [tutorial](http://cs.stanford.edu/~quocle/tutorial1.pdf) of Quoc V. Le\n",
    "- A nice, full-fledged explanation of [back-propagation](http://cs231n.github.io/optimization-2/)\n",
    "- Similar material from an NLP perspective is covered in Yoav Goldberg's [tutorial](http://u.cs.biu.ac.il/~yogo/nnlp.pdf), sections 3-6\n",
    "- Chapter 6, 7 and 8 from the just released [deep learning book](http://www.deeplearningbook.org)"
   ]
  },
  {
   "cell_type": "markdown",
   "metadata": {
    "deletable": true,
    "editable": true,
    "slideshow": {
     "slide_type": "slide"
    }
   },
   "source": [
    "### Coming up next\n",
    "\n",
    "The most common neural network architecture in NLP:\n",
    "\n",
    "Recurrent neural networks"
   ]
  }
 ],
 "metadata": {
  "celltoolbar": "Slideshow",
  "kernelspec": {
   "display_name": "Python 3",
   "language": "python",
   "name": "python3"
  },
  "language_info": {
   "codemirror_mode": {
    "name": "ipython",
    "version": 3
   },
   "file_extension": ".py",
   "mimetype": "text/x-python",
   "name": "python",
   "nbconvert_exporter": "python",
   "pygments_lexer": "ipython3",
   "version": "3.5.2"
  },
  "livereveal": {
   "start_slideshow_at": "selected",
   "theme": "solarized",
   "transition": "slide"
  }
 },
 "nbformat": 4,
 "nbformat_minor": 2
}
