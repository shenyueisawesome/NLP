{
 "cells": [
  {
   "cell_type": "code",
   "execution_count": 44,
   "metadata": {
    "collapsed": true,
    "deletable": true,
    "editable": true,
    "slideshow": {
     "slide_type": "skip"
    }
   },
   "outputs": [],
   "source": [
    "from collections import Counter\n",
    "\n",
    "def word_tag_features(sentence):\n",
    "    word_tags = Counter()\n",
    "    for word_tag in sentence:\n",
    "        word_tags[word_tag[0]+\"_\"+word_tag[1]] += 1\n",
    "    return word_tags\n",
    "\n",
    "def tag_tag_features(sentence):\n",
    "    tag_tags = Counter()\n",
    "    for i,word_tag in enumerate(sentence):\n",
    "        if i>0:\n",
    "            tag_tags[sentence[i-1][1] + \"_\" + sentence[i][1]] += 1\n",
    "        else:\n",
    "            tag_tags[str(None)+ \"_\" + sentence[i][1]] += 1\n",
    "    return tag_tags"
   ]
  },
  {
   "cell_type": "markdown",
   "metadata": {
    "deletable": true,
    "editable": true,
    "slideshow": {
     "slide_type": "slide"
    }
   },
   "source": [
    "<center>\n",
    "<h2>Part of speech tagging<br> with the structured perceptron</h2>\n",
    "<p style=\"text-align:center\">\n",
    "Natural Language Processing<br>\n",
    "(COM4513/6513)<br>\n",
    "<br>\n",
    "<a href=\"http://andreasvlachos.github.io\">Andreas Vlachos</a><br>\n",
    "a.vlachos@sheffield.ac.uk<br>\n",
    "<small>Department of Computer Science<br>\n",
    "University of Sheffield\n",
    "</small>\n",
    "</p>\n",
    "</center>"
   ]
  },
  {
   "cell_type": "markdown",
   "metadata": {
    "deletable": true,
    "editable": true,
    "slideshow": {
     "slide_type": "slide"
    }
   },
   "source": [
    "### Parts of speech (PoS)\n",
    "\n",
    "Word labels according to their syntactic function in a sentence:\n",
    "\n",
    "| The       | results  | appear | in          | today| 's         |news |\n",
    "| --------- |----------| -------| ------------|----- |------------|-----|\n",
    "| determiner       | noun     | verb   | preposition | noun | possesssive| noun|"
   ]
  },
  {
   "cell_type": "markdown",
   "metadata": {
    "deletable": true,
    "editable": true,
    "slideshow": {
     "slide_type": "fragment"
    }
   },
   "source": [
    "And how to use an HMM for this:\n",
    "\n",
    "<a href=\"http://www.slideshare.net/priberam/introducing-priberam-labs-machine-learning-and-natural-language-processing\"><img width=\"500\" src=\"images/hmm_pos_crop.png\"></a>"
   ]
  },
  {
   "cell_type": "markdown",
   "metadata": {
    "deletable": true,
    "editable": true,
    "slideshow": {
     "slide_type": "fragment"
    }
   },
   "source": [
    "Problems with the HMM?"
   ]
  },
  {
   "cell_type": "markdown",
   "metadata": {
    "deletable": true,
    "editable": true,
    "slideshow": {
     "slide_type": "slide"
    }
   },
   "source": [
    "### In this lecture\n",
    "\n",
    "Hidden Markov models are very useful, but:\n",
    "- they generate words and labels, we just want labels\n",
    "- no overlapping features (e.g. word bigrams)\n",
    "- no subword features (e.g. suffixes)"
   ]
  },
  {
   "cell_type": "markdown",
   "metadata": {
    "deletable": true,
    "editable": true,
    "slideshow": {
     "slide_type": "fragment"
    }
   },
   "source": [
    "**Structured perceptron**\n",
    "- extend the binary perceptron to label sequences\n",
    "- inexact inference with beam search"
   ]
  },
  {
   "cell_type": "markdown",
   "metadata": {
    "deletable": true,
    "editable": true,
    "slideshow": {
     "slide_type": "slide"
    }
   },
   "source": [
    "### Problem setup\n",
    "\n",
    "Training data is word sequences with label sequences:\n",
    "\n",
    "\\begin{align}\n",
    "D_{train} & = \\{(\\mathbf{x}^1,\\mathbf{y}^1)...(\\mathbf{x}^M,\\mathbf{y}^M)\\} \\\\\n",
    "\\mathbf{x}^m & = [x_1,... x_N]\\\\\n",
    "\\mathbf{y}^m & = [y_1,... y_N]\n",
    "\\end{align}\n",
    "\n",
    "for example:\n",
    "\\begin{align}\n",
    "(\\mathbf{x},\\mathbf{y})=(&[I,studied,in,Sheffield],\\\\\n",
    "&[Pronoun,Verb,Preposition,ProperNoun])\n",
    "\\end{align}"
   ]
  },
  {
   "cell_type": "markdown",
   "metadata": {
    "deletable": true,
    "editable": true,
    "slideshow": {
     "slide_type": "fragment"
    }
   },
   "source": [
    "Learn a model that predicts the best label sequence:\n",
    "\\begin{align}\n",
    "\\mathbf{\\hat y} = \\mathop{\\arg \\max}\\limits_{\\mathbf{y} \\in \\cal Y^N} score(\\mathbf{x},\\mathbf{y})\n",
    "\\end{align}"
   ]
  },
  {
   "cell_type": "markdown",
   "metadata": {
    "deletable": true,
    "editable": true,
    "slideshow": {
     "slide_type": "slide"
    }
   },
   "source": [
    "### Could we use the perceptron?"
   ]
  },
  {
   "cell_type": "markdown",
   "metadata": {
    "deletable": true,
    "editable": true,
    "slideshow": {
     "slide_type": "fragment"
    }
   },
   "source": [
    "**Yes!**\n",
    "\n",
    "Decompose the per sentence $\\mathbf{x}= [x_1,... x_N]$ prediction:\n",
    "$$\n",
    "\\mathbf{\\hat y} = \\mathop{\\arg \\max}\\limits_{\\mathbf{y} \\in \\cal Y^N} score(\\mathbf{x},\\mathbf{y})\n",
    "$$\n",
    "\n",
    "into each word $x_n$:\n",
    "$$\n",
    "\\hat y_n = \\mathop{\\arg \\max}\\limits_{y \\in \\cal Y} score(x_n) =  \\mathop{\\arg \\max}\\limits_{y \\in \\cal Y} \\mathbf{w}^y\\phi(x_n)\n",
    "$$\n",
    "\n",
    "- break sentences into words each labeled by its PoS\n",
    "- each word becomes a (tiny) bag-of-words/features\n",
    "- learn one set of weights per tag $\\mathbf{w}^y$"
   ]
  },
  {
   "cell_type": "markdown",
   "metadata": {
    "deletable": true,
    "editable": true,
    "slideshow": {
     "slide_type": "fragment"
    }
   },
   "source": [
    "Anything missing?"
   ]
  },
  {
   "cell_type": "markdown",
   "metadata": {
    "deletable": true,
    "editable": true,
    "slideshow": {
     "slide_type": "slide"
    }
   },
   "source": [
    "### How to add context\n",
    "\n",
    "Instead of:\n",
    "$\\hat y_n = \\mathop{\\arg \\max}\\limits_{y \\in \\cal Y} \\mathbf{w}^y\\phi(x_n)$\n",
    "\n",
    "Try this:\n",
    "$\\hat y = \\mathop{\\arg \\max}\\limits_{y \\in \\cal Y} \\mathbf{w}^y\\phi(\\mathbf{x},n)$\n",
    "\n",
    "$\\phi(\\mathbf{x},n)$: extract features about word $n$ in sentence $\\mathbf{x}$. Ideas?"
   ]
  },
  {
   "cell_type": "markdown",
   "metadata": {
    "deletable": true,
    "editable": true,
    "slideshow": {
     "slide_type": "subslide"
    }
   },
   "source": [
    "### Example"
   ]
  },
  {
   "cell_type": "code",
   "execution_count": 1,
   "metadata": {
    "collapsed": false,
    "deletable": true,
    "editable": true,
    "slideshow": {
     "slide_type": "-"
    }
   },
   "outputs": [],
   "source": [
    "sentence = [(\"I\", \"PRP\"), (\"studied\", \"VBD\"), (\"in\", \"IN\"), (\"Sheffield\", \"NNP\"), (\"in\", \"IN\"), (\"the\", \"DT\"), (\"Diamond\",\"NNP\")]\n",
    "n = 1"
   ]
  },
  {
   "cell_type": "code",
   "execution_count": 6,
   "metadata": {
    "collapsed": false,
    "deletable": true,
    "editable": true,
    "slideshow": {
     "slide_type": "fragment"
    }
   },
   "outputs": [
    {
     "data": {
      "text/plain": [
       "'studied'"
      ]
     },
     "execution_count": 6,
     "metadata": {},
     "output_type": "execute_result"
    }
   ],
   "source": [
    "# current word\n",
    "sentence[n][0]"
   ]
  },
  {
   "cell_type": "code",
   "execution_count": 9,
   "metadata": {
    "collapsed": false,
    "deletable": true,
    "editable": true,
    "slideshow": {
     "slide_type": "fragment"
    }
   },
   "outputs": [
    {
     "data": {
      "text/plain": [
       "'I_studied'"
      ]
     },
     "execution_count": 9,
     "metadata": {},
     "output_type": "execute_result"
    }
   ],
   "source": [
    "# previous+current word\n",
    "sentence[n-1][0]+\"_\"+sentence[n][0]"
   ]
  },
  {
   "cell_type": "code",
   "execution_count": 11,
   "metadata": {
    "collapsed": false,
    "deletable": true,
    "editable": true,
    "slideshow": {
     "slide_type": "fragment"
    }
   },
   "outputs": [
    {
     "data": {
      "text/plain": [
       "'ied'"
      ]
     },
     "execution_count": 11,
     "metadata": {},
     "output_type": "execute_result"
    }
   ],
   "source": [
    "# 3-letter suffix\n",
    "sentence[n][0][len(sentence[n][0])-3:]"
   ]
  },
  {
   "cell_type": "markdown",
   "metadata": {
    "deletable": true,
    "editable": true,
    "slideshow": {
     "slide_type": "fragment"
    }
   },
   "source": [
    "These features should be useful in predicting \"VBD\""
   ]
  },
  {
   "cell_type": "markdown",
   "metadata": {
    "deletable": true,
    "editable": true,
    "slideshow": {
     "slide_type": "slide"
    }
   },
   "source": [
    "### HMM vs perceptron"
   ]
  },
  {
   "cell_type": "markdown",
   "metadata": {
    "deletable": true,
    "editable": true,
    "slideshow": {
     "slide_type": "fragment"
    }
   },
   "source": [
    "both perceptron and HMMs can:\n",
    "- handle word-tag interactions (emission probabilities)\n",
    "\n",
    "perceptron can but HMM cannot handle:\n",
    "- sub-word features\n",
    "- overlapping features (word n-grams)\n",
    "\n",
    "HMM can but perceptron cannot:\n",
    "- handle tag interactions (transition probabilities)"
   ]
  },
  {
   "cell_type": "markdown",
   "metadata": {
    "deletable": true,
    "editable": true,
    "slideshow": {
     "slide_type": "slide"
    }
   },
   "source": [
    "### How to add structure"
   ]
  },
  {
   "cell_type": "markdown",
   "metadata": {
    "deletable": true,
    "editable": true,
    "slideshow": {
     "slide_type": "fragment"
    }
   },
   "source": [
    "Remember the alternative multiclass formulation:\n",
    "\n",
    "$$\\hat y = \\mathop{\\arg \\max}\\limits_{y \\in \\cal Y} (\\mathbf{w} \\cdot \\phi(x,y))$$"
   ]
  },
  {
   "cell_type": "markdown",
   "metadata": {
    "deletable": true,
    "editable": true,
    "slideshow": {
     "slide_type": "fragment"
    }
   },
   "source": [
    "Expand it to a giant linear classifier over $\\mathbf{y} \\in \\cal Y^N$:\n",
    "\n",
    "$$\\mathbf{\\hat y} = \\mathop{\\arg \\max}\\limits_{\\mathbf{y} \\in \\cal Y^N} \\mathbf{w} \\cdot \\Phi(\\mathbf{x},\\mathbf{y})$$\n",
    "\n",
    "$\\Phi$ generates features capturing the compatibility between sentence $\\mathbf{x}$ and tag sequence $\\mathbf{y}$\n",
    "\n",
    "Binary classification task: are $(\\mathbf{x},\\mathbf{y})$ compatible or not. What features?"
   ]
  },
  {
   "cell_type": "markdown",
   "metadata": {
    "deletable": true,
    "editable": true,
    "slideshow": {
     "slide_type": "subslide"
    }
   },
   "source": [
    "### Example"
   ]
  },
  {
   "cell_type": "code",
   "execution_count": 2,
   "metadata": {
    "collapsed": true,
    "deletable": true,
    "editable": true,
    "slideshow": {
     "slide_type": "-"
    }
   },
   "outputs": [],
   "source": [
    "sentence = [(\"I\", \"PRP\"), (\"studied\", \"VBD\"), (\"in\", \"IN\"), (\"Sheffield\", \"NNP\"), (\"in\", \"IN\"), (\"the\", \"DT\"), (\"Diamond\",\"NNP\")]"
   ]
  },
  {
   "cell_type": "code",
   "execution_count": 39,
   "metadata": {
    "collapsed": false,
    "deletable": true,
    "editable": true,
    "slideshow": {
     "slide_type": "fragment"
    }
   },
   "outputs": [
    {
     "name": "stdout",
     "output_type": "stream",
     "text": [
      "Counter({'in_IN': 2, 'Diamond_NNP': 1, 'the_DT': 1, 'studied_VBD': 1, 'I_PRP': 1, 'Sheffield_NNP': 1})\n"
     ]
    }
   ],
   "source": [
    "print(word_tag_features(sentence))"
   ]
  },
  {
   "cell_type": "code",
   "execution_count": 45,
   "metadata": {
    "collapsed": false,
    "deletable": true,
    "editable": true,
    "slideshow": {
     "slide_type": "fragment"
    }
   },
   "outputs": [
    {
     "name": "stdout",
     "output_type": "stream",
     "text": [
      "Counter({'VBD_IN': 1, 'DT_NNP': 1, 'NNP_IN': 1, 'IN_NNP': 1, 'IN_DT': 1, 'PRP_VBD': 1, 'None_PRP': 1})\n"
     ]
    }
   ],
   "source": [
    "print(tag_tag_features(sentence))"
   ]
  },
  {
   "cell_type": "code",
   "execution_count": 33,
   "metadata": {
    "collapsed": false,
    "deletable": true,
    "editable": true,
    "slideshow": {
     "slide_type": "fragment"
    }
   },
   "outputs": [
    {
     "name": "stdout",
     "output_type": "stream",
     "text": [
      "True\n"
     ]
    }
   ],
   "source": [
    "has_verb = None\n",
    "tokens, tags = zip(*sentence)\n",
    "tags = set(tags)\n",
    "has_verb=str('VBD' in tags)\n",
    "print(has_verb)"
   ]
  },
  {
   "cell_type": "markdown",
   "metadata": {
    "deletable": true,
    "editable": true,
    "slideshow": {
     "slide_type": "slide"
    }
   },
   "source": [
    "### Binary perceptron training\n",
    "\n",
    "<p style=\"font-size: 100%; border:3px; width: 90%; border-radius: 25px; background-color:lightgrey; border-style:solid; border-color:black; padding: 0.3em;\">\n",
    "\\begin{align}\n",
    "& \\textbf{Input:} \\; D_{train} = \\{(\\mathbf{x}^1,y^1)...(\\mathbf{x}^M,y^M)\\}\\\\\n",
    "& set\\; \\mathbf{w} = \\mathbf{0} \\\\\n",
    "& \\mathbf{for} \\; (\\mathbf{x},y) \\in D_{train} \\; \\mathbf{do}\\\\\n",
    "& \\quad predict  \\; \\hat y = sign(\\mathbf{w}\\cdot \\phi(\\mathbf{x}))\\\\\n",
    "& \\quad \\mathbf{if} \\; \\hat y \\neq y \\; \\mathbf{then}\\\\\n",
    "& \\quad \\quad update \\; \\mathbf{w} = \\mathbf{w} + y\\phi(\\mathbf{x})\\\\\n",
    "& \\mathbf{return} \\; \\mathbf{w}\n",
    "\\end{align}\n",
    "</p>\n",
    "\n",
    "Learns the compatibility of $x$ with the positive class"
   ]
  },
  {
   "cell_type": "markdown",
   "metadata": {
    "deletable": true,
    "editable": true,
    "slideshow": {
     "slide_type": "subslide"
    }
   },
   "source": [
    "<h3>Structured perceptron training</h3>\n",
    "<p style=\"font-size:100%; border:3px; width: 900px; border-radius: 25px; background-color:lightgrey; border-style:solid; border-color:black; padding: 0.3em;\">\n",
    "\\begin{align}\n",
    "& \\textbf{Input:} \\; D_{train} = \\{(\\mathbf{x}^1,\\mathbf{y}^1)...(\\mathbf{x}^M,\\mathbf{y}^M)\\}\\\\\n",
    "& set\\; \\mathbf{w} = 0 \\\\\n",
    "& \\mathbf{for} \\; (\\mathbf{x},\\mathbf{y}) \\in D_{train} \\; \\mathbf{do}\\\\\n",
    "& \\quad predict  \\; \\mathbf{\\hat y} = \\color{red}{\\mathop{\\arg \\max}\\limits_{\\mathbf{y} \\in \\cal Y^N} \\mathbf{w} \\cdot \\Phi(\\mathbf{x},\\mathbf{y})}\\\\\n",
    "& \\quad \\mathbf{if} \\; \\mathbf{\\hat y} \\neq \\mathbf{y} \\; \\mathbf{then}\\\\\n",
    "& \\quad \\quad update \\; \\mathbf{w} = \\mathbf{w} + \\color{red}{\\Phi(\\mathbf{x},\\mathbf{y}) - \\Phi(\\mathbf{x},\\mathbf{\\hat y})}\\\\\n",
    "& \\mathbf{return} \\; \\mathbf{w}\n",
    "\\end{align}\n",
    "</p>\n",
    "\n",
    "Learns the compatibility of $x$ with the correct labeling"
   ]
  },
  {
   "cell_type": "markdown",
   "metadata": {
    "deletable": true,
    "editable": true,
    "slideshow": {
     "slide_type": "subslide"
    }
   },
   "source": [
    "### Example"
   ]
  },
  {
   "cell_type": "code",
   "execution_count": 67,
   "metadata": {
    "collapsed": false,
    "deletable": true,
    "editable": true,
    "slideshow": {
     "slide_type": "-"
    }
   },
   "outputs": [
    {
     "name": "stdout",
     "output_type": "stream",
     "text": [
      "Counter({'VBD_IN': 1, 'DT_NNP': 1, 'NNP_IN': 1, 'IN_NNP': 1, 'IN_DT': 1, 'PRP_VBD': 1, 'None_PRP': 1})\n"
     ]
    }
   ],
   "source": [
    "sentence_labeling1 = [(\"I\", \"PRP\"), (\"studied\", \"VBD\"), (\"in\", \"IN\"), (\"Sheffield\", \"NNP\"), (\"in\", \"IN\"), (\"the\", \"DT\"), (\"Diamond\",\"NNP\")]\n",
    "feat_correct = tag_tag_features(sentence_labeling1)\n",
    "print(feat_correct)"
   ]
  },
  {
   "cell_type": "code",
   "execution_count": 68,
   "metadata": {
    "collapsed": false,
    "deletable": true,
    "editable": true,
    "slideshow": {
     "slide_type": "fragment"
    }
   },
   "outputs": [
    {
     "name": "stdout",
     "output_type": "stream",
     "text": [
      "Counter({'DT_NNP': 1, 'PRP_NN': 1, 'NNP_IN': 1, 'IN_NNP': 1, 'IN_DT': 1, 'None_PRP': 1, 'NN_IN': 1})\n"
     ]
    }
   ],
   "source": [
    "sentence_labeling2 = [(\"I\", \"PRP\"), (\"studied\", \"NN\"), (\"in\", \"IN\"), (\"Sheffield\", \"NNP\"), (\"in\", \"IN\"), (\"the\", \"DT\"), (\"Diamond\",\"NNP\")]\n",
    "feat_predicted = tag_tag_features(sentence_labeling2)\n",
    "print(feat_predicted)"
   ]
  },
  {
   "cell_type": "code",
   "execution_count": 69,
   "metadata": {
    "collapsed": false,
    "deletable": true,
    "editable": true,
    "slideshow": {
     "slide_type": "fragment"
    }
   },
   "outputs": [
    {
     "name": "stdout",
     "output_type": "stream",
     "text": [
      "Counter({'VBD_IN': 1, 'PRP_VBD': 1, 'DT_NNP': 0, 'IN_DT': 0, 'IN_NNP': 0, 'None_PRP': 0, 'NNP_IN': 0, 'PRP_NN': -1, 'NN_IN': -1})\n"
     ]
    }
   ],
   "source": [
    "feat_diff = Counter(feat_correct)\n",
    "feat_diff.subtract(feat_predicted)\n",
    "print(feat_diff)"
   ]
  },
  {
   "cell_type": "markdown",
   "metadata": {
    "deletable": true,
    "editable": true,
    "slideshow": {
     "slide_type": "slide"
    }
   },
   "source": [
    "### Decoding\n",
    "\n",
    "The main difficulty in training is predicting (decoding):\n",
    "\n",
    "$$ \\mathbf{\\hat y} = \\mathop{\\arg \\max}\\limits_{\\mathbf{y} \\in \\cal Y^N} \\mathbf{w} \\cdot \\Phi(\\mathbf{x},\\mathbf{y})$$\n",
    "\n",
    "Need to enumerate and score all $\\mathbf{y} \\in \\cal Y^N$"
   ]
  },
  {
   "cell_type": "markdown",
   "metadata": {
    "deletable": true,
    "editable": true,
    "slideshow": {
     "slide_type": "fragment"
    }
   },
   "source": [
    "If 1st order Markov assumption:\n",
    "$$\\Phi(\\mathbf{x},\\mathbf{y}) = \\sum_{n=1}^N \\phi(y_n, y_{n-1}, \\mathbf{x}, n) $$\n",
    "then Viterbi (but sum $\\mathbf{w}\\phi$s instead of multiply probabilities)."
   ]
  },
  {
   "cell_type": "markdown",
   "metadata": {
    "deletable": true,
    "editable": true,
    "slideshow": {
     "slide_type": "fragment"
    }
   },
   "source": [
    "Which of the features we proposed earlier can't be used with 1st order Markov?"
   ]
  },
  {
   "cell_type": "markdown",
   "metadata": {
    "deletable": true,
    "editable": true,
    "slideshow": {
     "slide_type": "slide"
    }
   },
   "source": [
    "### Inexact decoding\n",
    "\n",
    "Viterbi performs exact search (under assumptions):\n",
    "\n",
    "$$ \\mathbf{\\hat y} = \\mathop{\\arg \\max}\\limits_{\\mathbf{y} \\in \\cal Y^N} \\mathbf{w} \\cdot \\Phi(\\mathbf{x},\\mathbf{y})$$\n",
    "by evaluating all options."
   ]
  },
  {
   "cell_type": "markdown",
   "metadata": {
    "deletable": true,
    "editable": true,
    "slideshow": {
     "slide_type": "fragment"
    }
   },
   "source": [
    "Let's get faster by being inexact:\n",
    "\n",
    "$$ \\mathbf{\\hat y} \\approx \\mathop{\\arg \\max}\\limits_{\\mathbf{y} \\in \\cal Y^N} \\mathbf{w} \\cdot \\Phi(\\mathbf{x},\\mathbf{y})$$\n",
    "by avoiding to score some label sequences."
   ]
  },
  {
   "cell_type": "markdown",
   "metadata": {
    "deletable": true,
    "editable": true,
    "slideshow": {
     "slide_type": "subslide"
    }
   },
   "source": [
    "### Beam search intuition\n",
    "\n",
    "<a href=\"http://slideplayer.com/slide/8593664/\"><img width=\"80%\" src=\"images/beam_pos.jpg\"></a>"
   ]
  },
  {
   "cell_type": "markdown",
   "metadata": {
    "deletable": true,
    "editable": true,
    "slideshow": {
     "slide_type": "subslide"
    }
   },
   "source": [
    "### Beam search algorithm\n",
    "\n",
    "<p style=\"font-size: 100%; border:3px; width: 1000px; border-radius: 25px; background-color:lightgrey; border-style:solid; border-color:black; padding: 0.3em;\">\n",
    "\\begin{align}\n",
    "& \\textbf{Input:} \\; word\\; sequence\\; \\mathbf{x}=[x_1,...,x_N], weights \\; \\mathbf{w}\\\\\n",
    "& set\\; beam \\; B = \\{(\\mathbf{y_{temp}}=[START], score=0)\\}, size \\; k\\\\\n",
    "& \\mathbf{for} \\; n = 1 \\; \\mathbf{to} \\; N \\; \\mathbf{do}\\\\\n",
    "& \\quad B' = \\{\\}\\\\\n",
    "& \\quad \\mathbf{for} \\; b \\in B \\; \\mathbf{do}\\\\\n",
    "& \\quad \\quad \\mathbf{for} \\; y \\in \\cal Y \\; \\mathbf{do}\\\\\n",
    "& \\quad \\quad \\quad score = \\mathbf{w}\\cdot \\Phi(\\mathbf{x}, [b.\\mathbf{y_{temp}}; y]) \\\\\n",
    "& \\quad \\quad \\quad B' = B' \\cup ([b.\\mathbf{y_{temp}}; y], score) \\\\\n",
    "& \\quad B = \\text{TOP-k}(B')\\\\\n",
    "& \\mathbf{return} \\; \\text{TOP-1}(B)\n",
    "\\end{align}\n",
    "</p>"
   ]
  },
  {
   "cell_type": "markdown",
   "metadata": {
    "deletable": true,
    "editable": true,
    "slideshow": {
     "slide_type": "subslide"
    }
   },
   "source": [
    "### Beam Search\n",
    "\n",
    "- If beam size is 1, then we have greedy search\n",
    "- Often beams less than 10 get close to exact search, but much faster\n",
    "- Beams must be of the same length to be comparable\n",
    "- Beam search is attractive when we need complex feature functions i.e. avoid Markov assumptions)"
   ]
  },
  {
   "cell_type": "markdown",
   "metadata": {
    "deletable": true,
    "editable": true,
    "slideshow": {
     "slide_type": "slide"
    }
   },
   "source": [
    "### Bibliography\n",
    "- Kai Zhao's [survey](https://www.gc.cuny.edu/CUNY_GC/media/Computer-Science/Student%20Presentations/Kai%20Zhao/Second_Exam_Survey_Kai_Zhao_12_11_2014.pdf)\n",
    "- Kai Zhao's and Liang Huang's [tutorial slides](http://kaizhao.me/files/perc-tutorial-masc.pdf)\n",
    "- Graham Neubig's [slides on beam search and Viterbi](http://www.phontron.com/slides/nlp-programming-en-13-search.pdf)"
   ]
  },
  {
   "cell_type": "markdown",
   "metadata": {
    "deletable": true,
    "editable": true,
    "slideshow": {
     "slide_type": "slide"
    }
   },
   "source": [
    "### Coming up next\n",
    "Structured perceptron is great, but where are the probabilities gone?\n",
    "\n",
    "Logistic regression, Conditional Random Fields and gradient descent next!"
   ]
  }
 ],
 "metadata": {
  "celltoolbar": "Slideshow",
  "kernelspec": {
   "display_name": "Python 3",
   "language": "python",
   "name": "python3"
  },
  "language_info": {
   "codemirror_mode": {
    "name": "ipython",
    "version": 3
   },
   "file_extension": ".py",
   "mimetype": "text/x-python",
   "name": "python",
   "nbconvert_exporter": "python",
   "pygments_lexer": "ipython3",
   "version": "3.5.2"
  },
  "livereveal": {
   "start_slideshow_at": "selected",
   "theme": "solarized",
   "transition": "slide"
  }
 },
 "nbformat": 4,
 "nbformat_minor": 2
}
