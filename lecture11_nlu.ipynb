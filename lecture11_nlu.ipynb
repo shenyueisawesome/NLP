{
 "cells": [
  {
   "cell_type": "markdown",
   "metadata": {
    "deletable": true,
    "editable": true,
    "slideshow": {
     "slide_type": "slide"
    }
   },
   "source": [
    "<center>\n",
    "<h2>Natural Language Understanding</h2>\n",
    "<p style=\"text-align:center\">\n",
    "Natural Language Processing<br>\n",
    "(COM4513/6513)<br>\n",
    "<br>\n",
    "<a href=\"http://andreasvlachos.github.io\">Andreas Vlachos</a><br>\n",
    "a.vlachos@sheffield.ac.uk<br>\n",
    "<small>Department of Computer Science<br>\n",
    "University of Sheffield\n",
    "</small>\n",
    "</p>\n",
    "</center>"
   ]
  },
  {
   "cell_type": "markdown",
   "metadata": {
    "deletable": true,
    "editable": true,
    "slideshow": {
     "slide_type": "slide"
    }
   },
   "source": [
    "### So far\n",
    "\n",
    "In terms of applications we have seen\n",
    "- language modeling\n",
    "- sentiment analysis\n",
    "- part-of-speech tagging\n",
    "- syntactic dependency parsing\n",
    "- and information extraction (prof. Leidner's guest lecture)"
   ]
  },
  {
   "cell_type": "markdown",
   "metadata": {
    "deletable": true,
    "editable": true,
    "slideshow": {
     "slide_type": "slide"
    }
   },
   "source": [
    "### In this lecture\n",
    "\n",
    "**Natural language understading (NLU)**, i.e. convert natural language to machine-interpretable forms (typically graphs)\n",
    "\n",
    "<img src=\"images/semParse.png\"/>\n",
    "\n",
    "Many reincarnations: semantic parsing, relation extraction,\n",
    "knowledge base population, natural language interfaces to databases..."
   ]
  },
  {
   "cell_type": "markdown",
   "metadata": {
    "deletable": true,
    "editable": true,
    "slideshow": {
     "slide_type": "slide"
    }
   },
   "source": [
    "### Same meaning?\n",
    "\n",
    "- They sold the stock to XYZ corporation.\n",
    "- The stock was bought by XYZ corporation.\n",
    "- XYZ corporation bought the stock.\n",
    "- The purchase of the stock by XYZ corporation...\n",
    "- The stock purchase by XYZ corporation..."
   ]
  },
  {
   "cell_type": "markdown",
   "metadata": {
    "deletable": true,
    "editable": true,
    "slideshow": {
     "slide_type": "fragment"
    }
   },
   "source": [
    "For many applications, **yes**. NLU can be thought of (language) compression"
   ]
  },
  {
   "cell_type": "markdown",
   "metadata": {
    "deletable": true,
    "editable": true,
    "slideshow": {
     "slide_type": "fragment"
    }
   },
   "source": [
    "Words of caution: if we didn't need these different ways of expressing ourselves, we wouldn't have them! "
   ]
  },
  {
   "cell_type": "markdown",
   "metadata": {
    "deletable": true,
    "editable": true,
    "slideshow": {
     "slide_type": "slide"
    }
   },
   "source": [
    "### Representing meaning\n",
    "\n",
    "We are translating **natural language** to a **machine-interpretable representation**.\n",
    "\n",
    "What should this representation look like?"
   ]
  },
  {
   "cell_type": "markdown",
   "metadata": {
    "deletable": true,
    "editable": true,
    "slideshow": {
     "slide_type": "fragment"
    }
   },
   "source": [
    "- no absolute synonymy, thus any meaning representation makes some abstractions/simplifications\n",
    "- executable (SQL) or just interpretable (a database record)?\n",
    "\n",
    "Depends on the task we tackle."
   ]
  },
  {
   "cell_type": "markdown",
   "metadata": {
    "deletable": true,
    "editable": true,
    "slideshow": {
     "slide_type": "slide"
    }
   },
   "source": [
    "### Different meaning epresentations\n",
    "\n",
    "![](images/ie.png)\n",
    "\n",
    "Represents slot filling templates for events (see Prof. Leidner's lecture)"
   ]
  },
  {
   "cell_type": "markdown",
   "metadata": {
    "deletable": true,
    "editable": true,
    "slideshow": {
     "slide_type": "subslide"
    }
   },
   "source": [
    "![](images/dcs.png)\n",
    "\n",
    "Executable representation calculating an answer over a database"
   ]
  },
  {
   "cell_type": "markdown",
   "metadata": {
    "deletable": true,
    "editable": true,
    "slideshow": {
     "slide_type": "subslide"
    }
   },
   "source": [
    "![](images/semParse.png)\n",
    "\n",
    "Useful for virtual personal assistants, such as Siri, Alexa, etc."
   ]
  },
  {
   "cell_type": "markdown",
   "metadata": {
    "deletable": true,
    "editable": true,
    "slideshow": {
     "slide_type": "slide"
    }
   },
   "source": [
    "### A special case of NLU: Relation Extraction\n",
    "\n",
    "Given a sentence as input, e.g.:\n",
    "\n",
    "> Astronomer Edwin Hubble  was born in Marshfield , Missouri "
   ]
  },
  {
   "cell_type": "markdown",
   "metadata": {
    "deletable": true,
    "editable": true,
    "slideshow": {
     "slide_type": "fragment"
    }
   },
   "source": [
    "Predict that *Edwin Hubble* has the `birthplace` relation with *Marshfield , Missouri*. How can we decompose the task?"
   ]
  },
  {
   "cell_type": "markdown",
   "metadata": {
    "deletable": true,
    "editable": true,
    "slideshow": {
     "slide_type": "fragment"
    }
   },
   "source": [
    "1. Named entity recognition: recognize that *Edwin Hubble* is a `person` and *Marshfield , Missouri* is a `location`\n",
    "2. Relation extraction: classify the relation between them as `birthplace`"
   ]
  },
  {
   "cell_type": "markdown",
   "metadata": {
    "deletable": true,
    "editable": true,
    "slideshow": {
     "slide_type": "slide"
    }
   },
   "source": [
    "### Named entity recognition\n",
    "\n",
    "Can be solved as?"
   ]
  },
  {
   "cell_type": "markdown",
   "metadata": {
    "deletable": true,
    "editable": true,
    "slideshow": {
     "slide_type": "fragment"
    }
   },
   "source": [
    "Sequence labeling:\n",
    "\n",
    "| Astronomer| Edwin    | Hubble  | was | born | in   |Marshfield | , | Missouri|\n",
    "| --------- |----------| ------- | ----|----- |------|---------- |---|-----|\n",
    "| O         |B-Person  | I-Person| O   | O    | O    | B-Location| I-Location | I-Location |"
   ]
  },
  {
   "cell_type": "markdown",
   "metadata": {
    "deletable": true,
    "editable": true,
    "slideshow": {
     "slide_type": "fragment"
    }
   },
   "source": [
    "Algorithms? <span class=\"fragment\">Hidden Markov models, structured perceptron, conditional random fields,...</span>"
   ]
  },
  {
   "cell_type": "markdown",
   "metadata": {
    "deletable": true,
    "editable": true,
    "slideshow": {
     "slide_type": "fragment"
    }
   },
   "source": [
    "Features? <span class=\"fragment\">Label bigrams, word-label features, etc.</span>"
   ]
  },
  {
   "cell_type": "markdown",
   "metadata": {
    "deletable": true,
    "editable": true,
    "slideshow": {
     "slide_type": "slide"
    }
   },
   "source": [
    "### Relation extraction"
   ]
  },
  {
   "cell_type": "markdown",
   "metadata": {
    "deletable": true,
    "editable": true,
    "slideshow": {
     "slide_type": "fragment"
    }
   },
   "source": [
    "Learn a binary classifier from labeled data."
   ]
  },
  {
   "cell_type": "markdown",
   "metadata": {
    "deletable": true,
    "editable": true,
    "slideshow": {
     "slide_type": "fragment"
    }
   },
   "source": [
    "Positive example for `birthplace`:\n",
    "> Astronomer *Edwin Hubble*  was born in *Marshfield , Missouri*\n",
    "\n",
    "Negative example for `birthplace`:\n",
    "\n",
    "> *Edwin Hubble* studied in *Chicago*"
   ]
  },
  {
   "cell_type": "markdown",
   "metadata": {
    "deletable": true,
    "editable": true,
    "slideshow": {
     "slide_type": "fragment"
    }
   },
   "source": [
    "Could handle multiple relation types by learning a multiclass classifier: one class per relation of interest and None for all others."
   ]
  },
  {
   "cell_type": "markdown",
   "metadata": {
    "deletable": true,
    "editable": true,
    "slideshow": {
     "slide_type": "subslide"
    }
   },
   "source": [
    "### Relation extraction\n",
    "\n",
    "\\begin{align}\n",
    "& \\textbf{Input:} \\; D_{train} = \\{(\\mathbf{x}^1,G_\\mathbf{x}^1)...(\\mathbf{x}^M,G_\\mathbf{x}^M)\\}\\\\\n",
    "& set \\; rel_{train} = \\emptyset \\\\\n",
    "& \\mathbf{for} \\; (\\mathbf{x},G_\\mathbf{x}) \\in D_{train} \\; \\mathbf{do}\\\\\n",
    "& \\quad \\text{find entities} \\; E = NER(\\mathbf{x})\\\\\n",
    "& \\quad \\mathbf{for} \\; (e_1, e_2) \\in E \\times E \\; \\mathbf{do}\\\\\n",
    "& \\quad \\quad rel_{train} = rel_{train} \\cup (\\phi(\\mathbf{x}, e_1, e_2), label(e_1,e_2,G_\\mathbf{x})) \\\\\n",
    "& \\textbf{return} \\: \\text{classifier trained on}\\; rel_{train}\n",
    "\\end{align}\n",
    "\n",
    "$G_\\mathbf{x}$ is the gold standard for each sentence containing the relations among the entities."
   ]
  },
  {
   "cell_type": "markdown",
   "metadata": {
    "deletable": true,
    "editable": true,
    "slideshow": {
     "slide_type": "subslide"
    }
   },
   "source": [
    "### Features for birthplace?\n",
    "\n",
    "![](images/tikz/RE_parsed.png)"
   ]
  },
  {
   "cell_type": "markdown",
   "metadata": {
    "deletable": true,
    "editable": true,
    "slideshow": {
     "slide_type": "fragment"
    }
   },
   "source": [
    "![](images/reFeatures_table.png)"
   ]
  },
  {
   "cell_type": "markdown",
   "metadata": {
    "deletable": true,
    "editable": true,
    "slideshow": {
     "slide_type": "subslide"
    }
   },
   "source": [
    "### Joint Inference\n",
    "\n",
    "Relations and entities have correlations: `birthplaces` are more likely to co-occur with\n",
    "`locations` rather than `companies`."
   ]
  },
  {
   "cell_type": "markdown",
   "metadata": {
    "deletable": true,
    "editable": true,
    "slideshow": {
     "slide_type": "fragment"
    }
   },
   "source": [
    "More complex argmax/inference: consider all possible sequence labelings for NER and relation classifications.\n",
    "\n",
    "![](images/tikz/RE+NER.png)\n",
    "\n",
    "Most common approach is to use a structured perceptron with beam search."
   ]
  },
  {
   "cell_type": "markdown",
   "metadata": {
    "deletable": true,
    "editable": true,
    "slideshow": {
     "slide_type": "subslide"
    }
   },
   "source": [
    "### Distant supervision\n",
    "\n",
    "An idea re-invented multiple times:\n",
    "\n",
    "> If two entities have a relation in the knowledge base,\n",
    "then all sentences they are mentioned expresses this relation\n",
    "\n",
    "Used to generate noisy labeled sentences instead of annotating them manually. Why noisy?"
   ]
  },
  {
   "cell_type": "markdown",
   "metadata": {
    "deletable": true,
    "editable": true,
    "slideshow": {
     "slide_type": "fragment"
    }
   },
   "source": [
    "Assumption not always true, e.g. `presidentOf(Trump, USA)`: \t\n",
    "- *Trump*, president of the *United States*...\n",
    "- *Trump*, returning to the *United States*..."
   ]
  },
  {
   "cell_type": "markdown",
   "metadata": {
    "deletable": true,
    "editable": true,
    "slideshow": {
     "slide_type": "slide"
    }
   },
   "source": [
    "### Which Trump do you mean?\n",
    "\n",
    "![](images/trump.png)"
   ]
  },
  {
   "cell_type": "markdown",
   "metadata": {
    "deletable": true,
    "editable": true,
    "slideshow": {
     "slide_type": "fragment"
    }
   },
   "source": [
    "**Named Entity Linking**:\n",
    "- match a named entity to a knowledge base entry, e.g. Wikipedia, Freebase, etc.\n",
    "- a classification task: each knowledge base entry is a label; given the name, only few are relevant\n",
    "- features? <span class=\"fragment\">words around the named entity, overlap with the description in the knowledge base, etc.</span>"
   ]
  },
  {
   "cell_type": "markdown",
   "metadata": {
    "deletable": true,
    "editable": true,
    "slideshow": {
     "slide_type": "slide"
    }
   },
   "source": [
    "### Machine translation vs Natural Language Understanding\n",
    "\n",
    "We translating from natural language to a machine interpretable one.\n",
    "\n",
    "Why not just use machine translation (we will see it after the break)?\n",
    "- MT systems assume plenty of data (think European parliament proceedings), NLU doesn't\n",
    "- machines are not flexible in interpreting language, small errors can be catastrophic\n",
    "- nevertheless it can work well on simple [datasets](http://www.anthology.aclweb.org/P/P13/P13-2009.pdf)"
   ]
  },
  {
   "cell_type": "markdown",
   "metadata": {
    "deletable": true,
    "editable": true,
    "slideshow": {
     "slide_type": "slide"
    }
   },
   "source": [
    "### Towards a dialog system\n",
    "\n",
    "NL understanding is half of the problem, a.k.a.:\n",
    "- dialog state tracking\n",
    "- spoken language understanding\n",
    "\n",
    "Natural langauge generation is the other half.\n",
    "\n",
    "Guest lecture after the break is on it."
   ]
  },
  {
   "cell_type": "markdown",
   "metadata": {
    "deletable": true,
    "editable": true,
    "slideshow": {
     "slide_type": "slide"
    }
   },
   "source": [
    "### Bibliography\n",
    "\n",
    "We went through most of [chapter 21](https://web.stanford.edu/~jurafsky/slp3/21.pdf) of J&M."
   ]
  },
  {
   "cell_type": "markdown",
   "metadata": {
    "deletable": true,
    "editable": true,
    "slideshow": {
     "slide_type": "slide"
    }
   },
   "source": [
    "### Coming up next\n",
    "\n",
    "Distributed representations, a.k.a. word embeddings"
   ]
  }
 ],
 "metadata": {
  "celltoolbar": "Slideshow",
  "kernelspec": {
   "display_name": "Python 3",
   "language": "python",
   "name": "python3"
  },
  "language_info": {
   "codemirror_mode": {
    "name": "ipython",
    "version": 3
   },
   "file_extension": ".py",
   "mimetype": "text/x-python",
   "name": "python",
   "nbconvert_exporter": "python",
   "pygments_lexer": "ipython3",
   "version": "3.5.2"
  },
  "livereveal": {
   "start_slideshow_at": "selected",
   "theme": "solarized",
   "transition": "slide"
  }
 },
 "nbformat": 4,
 "nbformat_minor": 2
}
