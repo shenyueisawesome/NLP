{
 "cells": [
  {
   "cell_type": "code",
   "execution_count": 2,
   "metadata": {
    "collapsed": true,
    "deletable": true,
    "editable": true,
    "slideshow": {
     "slide_type": "skip"
    }
   },
   "outputs": [],
   "source": [
    "import math\n",
    "\n",
    "def sigmoid(x):\n",
    "    a = []\n",
    "    for item in x:\n",
    "        a.append(1/(1+math.exp(-item)))\n",
    "    return a\n",
    "\n",
    "import matplotlib.pyplot as plt\n",
    "import numpy as np"
   ]
  },
  {
   "cell_type": "markdown",
   "metadata": {
    "deletable": true,
    "editable": true,
    "slideshow": {
     "slide_type": "slide"
    }
   },
   "source": [
    "<center>\n",
    "<h2>Logistic Regression<br>and Conditional Random Fields</h2>\n",
    "<p style=\"text-align:center\">\n",
    "Natural Language Processing<br>\n",
    "(COM4513/6513)<br>\n",
    "<br>\n",
    "<a href=\"http://andreasvlachos.github.io\">Andreas Vlachos</a><br>\n",
    "a.vlachos@sheffield.ac.uk<br>\n",
    "<small>Department of Computer Science<br>\n",
    "University of Sheffield\n",
    "</small>\n",
    "</p>\n",
    "</center>"
   ]
  },
  {
   "cell_type": "markdown",
   "metadata": {
    "deletable": true,
    "editable": true,
    "slideshow": {
     "slide_type": "slide"
    }
   },
   "source": [
    "### Sequence labeling\n",
    "\n",
    "Parts of speech (PoS):\n",
    "\n",
    "| The       | results  | appear | in          | today| 's         |news |\n",
    "| --------- |----------| -------| ------------|----- |------------|-----|\n",
    "| determiner       | noun     | verb   | preposition | noun | possesssive| noun|\n",
    "\n",
    "Other tasks?"
   ]
  },
  {
   "cell_type": "markdown",
   "metadata": {
    "deletable": true,
    "editable": true,
    "slideshow": {
     "slide_type": "fragment"
    }
   },
   "source": [
    "Named entity recognition\n",
    "\n",
    "| I       | studied  | in | Sheffield  | with| Mark   |Stevenson |\n",
    "| ------- |----------| ---| -----------|-----|--------|-----|\n",
    "| O       | O        | O  | B-Location | O   |B-Person| I-Person|\n",
    "\n",
    "**B**egin, **I**nside, **O**utside named entity type: Person, Location, Organization, etc."
   ]
  },
  {
   "cell_type": "markdown",
   "metadata": {
    "deletable": true,
    "editable": true,
    "slideshow": {
     "slide_type": "slide"
    }
   },
   "source": [
    "### Hidden Markov Models\n",
    "\n",
    "<a href=\"http://www.slideshare.net/priberam/introducing-priberam-labs-machine-learning-and-natural-language-processing\"><img width=\"500\" src=\"images/hmm_pos_crop.png\"></a>\n",
    "\n",
    "$\\mathbf{\\hat y} = \\mathop{\\arg \\max}\\limits_{\\mathbf{y} \\in \\cal Y^N} \\prod_{n=1}^NP(x_n|y_n)P(y_n|y_{n-1})$"
   ]
  },
  {
   "cell_type": "markdown",
   "metadata": {
    "deletable": true,
    "editable": true,
    "slideshow": {
     "slide_type": "fragment"
    }
   },
   "source": [
    "- 1st order Markov assumption on the tags\n",
    "- each word depends only on its tag\n",
    "- Don't evaluate $|{\\cal Y}^N|$, use Viterbi"
   ]
  },
  {
   "cell_type": "markdown",
   "metadata": {
    "deletable": true,
    "editable": true,
    "slideshow": {
     "slide_type": "slide"
    }
   },
   "source": [
    "### Structured perceptron\n",
    "\n",
    "A giant linear classifier over $\\mathbf{y} \\in \\cal Y^N$:\n",
    "\n",
    "$$\\mathbf{\\hat y} = \\mathop{\\arg \\max}\\limits_{\\mathbf{y} \\in \\cal Y^N} \\mathbf{w} \\cdot \\Phi(\\mathbf{x},\\mathbf{y})$$\n",
    "\n",
    "$\\Phi$ generates features capturing the compatibility between sentence $\\mathbf{x}$ and tag sequence $\\mathbf{y}$"
   ]
  },
  {
   "cell_type": "markdown",
   "metadata": {
    "deletable": true,
    "editable": true,
    "slideshow": {
     "slide_type": "fragment"
    }
   },
   "source": [
    "- Any features we want\n",
    "- Exact search with Viterbi if 1st Markov assumption\n",
    "- Inexact search with beam search for feature flexibility"
   ]
  },
  {
   "cell_type": "markdown",
   "metadata": {
    "deletable": true,
    "editable": true,
    "slideshow": {
     "slide_type": "slide"
    }
   },
   "source": [
    "### In this lecture\n",
    "\n",
    "Hidden Markov models are very useful, but:\n",
    "- generate words and labels, we only want labels\n",
    "- no overlapping features (e.g. no word bigrams)\n",
    "\n",
    "Structured perceptron has feature flexibility, but no probabilities.\n",
    "\n",
    "Conditional models address this. Three steps: \n",
    "1. Logistic regression classifier\n",
    "2. Gradient-based optimization\n",
    "3. Conditional Random Fields\n"
   ]
  },
  {
   "cell_type": "markdown",
   "metadata": {
    "deletable": true,
    "editable": true,
    "slideshow": {
     "slide_type": "slide"
    }
   },
   "source": [
    "### Binary linear classification setup\n",
    "\n",
    "Given training instances with the correct labels $y^m \\in \\{-1,1\\}$\n",
    "\n",
    "$$D_{train} = \\{\\mathbf{x}^1,y^1)...(\\mathbf{x}^M,y^M)\\}$$\n",
    "\n",
    "Find the weights $\\mathbf{w}$ for the linear classifier\n",
    "\n",
    "$$\\hat y = sign(\\sum_{n=1}^N w_nx_n) = sign(\\mathbf{w} \\cdot \\mathbf{x})$$\n",
    "\n",
    "so that we can predict the labels of **unseen** documents\n"
   ]
  },
  {
   "cell_type": "markdown",
   "metadata": {
    "deletable": true,
    "editable": true,
    "slideshow": {
     "slide_type": "slide"
    }
   },
   "source": [
    "### From scores to probabilities\n",
    "\n",
    "score for the positive class:\n",
    "$$score_{perc}(\\mathbf{x};\\mathbf{w}) = \\mathbf{w} \\cdot \\mathbf{x}$$"
   ]
  },
  {
   "cell_type": "markdown",
   "metadata": {
    "deletable": true,
    "editable": true,
    "slideshow": {
     "slide_type": "fragment"
    }
   },
   "source": [
    "probability for the positive class:\n",
    "$$P(y=1|\\mathbf{x};\\mathbf{w}) = sigmoid(\\mathbf{w} \\cdot \\mathbf{x}) =  \\frac{1}{1+exp(-\\mathbf{w} \\cdot \\mathbf{x})} $$"
   ]
  },
  {
   "cell_type": "code",
   "execution_count": 4,
   "metadata": {
    "collapsed": false,
    "deletable": true,
    "editable": true,
    "slideshow": {
     "slide_type": "fragment"
    }
   },
   "outputs": [
    {
     "data": {
      "image/png": "[encoded data removed]",
      "text/plain": [
       "<matplotlib.figure.Figure at 0x7f29dcb54630>"
      ]
     },
     "metadata": {},
     "output_type": "display_data"
    }
   ],
   "source": [
    "x = np.arange(-10., 10., 0.2)\n",
    "sig = sigmoid(x)\n",
    "plt.plot(x,sig)\n",
    "plt.grid()\n",
    "plt.show()"
   ]
  },
  {
   "cell_type": "markdown",
   "metadata": {
    "deletable": true,
    "editable": true,
    "slideshow": {
     "slide_type": "subslide"
    }
   },
   "source": [
    "### From binary to multiclass\n",
    "\n",
    "Binary logistic regression using feature function $\\phi$:\n",
    "$$P_{BLR}(y=1|x;\\mathbf{w}) = \\frac{1}{1+exp(-\\mathbf{w} \\cdot \\phi(x))} $$"
   ]
  },
  {
   "cell_type": "markdown",
   "metadata": {
    "deletable": true,
    "editable": true,
    "slideshow": {
     "slide_type": "fragment"
    }
   },
   "source": [
    "Multiclass logistic regression (weights on compatibility features):\n",
    "\n",
    "$$P_{MLR}(y=\\hat y|x;\\mathbf{w}) = \\frac{\\exp(\\mathbf{w} \\cdot \\phi(x,\\hat y))}{\\sum_{y'\\in \\cal Y}\\exp(\\mathbf{w} \\cdot \\phi(x,y'))} $$"
   ]
  },
  {
   "cell_type": "markdown",
   "metadata": {
    "deletable": true,
    "editable": true,
    "slideshow": {
     "slide_type": "fragment"
    }
   },
   "source": [
    "or equivalently (weights per class):\n",
    "\n",
    "$$P_{MLR}(y=\\hat y|x;\\mathbf{w}) = \\frac{\\exp(\\mathbf{w}^{\\hat y} \\cdot \\phi(x))}{\\sum_{y'\\in \\cal Y}\\exp(\\mathbf{w}^{y'} \\cdot \\phi(x))} $$\n"
   ]
  },
  {
   "cell_type": "markdown",
   "metadata": {
    "deletable": true,
    "editable": true,
    "slideshow": {
     "slide_type": "subslide"
    }
   },
   "source": [
    "### Logistic regression vs perceptron classification\n",
    "\n",
    "Questions:\n",
    "- same feature flexibility?\n",
    "- given the same $\\textbf{w}$, same decision $\\hat y$?\n",
    "- same interpretation of scores?"
   ]
  },
  {
   "cell_type": "markdown",
   "metadata": {
    "deletable": true,
    "editable": true,
    "slideshow": {
     "slide_type": "fragment"
    }
   },
   "source": [
    "Answers:\n",
    "- Yes: same $\\phi$ definition\n",
    "- Yes: $\\mathop{\\arg \\max}\\limits_{\\hat y \\in \\cal Y} P_{MLR}(y=\\hat y|x,\\mathbf{w}) = \\mathop{\\arg \\max}\\limits_{y \\in \\cal Y} score_{perc}(x;\\mathbf{w}^{\\hat y})$\n",
    "- No: a score in the perceptron is just bigger than another score"
   ]
  },
  {
   "cell_type": "markdown",
   "metadata": {
    "deletable": true,
    "editable": true,
    "slideshow": {
     "slide_type": "slide"
    }
   },
   "source": [
    "### Training\n",
    "\n",
    "What $\\mathbf{w}$ best fits $D_{train} = \\{(x_1,y_1)... (x_N, y_N)\\}$?"
   ]
  },
  {
   "cell_type": "markdown",
   "metadata": {
    "deletable": true,
    "editable": true,
    "slideshow": {
     "slide_type": "fragment"
    }
   },
   "source": [
    "The $\\mathbf{w}^{\\star} \\in \\cal \\Re^d$ ($d=$ number of features) maximizing log-likelihood:\n",
    "\n",
    "$$\\mathbf{w}^{\\star} = \\mathop{\\arg \\max}\\limits_{\\mathbf{w}} L(\\mathbf{w};D_{train}) = \\mathop{\\arg \\max}\\limits_{\\mathbf{w}} \\sum_{n=1}^N \\log P_{LR}(y_n|x_n;\\mathbf{w})$$\n",
    "\n",
    "Not enough to avoid mistakes, make them unlikely!"
   ]
  },
  {
   "cell_type": "markdown",
   "metadata": {
    "deletable": true,
    "editable": true,
    "slideshow": {
     "slide_type": "subslide"
    }
   },
   "source": [
    "### Numerical Optimization\n",
    "\n",
    "is the research field that studies how to max/min-imize the value of a function $f(x)$ by changing $x$."
   ]
  },
  {
   "cell_type": "markdown",
   "metadata": {
    "deletable": true,
    "editable": true,
    "slideshow": {
     "slide_type": "fragment"
    }
   },
   "source": [
    "In our case (and a lot of supervised machine learning):\n",
    "\n",
    "$$\\mathbf{w}^{\\star} = \\mathop{\\arg \\max}\\limits_{\\mathbf{w}} LogLikelihood(\\mathbf{w};D_{train})$$"
   ]
  },
  {
   "cell_type": "markdown",
   "metadata": {
    "deletable": true,
    "editable": true,
    "slideshow": {
     "slide_type": "fragment"
    }
   },
   "source": [
    "Binary logistic regression has one parameter per features, many parameters!\n",
    "\n",
    "Let's look at a simpler case:\n",
    "$$x^\\star = \\mathop{\\arg \\max}\\limits_{x \\in \\Re} f(x), f(x)=x^2$$"
   ]
  },
  {
   "cell_type": "markdown",
   "metadata": {
    "deletable": true,
    "editable": true,
    "slideshow": {
     "slide_type": "subslide"
    }
   },
   "source": [
    "### Random optimization"
   ]
  },
  {
   "cell_type": "code",
   "execution_count": 10,
   "metadata": {
    "collapsed": false,
    "deletable": true,
    "editable": true,
    "slideshow": {
     "slide_type": "-"
    }
   },
   "outputs": [
    {
     "data": {
      "image/png": "[encoded data removed]",
      "text/plain": [
       "<matplotlib.figure.Figure at 0x7fe1f481cf28>"
      ]
     },
     "metadata": {},
     "output_type": "display_data"
    }
   ],
   "source": [
    "x = np.random.uniform(low=-1.0, high=1.0, size=100) \n",
    "y = np.square(x)\n",
    "plt.scatter(x,y)\n",
    "plt.grid()\n",
    "plt.show()"
   ]
  },
  {
   "cell_type": "markdown",
   "metadata": {
    "deletable": true,
    "editable": true,
    "slideshow": {
     "slide_type": "fragment"
    }
   },
   "source": [
    "Works if try many parameter values and evaluate them! \n",
    "\n",
    "With many parameters and their combination not so useful."
   ]
  },
  {
   "cell_type": "markdown",
   "metadata": {
    "deletable": true,
    "editable": true,
    "slideshow": {
     "slide_type": "subslide"
    }
   },
   "source": [
    "### Gradient-based optimization\n",
    "\n",
    "How can we use the knowledge that $f(x)=x^2$ in selecting points?"
   ]
  },
  {
   "cell_type": "markdown",
   "metadata": {
    "deletable": true,
    "editable": true,
    "slideshow": {
     "slide_type": "fragment"
    }
   },
   "source": [
    "Gradient of the function f w.r.t to parameter x:\n",
    "$$\\nabla _x f(x) $$\n",
    "When evaluated at $x_k$:\n",
    "- $sign(\\nabla _x f(x))$ tells us if by increasing x, f(x) will increase (+) or decrease (-)\n",
    "- $|\\nabla _x f(x)|$ tells us how fast the in/de-crease will be"
   ]
  },
  {
   "cell_type": "markdown",
   "metadata": {
    "deletable": true,
    "editable": true,
    "slideshow": {
     "slide_type": "fragment"
    }
   },
   "source": [
    "What does it mean if the gradient at $x_k$ is 0?"
   ]
  },
  {
   "cell_type": "markdown",
   "metadata": {
    "deletable": true,
    "editable": true,
    "slideshow": {
     "slide_type": "subslide"
    }
   },
   "source": [
    "### Gradient-based optimization\n",
    "\n",
    "<a href=\"http://bestmaths.net/online/index.php/year-levels/year-12/year-12-topic-list/first-principles/\"><img src=\"images/Y12_Differentiation_from_First_Principles_02.gif\"></a>\n",
    "\n",
    "$f(x)=x^2$\n",
    "\n",
    "$\\nabla_x f(x) = 2x$\n",
    "\n",
    "$f(x)$ is convex, thus if $\\nabla_x f(x_k) = 0$ then $x_k = \\mathop{\\arg \\max}\\limits_{x \\in \\Re} f(x)$"
   ]
  },
  {
   "cell_type": "markdown",
   "metadata": {
    "deletable": true,
    "editable": true,
    "slideshow": {
     "slide_type": "slide"
    }
   },
   "source": [
    "### Gradient descent\n",
    "<p style=\"border:3px; width:1000px; border-radius: 25px; background-color:lightgrey; border-style:solid; border-color:black; padding: 0.3em;\">\n",
    "\\begin{align}\n",
    "& \\textbf{Input:} \\; D_{train} = \\{(x_1,y_1)...(x_N,y_N)\\}, learning \\; rate\\; \\alpha\\\\\n",
    "& initialize\\; \\mathbf{w} \\\\\n",
    "& \\mathbf{while} \\; not \\; converged \\; \\mathbf{do}\\\\\n",
    "& \\quad update \\; \\mathbf{w} = \\mathbf{w} - \\alpha \\nabla_{\\mathbf{w}} NLL(\\mathbf{w};D_{train}) \\\\\n",
    "& \\mathbf{return} \\; \\mathbf{w}\n",
    "\\end{align}\n",
    "</p>"
   ]
  },
  {
   "cell_type": "markdown",
   "metadata": {
    "deletable": true,
    "editable": true,
    "slideshow": {
     "slide_type": "fragment"
    }
   },
   "source": [
    "- minimizing the negative log likelihood ($NLL$) = maximize the likelihood\n",
    "- learning rate shouldn't be too big; more advanced methods adapt it"
   ]
  },
  {
   "cell_type": "markdown",
   "metadata": {
    "deletable": true,
    "editable": true,
    "slideshow": {
     "slide_type": "subslide"
    }
   },
   "source": [
    "### Gradient meaning\n",
    "\n",
    "The gradient wrt to the parameter vector $\\mathbf{w} \\in \\Re^d$ is decomposed into the partial derivatives wrt to each parameter $w_k$:\n",
    "\n",
    "$$\\nabla_{\\mathbf{w}} LL(\\mathbf{w};D_{train}) = (\\frac{\\partial \\sum_{n=1}^N \\log P(y_n|x_n;\\mathbf{w})}{\\partial w_1}, \\ldots, \\frac{\\partial \\sum_{n=1}^N \\log P(y_n|x_n;\\mathbf{w})}{\\partial w_d})$$"
   ]
  },
  {
   "cell_type": "markdown",
   "metadata": {
    "deletable": true,
    "editable": true,
    "slideshow": {
     "slide_type": "fragment"
    }
   },
   "source": [
    "\\begin{align}\n",
    "\\frac{\\partial LL(\\mathbf{w};D_{train})}{\\partial w_d} &= \\frac{\\partial \\sum_{n=1}^N \\log P(y_n|x_n;\\mathbf{w})}{\\partial w_d}\\\\\n",
    "&= ...\\\\\n",
    "&= \\sum_{n=1}^N \\phi_d(x_n,y_n) \\quad \\text{feature sum in training data}  \\\\\n",
    "&- \\sum_{n=1}^N \\sum_{y \\in \\cal Y} P(y|x_n;\\mathbf{w})\\phi_d(x_n,y) \\quad \\text{its expectation}\n",
    "\\end{align}"
   ]
  },
  {
   "cell_type": "markdown",
   "metadata": {
    "deletable": true,
    "editable": true,
    "slideshow": {
     "slide_type": "slide"
    }
   },
   "source": [
    "### Regularization\n",
    "\n",
    "Any model with a lot of features is prone to **overfitting** its training data: high training accuracy, low test accuracy.\n",
    "\n",
    "Avoid it by adding a regularizer in the objective:\n",
    "\n",
    "$$L_{reg}(\\mathbf{w};D_{train}) = L(\\mathbf{w};D_{train}) + \\lambda R(\\mathbf{w})$$"
   ]
  },
  {
   "cell_type": "markdown",
   "metadata": {
    "deletable": true,
    "editable": true,
    "slideshow": {
     "slide_type": "fragment"
    }
   },
   "source": [
    "If $ R(\\mathbf{w}) = \\sum_{k=1}^Kw_k^2$ ($L_2$-regularization) then:\n",
    "\n",
    "$$\\frac{\\partial L_{reg}(\\mathbf{w};D_{train})}{\\partial w_k} = \\frac{\\partial L(\\mathbf{w};D_{train})}{\\partial w_k} - 2\\lambda w_k$$\n",
    "\n",
    "Intuitively: prefer small parameter values, by not updating as much."
   ]
  },
  {
   "cell_type": "markdown",
   "metadata": {
    "deletable": true,
    "editable": true,
    "slideshow": {
     "slide_type": "slide"
    }
   },
   "source": [
    "### Sequence labeling setup\n",
    "\n",
    "Training data is word sequences with label sequences:\n",
    "\n",
    "\\begin{align}\n",
    "D_{train} & = \\{(\\mathbf{x}^1,\\mathbf{y}^1)...(\\mathbf{x}^M,\\mathbf{y}^M)\\} \\\\\n",
    "\\mathbf{x}^m & = [x_1,... x_N]\\\\\n",
    "\\mathbf{y}^m & = [y_1,... y_N]\n",
    "\\end{align}\n",
    "\n",
    "for example:\n",
    "\\begin{align}\n",
    "(\\mathbf{x},\\mathbf{y})=(&[I,studied,in,Sheffield],\\\\\n",
    "&[Pronoun,Verb,Preposition,ProperNoun])\n",
    "\\end{align}"
   ]
  },
  {
   "cell_type": "markdown",
   "metadata": {
    "deletable": true,
    "editable": true,
    "slideshow": {
     "slide_type": "slide"
    }
   },
   "source": [
    "### Conditional random fields\n",
    "\n",
    "The [paper](http://cs.utsa.edu/~qitian/seminar/Spring11/02_11_11/ICML2001.pdf) from 2001 has >11K citations and has won the [10 year test of time award](https://www.ml.cmu.edu/news/news-archive/2011-2015/2011/june/icml-test-time-award-2011.html)\n",
    "\n",
    "A giant logistic regression classifier over sequences:\n",
    "\n",
    "$$P_{CRF}(\\mathbf{y}|\\mathbf{x};\\mathbf{w}) =  \\frac{\\exp(\\mathbf{w} \\cdot \\Phi(\\mathbf{x},\\mathbf{y}))}{\\sum_{\\mathbf{y'}\\in \\cal Y^N}\\exp(\\mathbf{w} \\cdot \\Phi(\\mathbf{x},\\mathbf{y'}))} $$\n",
    "\n",
    "\n",
    "For linear chain (1st order Markov) CRFs:\n",
    "$$\\Phi(\\mathbf{x},\\mathbf{y}) = \\sum_{n=1}^N \\phi(y_n, y_{n-1}, \\mathbf{x}, n)$$\n",
    "\n",
    "Just going from perceptron to structured perceptron?"
   ]
  },
  {
   "cell_type": "markdown",
   "metadata": {
    "deletable": true,
    "editable": true,
    "slideshow": {
     "slide_type": "subslide"
    }
   },
   "source": [
    "### Conditional random fields\n",
    "\n",
    "Inference with Viterbi, normalization factor is ignored:\n",
    "\n",
    "$$ \\mathop{\\arg \\max}\\limits_{\\mathbf{y} \\in \\cal Y^N} P_{CRF}(\\mathbf{y}|\\mathbf{x};\\mathbf{w}) =  \\mathop{\\arg \\max}\\limits_{\\mathbf{y} \\in \\cal Y^N} \\sum_{n=1}^N \\mathbf{w} \\cdot \\phi(y_n, y_{n-1}, \\mathbf{x}, n) $$"
   ]
  },
  {
   "cell_type": "markdown",
   "metadata": {
    "deletable": true,
    "editable": true,
    "slideshow": {
     "slide_type": "fragment"
    }
   },
   "source": [
    "Training by maximizing the log-likelihood objective:\n",
    "\n",
    "$$\\mathbf{w} = \\mathop{\\arg \\max}\\limits_{\\mathbf{w} \\in \\cal \\Re^d} \\sum_{m=1}^M \\log P_{CRF}(\\mathbf{y^m}|\\mathbf{x^m};\\mathbf{w})$$\n",
    "\n",
    "- The normalization factor has to score all possible label sequences for all sentences, expensive even with Viterbi!\n",
    "- Maximize the objective one sentence at a time, a.k.a. **stochastic gradient descent**"
   ]
  },
  {
   "cell_type": "markdown",
   "metadata": {
    "deletable": true,
    "editable": true,
    "slideshow": {
     "slide_type": "slide"
    }
   },
   "source": [
    "### From Naive Bayes to Structured Perceptron\n",
    "\n",
    "<a href=\"http://kaizhao.me/files/perc-tutorial-masc.pdf\"><img src=\"images/binary_to_struct_perceptron.jpg\"></a>"
   ]
  },
  {
   "cell_type": "markdown",
   "metadata": {
    "deletable": true,
    "editable": true,
    "slideshow": {
     "slide_type": "slide"
    }
   },
   "source": [
    "### Bibliography\n",
    "\n",
    "- Michael Collins's [notes](http://www.cs.columbia.edu/~mcollins/crf.pdf)\n",
    "- This [blog post](http://blog.echen.me/2012/01/03/introduction-to-conditional-random-fields/) by Edwin Chen\n",
    "- Xavier Carreras's [lecture slides](http://lxmls.it.pt/2016/strlearn.pdf)\n",
    "- Everything you ever wanted to know about CRFs is in Sutton and McCallum's [tutorial](http://homepages.inf.ed.ac.uk/csutton/publications/crftut-fnt.pdf)"
   ]
  },
  {
   "cell_type": "markdown",
   "metadata": {
    "deletable": true,
    "editable": true,
    "slideshow": {
     "slide_type": "slide"
    }
   },
   "source": [
    "### Coming up next\n",
    "\n",
    "The best-studied, more complex than sequence labeling problem in NLP, syntactic parsing."
   ]
  }
 ],
 "metadata": {
  "celltoolbar": "Slideshow",
  "kernelspec": {
   "display_name": "Python 3",
   "language": "python",
   "name": "python3"
  },
  "language_info": {
   "codemirror_mode": {
    "name": "ipython",
    "version": 3
   },
   "file_extension": ".py",
   "mimetype": "text/x-python",
   "name": "python",
   "nbconvert_exporter": "python",
   "pygments_lexer": "ipython3",
   "version": "3.5.2"
  },
  "livereveal": {
   "start_slideshow_at": "selected",
   "theme": "solarized",
   "transition": "slide"
  }
 },
 "nbformat": 4,
 "nbformat_minor": 2
}
