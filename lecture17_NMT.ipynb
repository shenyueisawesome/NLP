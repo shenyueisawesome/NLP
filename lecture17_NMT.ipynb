{
 "cells": [
  {
   "cell_type": "code",
   "execution_count": 183,
   "metadata": {},
   "outputs": [],
   "source": [
    "import numpy as np\n",
    "import matplotlib.pyplot as plt\n",
    "import seaborn as sns\n",
    "import numpy as np\n",
    "import time\n",
    "from IPython import display\n",
    "%matplotlib inline"
   ]
  },
  {
   "cell_type": "code",
   "execution_count": 184,
   "metadata": {},
   "outputs": [],
   "source": [
    "from scipy.spatial.distance import cosine\n",
    "\n",
    "\n",
    "full_french = np.zeros((len(french_vecs.vocab.keys()), 300))\n",
    "vocab = []\n",
    "i = 0\n",
    "for w in french_vecs.vocab.keys():\n",
    "    full_french[i] = french_vecs[w]\n",
    "    vocab.append(w)\n",
    "    i += 1\n",
    "    \n",
    "def compute_dist(word, model):\n",
    "    model.eval()\n",
    "    dists = []\n",
    "    for w in vocab:\n",
    "        dists.append(cosine(model(torch.from_numpy(eng_vecs[word])).data.numpy(), \n",
    "               french_vecs[w]))\n",
    "    return dists\n",
    "\n",
    "\n",
    "def show_nearest_word(word, model):\n",
    "    return vocab[np.array(compute_dist(word, model)).argmin()]"
   ]
  },
  {
   "cell_type": "code",
   "execution_count": 185,
   "metadata": {},
   "outputs": [],
   "source": [
    "# download vectors from fasttext \n",
    "from sklearn.manifold import TSNE\n",
    "from gensim.models import KeyedVectors \n",
    "\n",
    "def plot_tsne(model):\n",
    "    \"Visualizing the word vectors\"\n",
    "    labels = []\n",
    "    tokens = []\n",
    "\n",
    "    for word in model.vocab.keys():\n",
    "        tokens.append(model[word])\n",
    "        labels.append(word)\n",
    "    \n",
    "    tsne_model = TSNE(perplexity=4, n_components=2,\n",
    "                      n_iter=2500, random_state=2)\n",
    "    new_values = tsne_model.fit_transform(tokens)\n",
    "\n",
    "    x = []\n",
    "    y = []\n",
    "    for value in new_values:\n",
    "        x.append(value[0])\n",
    "        y.append(value[1])\n",
    "        \n",
    "    plt.figure(figsize=(5, 5)) \n",
    "    for i in range(len(x)):\n",
    "        plt.scatter(x[i],y[i])\n",
    "        plt.annotate(labels[i],\n",
    "                     xy=(x[i], y[i]),\n",
    "                     xytext=(5, 2),\n",
    "                     textcoords='offset points',\n",
    "                     ha='right',\n",
    "                     va='bottom')\n",
    "    plt.show()\n",
    "    \n",
    "french_vecs = KeyedVectors.load_word2vec_format('data/french_vecs.txt')\n",
    "eng_vecs = KeyedVectors.load_word2vec_format('data/en_vecs.txt')"
   ]
  },
  {
   "cell_type": "code",
   "execution_count": 194,
   "metadata": {},
   "outputs": [],
   "source": [
    "from __future__ import print_function\n",
    "from itertools import count\n",
    "\n",
    "import torch\n",
    "from torch.autograd import Variable\n",
    "from torch.nn import functional as F\n",
    "import torch.nn as nn\n",
    "import torch.optim as optim\n",
    "from tqdm import tqdm\n",
    "\n",
    "\n",
    "class Mapper(nn.Module):\n",
    "    def __init__(self, dim=300):\n",
    "        super(Mapper, self).__init__()\n",
    "        self.projection = nn.Linear(dim, dim)\n",
    "        \n",
    "    def forward(self, x):\n",
    "        return self.projection(x)\n",
    "    \n",
    "\n",
    "\n",
    "def train(epochs):\n",
    "    torch.manual_seed(123)\n",
    "    model = Mapper().to('cpu')\n",
    "\n",
    "    loss_fn = nn.MSELoss(size_average=False)\n",
    "\n",
    "    optimizer = optim.SGD(model.parameters(), lr=0.01)\n",
    "\n",
    "    enfr_dict = {'king': 'roi',\n",
    "            'queen': 'reine',\n",
    "            'london': 'londres',\n",
    "            'meets': 'rencontre',\n",
    "            'project': 'projet'}\n",
    "    epo = []\n",
    "    elo = []\n",
    "    x = [1, 5, 1, 5, 1, 5, 1, 5, 1, 5]\n",
    "    y = [1, 1, 2, 2, 3, 3, 4, 4, 5, 5]\n",
    "    \n",
    "    for epoch in range(epochs):\n",
    "        lo = []\n",
    "        labels = []\n",
    "        plt.clf()\n",
    "        plt.cla()\n",
    "        plt.close()\n",
    "        plt.figure(figsize=(7, 7))\n",
    "\n",
    "        for en, fr in enfr_dict.items():\n",
    "            model.train()\n",
    "            data, target = (torch.from_numpy(eng_vecs[en]).to('cpu'), \n",
    "                            torch.from_numpy(french_vecs[fr]).to('cpu'))\n",
    "            optimizer.zero_grad()\n",
    "            output = model(data)\n",
    "            labels.append(en)\n",
    "            labels.append(vocab[np.array(compute_dist(en, model=model)).argmin()])\n",
    "            loss = loss_fn(output, target)\n",
    "            loss.backward() \n",
    "            optimizer.step() \n",
    "            lo.append(loss.item())\n",
    "\n",
    "\n",
    "        elo.append((np.average(lo)))\n",
    "        epo.append(epoch)\n",
    "        \n",
    "        \n",
    "        \n",
    "        plt.subplot(1,2,1)\n",
    "        plt.plot(epo, elo)\n",
    "        plt.xlabel('Epoch')\n",
    "        plt.ylabel('Distance')\n",
    "        \n",
    "        \n",
    "        plt.subplot(1,2,2)\n",
    "        for i in range(len(x)):\n",
    "            plt.scatter(x[i],y[i])\n",
    "            plt.annotate(labels[i],\n",
    "                         xy=(x[i], y[i]),\n",
    "                         xytext=(5, 2),\n",
    "                         textcoords='offset points',\n",
    "                         ha='right',\n",
    "                         va='bottom')\n",
    "        plt.axis('off')    \n",
    "        # plt.tight_layout()\n",
    "        display.display(plt.gcf())\n",
    "        display.clear_output(wait=True)\n",
    "        # display.clear_output()\n",
    "        time.sleep(1)\n",
    "        display.clear_output(wait=True)\n",
    "    print('Initial Objective = %5f' % elo[0])\n",
    "    print('Final Objective = %10f' % np.average(lo))\n",
    "    return model\n",
    "    \n",
    "\n",
    "    \n",
    "\n",
    "\n"
   ]
  },
  {
   "cell_type": "code",
   "execution_count": 187,
   "metadata": {},
   "outputs": [],
   "source": [
    "\n",
    "from __future__ import unicode_literals, print_function, division\n",
    "from io import open\n",
    "import unicodedata\n",
    "import string\n",
    "import re\n",
    "import random\n",
    "\n",
    "import torch\n",
    "import torch.nn as nn\n",
    "from torch import optim\n",
    "import torch.nn.functional as F\n",
    "\n",
    "device = torch.device(\"cuda\" if torch.cuda.is_available() else \"cpu\")\n",
    "\n",
    "\n",
    "SOS_token = 0\n",
    "EOS_token = 1\n",
    "\n",
    "\n",
    "class Lang:\n",
    "    def __init__(self, name):\n",
    "        self.name = name\n",
    "        self.word2index = {}\n",
    "        self.word2count = {}\n",
    "        self.index2word = {0: \"SOS\", 1: \"EOS\"}\n",
    "        self.n_words = 2  # Count SOS and EOS\n",
    "\n",
    "    def addSentence(self, sentence):\n",
    "        for word in sentence.split(' '):\n",
    "            self.addWord(word)\n",
    "\n",
    "    def addWord(self, word):\n",
    "        if word not in self.word2index:\n",
    "            self.word2index[word] = self.n_words\n",
    "            self.word2count[word] = 1\n",
    "            self.index2word[self.n_words] = word\n",
    "            self.n_words += 1\n",
    "        else:\n",
    "            self.word2count[word] += 1\n",
    "\n",
    "            \n",
    "lang1 = Lang('fr')\n",
    "lang2 = Lang('en')"
   ]
  },
  {
   "cell_type": "code",
   "execution_count": 188,
   "metadata": {},
   "outputs": [],
   "source": [
    "pairs = [['tu es probablement trop jeune pour le comprendre .',\n",
    "  'you re probably too young to understand this .'],\n",
    " ['je pense apprendre le coreen le semestre prochain .',\n",
    "  'i m thinking of learning korean next semester .'],\n",
    " ['elle trouve toujours a redire aux autres .',\n",
    "  'she is always finding fault with other people .'],\n",
    " ['elle est tres receptive a la suggestion hypnotique .',\n",
    "  'she s very susceptible to hypnotic suggestion .'],\n",
    " ['nous enquetons sur le meurtre de tom jackson .',\n",
    "  'we re investigating the murder of tom jackson .'],\n",
    " ['elle est non seulement belle mais aussi intelligente .',\n",
    "  'she is not only beautiful but also intelligent .'],\n",
    " ['il entreprend des experiences dans son laboratoire .',\n",
    "  'he is carrying out experiments in his laboratory .'],\n",
    " ['j ai quelques difficultes a compiler ce programme .',\n",
    "  'i m having some problems compiling this software .'],\n",
    " ['ils collectent des dons pour l eglise .',\n",
    "  'they are collecting contributions for the church .'],\n",
    " ['il est un des candidats aux presidentielles americaines .',\n",
    "  'he is one of the american presidential candidates .']]\n",
    "\n",
    "\n",
    "for pair in pairs: \n",
    "    lang1.addSentence(pair[0])\n",
    "    lang2.addSentence(pair[1])\n",
    "    \n",
    "MAX_LENGTH = 10"
   ]
  },
  {
   "cell_type": "code",
   "execution_count": 189,
   "metadata": {},
   "outputs": [],
   "source": [
    "class EncoderRNN(nn.Module):\n",
    "    def __init__(self, input_size, hidden_size):\n",
    "        super(EncoderRNN, self).__init__()\n",
    "        self.hidden_size = hidden_size\n",
    "\n",
    "        self.embedding = nn.Embedding(input_size, hidden_size)\n",
    "        self.rnn = nn.RNN(hidden_size, hidden_size)\n",
    "\n",
    "    def forward(self, input, hidden):\n",
    "        embedded = self.embedding(input).view(1, 1, -1)\n",
    "        output = embedded\n",
    "        output, hidden = self.rnn(output, hidden)\n",
    "        return output, hidden\n",
    "\n",
    "    def initHidden(self):\n",
    "        return torch.zeros(1, 1, self.hidden_size, device=device)\n",
    "    \n",
    "    \n",
    "    \n",
    "class DecoderRNN(nn.Module):\n",
    "    def __init__(self, hidden_size, output_size):\n",
    "        super(DecoderRNN, self).__init__()\n",
    "        self.hidden_size = hidden_size\n",
    "\n",
    "        self.embedding = nn.Embedding(output_size, hidden_size)\n",
    "        self.rnn = nn.RNN(hidden_size, hidden_size)\n",
    "        self.out = nn.Linear(hidden_size, output_size)\n",
    "        self.softmax = nn.LogSoftmax(dim=1)\n",
    "\n",
    "    def forward(self, input, hidden):\n",
    "        output = self.embedding(input).view(1, 1, -1)\n",
    "        output = F.relu(output)\n",
    "        output, hidden = self.rnn(output, hidden)\n",
    "        output = self.softmax(self.out(output[0]))\n",
    "        return output, hidden\n",
    "\n",
    "    def initHidden(self):\n",
    "        return torch.zeros(1, 1, self.hidden_size, device=device)\n",
    "\n",
    "    \n",
    "class AttnDecoderRNN(nn.Module):\n",
    "    def __init__(self, hidden_size, output_size, max_length=MAX_LENGTH):\n",
    "        super(AttnDecoderRNN, self).__init__()\n",
    "        self.hidden_size = hidden_size\n",
    "        self.output_size = output_size\n",
    "        self.max_length = max_length\n",
    "\n",
    "        self.embedding = nn.Embedding(self.output_size, self.hidden_size)\n",
    "        self.attn = nn.Linear(self.hidden_size * 2, self.max_length)\n",
    "        self.attn_combine = nn.Linear(self.hidden_size * 2, self.hidden_size)\n",
    "        self.rnn = nn.RNN(self.hidden_size, self.hidden_size)\n",
    "        self.out = nn.Linear(self.hidden_size, self.output_size)\n",
    "\n",
    "    def forward(self, input, hidden, encoder_outputs):\n",
    "        embedded = self.embedding(input).view(1, 1, -1)\n",
    "\n",
    "        attn_weights = F.softmax(\n",
    "            self.attn(torch.cat((embedded[0], hidden[0]), 1)), dim=1)\n",
    "        attn_applied = torch.bmm(attn_weights.unsqueeze(0),\n",
    "                                 encoder_outputs.unsqueeze(0))\n",
    "\n",
    "        output = torch.cat((embedded[0], attn_applied[0]), 1)\n",
    "        output = self.attn_combine(output).unsqueeze(0)\n",
    "\n",
    "        output = F.relu(output)\n",
    "        output, hidden = self.rnn(output, hidden)\n",
    "\n",
    "        output = F.log_softmax(self.out(output[0]), dim=1)\n",
    "        return output, hidden, attn_weights\n",
    "\n",
    "    def initHidden(self):\n",
    "        return torch.zeros(1, 1, self.hidden_size, device=device)\n",
    "\n",
    "# basic pre-processing\n",
    "\n",
    "def indexesFromSentence(lang, sentence):\n",
    "    return [lang.word2index[word] for word in sentence.split(' ')]\n",
    "\n",
    "\n",
    "def tensorFromSentence(lang, sentence):\n",
    "    indexes = indexesFromSentence(lang, sentence)\n",
    "    indexes.append(EOS_token)\n",
    "    return torch.tensor(indexes, dtype=torch.long, device=device).view(-1, 1)\n",
    "\n",
    "\n",
    "def tensorsFromPair(pair):\n",
    "    input_tensor = tensorFromSentence(lang1, pair[0])\n",
    "    target_tensor = tensorFromSentence(lang2, pair[1])\n",
    "    return (input_tensor, target_tensor)\n"
   ]
  },
  {
   "cell_type": "code",
   "execution_count": 190,
   "metadata": {},
   "outputs": [],
   "source": [
    "def trainED(input_tensor, target_tensor, encoder, \n",
    "          decoder, encoder_optimizer, decoder_optimizer, \n",
    "          criterion, max_length=MAX_LENGTH):\n",
    "    encoder_hidden = encoder.initHidden()\n",
    "\n",
    "    encoder_optimizer.zero_grad()\n",
    "    decoder_optimizer.zero_grad()\n",
    "\n",
    "    input_length = input_tensor.size(0)\n",
    "    target_length = target_tensor.size(0)\n",
    "\n",
    "    encoder_outputs = torch.zeros(max_length, \n",
    "                                  encoder.hidden_size, \n",
    "                                  device=device)\n",
    "\n",
    "    loss = 0\n",
    "\n",
    "    for ei in range(input_length):\n",
    "        encoder_output, encoder_hidden = encoder(\n",
    "            input_tensor[ei], encoder_hidden)\n",
    "        encoder_outputs[ei] = encoder_output[0, 0]\n",
    "\n",
    "    decoder_input = torch.tensor([[SOS_token]], device=device)\n",
    "\n",
    "    decoder_hidden = encoder_hidden\n",
    "    \n",
    "    for di in range(target_length):\n",
    "        decoder_output, decoder_hidden = decoder(decoder_input, \n",
    "                                                 decoder_hidden)\n",
    "        \n",
    "        loss += criterion(decoder_output, target_tensor[di])\n",
    "        decoder_input = target_tensor[di] \n",
    "\n",
    "    loss.backward()\n",
    "\n",
    "    encoder_optimizer.step()\n",
    "    decoder_optimizer.step()\n",
    "\n",
    "    return loss.item() / target_length\n",
    "\n",
    "    \n",
    "def trainAED(input_tensor, target_tensor, encoder, \n",
    "          decoder, encoder_optimizer, decoder_optimizer, \n",
    "          criterion, max_length=MAX_LENGTH):\n",
    "    encoder_hidden = encoder.initHidden()\n",
    "\n",
    "    encoder_optimizer.zero_grad()\n",
    "    decoder_optimizer.zero_grad()\n",
    "\n",
    "    input_length = input_tensor.size(0)\n",
    "    target_length = target_tensor.size(0)\n",
    "\n",
    "    encoder_outputs = torch.zeros(max_length, \n",
    "                                  encoder.hidden_size, \n",
    "                                  device=device)\n",
    "\n",
    "    loss = 0\n",
    "\n",
    "    for ei in range(input_length):\n",
    "        encoder_output, encoder_hidden = encoder(\n",
    "            input_tensor[ei], encoder_hidden)\n",
    "        encoder_outputs[ei] = encoder_output[0, 0]\n",
    "\n",
    "    decoder_input = torch.tensor([[SOS_token]], device=device)\n",
    "    decoder_hidden = encoder_hidden\n",
    "    \n",
    "    for di in range(target_length):\n",
    "        decoder_output, decoder_hidden, decoder_attention = decoder(decoder_input, \n",
    "                                                 decoder_hidden, \n",
    "                                                encoder_outputs)\n",
    "        \n",
    "        loss += criterion(decoder_output, target_tensor[di])\n",
    "        decoder_input = target_tensor[di] \n",
    "\n",
    "    loss.backward()\n",
    "\n",
    "    encoder_optimizer.step()\n",
    "    decoder_optimizer.step()\n",
    "\n",
    "    return loss.item() / target_length\n",
    "\n",
    "\n",
    "\n",
    "def trainIters(encoder, decoder, learning_rate=0.01, epochs=10):\n",
    "    torch.manual_seed(123)\n",
    "    encoder_optimizer = optim.SGD(encoder.parameters(), lr=learning_rate)\n",
    "    decoder_optimizer = optim.SGD(decoder.parameters(), lr=learning_rate)\n",
    "    encoder.train()\n",
    "    decoder.train()\n",
    "    \n",
    "    criterion = nn.NLLLoss()\n",
    "    lavg = []\n",
    "    eps = []\n",
    "    for epoch in range(epochs):\n",
    "        training_pairs = [tensorsFromPair(random.choice(pairs))\n",
    "                      for i in range(len(pairs))]\n",
    "        loss_total = 0\n",
    "        \n",
    "        plt.clf()\n",
    "        plt.cla()\n",
    "        plt.close()\n",
    "        plt.figure(figsize=(5, 5))\n",
    "        for iter in range(len(pairs)):\n",
    "            training_pair = training_pairs[iter - 1]\n",
    "            input_tensor = training_pair[0]\n",
    "            target_tensor = training_pair[1]\n",
    "\n",
    "            loss = trainED(input_tensor, target_tensor, encoder,\n",
    "                     decoder, encoder_optimizer, decoder_optimizer, criterion)\n",
    "            loss_total += loss\n",
    "        lavg.append(loss_total / len(pairs))\n",
    "        eps.append(epoch+1)\n",
    "\n",
    "        plt.plot(eps, lavg)\n",
    "        \n",
    "        plt.xlabel('Epoch')\n",
    "        plt.ylabel('Loss')\n",
    "        \n",
    "        display.display(plt.gcf())\n",
    "        display.clear_output(wait=True)\n",
    "        # display.clear_output()\n",
    "        time.sleep(1)\n",
    "        display.clear_output(wait=True)        \n",
    "\n",
    "        \n",
    "def trainItersAED(encoder, decoder, learning_rate=0.01, epochs=10):\n",
    "    torch.manual_seed(123)\n",
    "    encoder_optimizer = optim.SGD(encoder.parameters(), lr=learning_rate)\n",
    "    decoder_optimizer = optim.SGD(decoder.parameters(), lr=learning_rate)\n",
    "    encoder.train()\n",
    "    decoder.train()\n",
    "    \n",
    "    criterion = nn.NLLLoss()\n",
    "    lavg = []\n",
    "    eps = []\n",
    "    for epoch in range(epochs):\n",
    "        training_pairs = [tensorsFromPair(random.choice(pairs))\n",
    "                      for i in range(len(pairs))]\n",
    "        loss_total = 0\n",
    "        \n",
    "        plt.clf()\n",
    "        plt.cla()\n",
    "        plt.close()\n",
    "        plt.figure(figsize=(5, 5))\n",
    "        for iter in range(len(pairs)):\n",
    "            training_pair = training_pairs[iter - 1]\n",
    "            input_tensor = training_pair[0]\n",
    "            target_tensor = training_pair[1]\n",
    "\n",
    "            loss = trainAED(input_tensor, target_tensor, encoder,\n",
    "                     decoder, encoder_optimizer, decoder_optimizer, criterion)\n",
    "            loss_total += loss\n",
    "        lavg.append(loss_total / len(pairs))\n",
    "        eps.append(epoch+1)\n",
    "\n",
    "        plt.plot(eps, lavg)\n",
    "        \n",
    "        plt.xlabel('Epoch')\n",
    "        plt.ylabel('Loss')\n",
    "        \n",
    "        display.display(plt.gcf())\n",
    "        display.clear_output(wait=True)\n",
    "        # display.clear_output()\n",
    "        time.sleep(1)\n",
    "        display.clear_output(wait=True)        \n"
   ]
  },
  {
   "cell_type": "code",
   "execution_count": 191,
   "metadata": {},
   "outputs": [],
   "source": [
    "def sampleED(encoder, decoder, sentence, max_length=MAX_LENGTH):\n",
    "    encoder.eval()\n",
    "    decoder.eval()\n",
    "    with torch.no_grad():\n",
    "        input_tensor = tensorFromSentence(lang1, sentence)\n",
    "        input_length = input_tensor.size()[0]\n",
    "        encoder_hidden = encoder.initHidden()\n",
    "\n",
    "        encoder_outputs = torch.zeros(max_length, encoder.hidden_size, device=device)\n",
    "\n",
    "        for ei in range(input_length):\n",
    "            encoder_output, encoder_hidden = encoder(input_tensor[ei],\n",
    "                                                     encoder_hidden)\n",
    "            encoder_outputs[ei] += encoder_output[0, 0]\n",
    "\n",
    "        decoder_input = torch.tensor([[SOS_token]], device=device)  # SOS\n",
    "\n",
    "        decoder_hidden = encoder_hidden\n",
    "\n",
    "        decoded_words = []\n",
    "        \n",
    "\n",
    "        for di in range(max_length):\n",
    "            decoder_output, decoder_hidden = decoder(\n",
    "                decoder_input, decoder_hidden)\n",
    "            topv, topi = decoder_output.data.topk(1)\n",
    "            if topi.item() == EOS_token:\n",
    "                decoded_words.append('<EOS>')\n",
    "                break\n",
    "            else:\n",
    "                decoded_words.append(lang2.index2word[topi.item()])\n",
    "\n",
    "            decoder_input = topi.squeeze().detach()\n",
    "\n",
    "        return decoded_words\n",
    "\n",
    "    \n",
    "def sampleAED(encoder, decoder, sentence, max_length=MAX_LENGTH):\n",
    "    encoder.eval()\n",
    "    decoder.eval() \n",
    "    with torch.no_grad():\n",
    "        input_tensor = tensorFromSentence(lang1, sentence)\n",
    "        input_length = input_tensor.size()[0]\n",
    "        encoder_hidden = encoder.initHidden()\n",
    "\n",
    "        encoder_outputs = torch.zeros(max_length, encoder.hidden_size, device=device)\n",
    "\n",
    "        for ei in range(input_length):\n",
    "            encoder_output, encoder_hidden = encoder(input_tensor[ei],\n",
    "                                                     encoder_hidden)\n",
    "            encoder_outputs[ei] += encoder_output[0, 0]\n",
    "\n",
    "        decoder_input = torch.tensor([[SOS_token]], device=device)  # SOS\n",
    "\n",
    "        decoder_hidden = encoder_hidden\n",
    "\n",
    "        decoded_words = []\n",
    "        decoder_attentions = torch.zeros(max_length, max_length)\n",
    "\n",
    "        for di in range(max_length):\n",
    "            decoder_output, decoder_hidden, decoder_attention = decoder(\n",
    "                decoder_input, decoder_hidden, encoder_outputs)\n",
    "            decoder_attentions[di] = decoder_attention.data\n",
    "            topv, topi = decoder_output.data.topk(1)\n",
    "            if topi.item() == EOS_token:\n",
    "                decoded_words.append('<EOS>')\n",
    "                break\n",
    "            else:\n",
    "                decoded_words.append(lang2.index2word[topi.item()])\n",
    "\n",
    "            decoder_input = topi.squeeze().detach()\n",
    "\n",
    "        return decoded_words, decoder_attentions[:di + 1]\n"
   ]
  },
  {
   "cell_type": "code",
   "execution_count": 192,
   "metadata": {},
   "outputs": [],
   "source": [
    "def randomED(encoder, decoder, n=1):\n",
    "    for i in range(n):\n",
    "        pair = random.choice(pairs)\n",
    "        print('French     : ', pair[0])\n",
    "        print('Reference: ', pair[1])\n",
    "        output_words= sampleED(encoder, decoder, pair[0])\n",
    "        output_sentence = ' '.join(output_words)\n",
    "        print('Translation  : ', output_sentence)\n",
    "        print('')\n",
    "\n",
    "        \n",
    "def randomAED(encoder, decoder, n=1):\n",
    "    for i in range(n):\n",
    "        pair = random.choice(pairs)\n",
    "        print('French     : ', pair[0])\n",
    "        print('Reference: ', pair[1])\n",
    "        output_words, attentions= sampleAED(encoder, decoder, pair[0])\n",
    "        output_sentence = ' '.join(output_words)\n",
    "        print('Translation  : ', output_sentence)\n",
    "        print('')\n",
    "\n",
    "        \n",
    "def showAttention(input_sentence, output_words, attentions):\n",
    "    # Set up figure with colorbar\n",
    "    fig = plt.figure()\n",
    "    ax = fig.add_subplot(111)\n",
    "    cax = ax.matshow(attentions.numpy(), cmap='bone')\n",
    "    fig.colorbar(cax)\n",
    "\n",
    "    # Set up axes\n",
    "    ax.set_xticklabels([''] + input_sentence.split(' ') +\n",
    "                       ['<EOS>'], rotation=90)\n",
    "    ax.set_yticklabels([''] + output_words)\n",
    "\n",
    "    # Show label at every tick\n",
    "    ax.xaxis.set_major_locator(ticker.MultipleLocator(1))\n",
    "    ax.yaxis.set_major_locator(ticker.MultipleLocator(1))\n",
    "\n",
    "    plt.show()\n",
    "\n",
    "\n",
    "def evaluateAndShowAttention(input_sentence):\n",
    "    output_words, attentions = sampleAED(\n",
    "        encoder, decoder, input_sentence)\n",
    "    print('input =', input_sentence)\n",
    "    print('output =', ' '.join(output_words))\n",
    "    showAttention(input_sentence, output_words, attentions)\n",
    "\n",
    "\n",
    "\n"
   ]
  },
  {
   "cell_type": "markdown",
   "metadata": {
    "slideshow": {
     "slide_type": "slide"
    }
   },
   "source": [
    "<center>\n",
    "<h2>Neural Machine Translation</h2>\n",
    "<p style=\"text-align:center\">\n",
    "Natural Language Processing<br>\n",
    "(COM4513/6513)<br>\n",
    "<br>\n",
    "<a href=\"http://pranava.space\">Pranava Madhyastha</a><br>\n",
    "p.madhyastha@sheffield.ac.uk<br>\n",
    "<small>Department of Computer Science<br>\n",
    "University of Sheffield\n",
    "</small>\n",
    "</p>\n",
    "</center>"
   ]
  },
  {
   "cell_type": "markdown",
   "metadata": {
    "slideshow": {
     "slide_type": "slide"
    }
   },
   "source": [
    "## If we don't know how to perform a task, it's unlikely that an ML algorithm will find it out for us (Lecture 1)"
   ]
  },
  {
   "cell_type": "markdown",
   "metadata": {
    "slideshow": {
     "slide_type": "slide"
    }
   },
   "source": [
    "### Recap 1\n",
    "\n",
    "Distributed word representations/Word Vectors (Lecture 12):\n"
   ]
  },
  {
   "cell_type": "markdown",
   "metadata": {
    "slideshow": {
     "slide_type": "slide"
    }
   },
   "source": [
    "### Recap 1\n",
    "\n",
    "Distributed word representations/Word Vectors (Lecture 12):\n",
    "\n",
    "- Based on word-context matrix\n",
    "- Skip-gram (Mikolov et al. 2013) \n",
    "- Neural Language modeling (Lab 9) "
   ]
  },
  {
   "cell_type": "markdown",
   "metadata": {
    "slideshow": {
     "slide_type": "slide"
    }
   },
   "source": [
    "<center>\n",
    "<img src=\"images/skipgram.png\" style=\"width:500px; background:none; border:none; box-shadow:none;\">\n",
    "</center>"
   ]
  },
  {
   "cell_type": "markdown",
   "metadata": {
    "slideshow": {
     "slide_type": "slide"
    }
   },
   "source": [
    "## Visualizing Distributed Representations\n"
   ]
  },
  {
   "cell_type": "code",
   "execution_count": 119,
   "metadata": {
    "slideshow": {
     "slide_type": "slide"
    }
   },
   "outputs": [
    {
     "data": {
      "image/png": "[encoded data removed]",
      "text/plain": [
       "<Figure size 360x360 with 1 Axes>"
      ]
     },
     "metadata": {},
     "output_type": "display_data"
    }
   ],
   "source": [
    "plot_tsne(eng_vecs)"
   ]
  },
  {
   "cell_type": "code",
   "execution_count": 120,
   "metadata": {
    "slideshow": {
     "slide_type": "slide"
    }
   },
   "outputs": [
    {
     "data": {
      "image/png": "[encoded data removed]",
      "text/plain": [
       "<Figure size 360x360 with 1 Axes>"
      ]
     },
     "metadata": {},
     "output_type": "display_data"
    }
   ],
   "source": [
    "plot_tsne(french_vecs)"
   ]
  },
  {
   "cell_type": "markdown",
   "metadata": {
    "slideshow": {
     "slide_type": "slide"
    }
   },
   "source": [
    "## Can We Map the Two Distributional Spaces? \n",
    "\n",
    "### Problem setup\n",
    "\n",
    "- Training signal can be **word to word** dictionary\n",
    "\n",
    "\\begin{align}\n",
    "D_{train} & = \\{(\\mathbf{en}_1,\\mathbf{fr}_1) \\cdots (\\mathbf{en}_M,\\mathbf{fr}_M)\\} \\\\\n",
    "\\mathbf{en}_m & = \\phi(king)\\\\\n",
    "\\mathbf{fr}_m & = \\phi(roi)\n",
    "\\end{align}\n",
    "\n",
    "\n"
   ]
  },
  {
   "cell_type": "markdown",
   "metadata": {
    "slideshow": {
     "slide_type": "slide"
    }
   },
   "source": [
    "### What do we need? \n"
   ]
  },
  {
   "cell_type": "markdown",
   "metadata": {
    "slideshow": {
     "slide_type": "slide"
    }
   },
   "source": [
    "### What do we need? \n",
    "\n",
    "## A mapping function that maps from English domain to the French domain\n",
    "\n",
    "- A function that transforms initial English word-vector to be as close as the corresponding French word-vector\n",
    "\n",
    "\\begin{equation}\n",
    "f(\\phi(king))\\mathop{\\sim}\\phi(roi)\n",
    "\\end{equation}\n",
    "\n"
   ]
  },
  {
   "cell_type": "markdown",
   "metadata": {
    "slideshow": {
     "slide_type": "slide"
    }
   },
   "source": [
    "## A mapping function that maps from English domain to the French domain\n",
    "\n",
    "- A function that transforms initial English word-vector to be as close as the corresponding French word-vector\n",
    "\n",
    "\\begin{equation}\n",
    "f(\\phi(king))\\mathop{\\sim}\\phi(roi)\n",
    "\\end{equation}\n",
    "\n",
    "- can we learn $f$ as a linear transformation? \n",
    "\n",
    "\\begin{equation}\n",
    "(\\phi(king){\\cdot}W)\\mathop{\\sim}\\phi(roi)\n",
    "\\end{equation}\n"
   ]
  },
  {
   "cell_type": "markdown",
   "metadata": {
    "slideshow": {
     "slide_type": "slide"
    }
   },
   "source": [
    "### What can we have as our training objective? \n",
    "\n",
    "\\begin{equation}\n",
    "\\mathop{\\min} distance\\big({\\phi(king)}{\\cdot}\\mathbf{W} - \\phi(roi)\\big)\n",
    "\\end{equation}\n",
    "\n"
   ]
  },
  {
   "cell_type": "markdown",
   "metadata": {},
   "source": [
    "### Let us use a very small dictionary for training\n",
    "\n",
    "\n",
    "\n",
    "| eng     | french    |\n",
    "| --------|-----------|\n",
    "| king    | roi       |\n",
    "| queen   | reine     |\n",
    "| london  | londres   | \n",
    "| meets   | rencontre |\n",
    "| project | projet    |\n"
   ]
  },
  {
   "cell_type": "code",
   "execution_count": 213,
   "metadata": {
    "slideshow": {
     "slide_type": "slide"
    }
   },
   "outputs": [
    {
     "name": "stdout",
     "output_type": "stream",
     "text": [
      "Initial Objective = 5.820566\n",
      "Final Objective =   0.052495\n"
     ]
    },
    {
     "data": {
      "image/png": "[encoded data removed]",
      "text/plain": [
       "<Figure size 504x504 with 2 Axes>"
      ]
     },
     "metadata": {},
     "output_type": "display_data"
    }
   ],
   "source": [
    "model = train(10)"
   ]
  },
  {
   "cell_type": "markdown",
   "metadata": {
    "slideshow": {
     "slide_type": "slide"
    }
   },
   "source": [
    "# UNSEEN Training Words? "
   ]
  },
  {
   "cell_type": "code",
   "execution_count": 215,
   "metadata": {
    "slideshow": {
     "slide_type": "slide"
    }
   },
   "outputs": [
    {
     "data": {
      "text/plain": [
       "'rencontre'"
      ]
     },
     "execution_count": 215,
     "metadata": {},
     "output_type": "execute_result"
    }
   ],
   "source": [
    "# greets, meets, speaks\n",
    "\n",
    "show_nearest_word('greets', model=model)"
   ]
  },
  {
   "cell_type": "markdown",
   "metadata": {
    "slideshow": {
     "slide_type": "slide"
    }
   },
   "source": [
    "### Recap 2: \n",
    "\n",
    "Recurrent Neural Networks (Lecture 14):"
   ]
  },
  {
   "cell_type": "markdown",
   "metadata": {
    "slideshow": {
     "slide_type": "slide"
    }
   },
   "source": [
    "## Recap 2: \n",
    "\n",
    "### Recurrent Neural Networks (Lecture 14):\n",
    "<center>\n",
    "<a href=\"http://www.wildml.com/2015/09/recurrent-neural-networks-tutorial-part-1-introduction-to-rnns/\"><img src=\"images/rnn.jpg\" style=\"width:800px; background:none; border:none; box-shadow:none;\" /></a>\n",
    "</center>"
   ]
  },
  {
   "cell_type": "markdown",
   "metadata": {
    "slideshow": {
     "slide_type": "slide"
    }
   },
   "source": [
    "## RNNs \n",
    "\n",
    "### Can be used to build Language Models\n",
    "\n",
    "### RNNs can model Sentences!\n",
    "\n",
    "### RNNs also Generate Sentences! "
   ]
  },
  {
   "cell_type": "markdown",
   "metadata": {
    "slideshow": {
     "slide_type": "slide"
    }
   },
   "source": [
    "### Recap 3: \n",
    "\n",
    "#### RNNs as Conditional Language Models (Lecture 14)\n",
    "<center>\n",
    "<a href=\"http://www.wildml.com/2015/09/recurrent-neural-networks-tutorial-part-1-introduction-to-rnns/\"><img src=\"images/rnn_mt.png\" style=\"width:800px; background:none; border:none; box-shadow:none;\" /></a>\n",
    "</center>"
   ]
  },
  {
   "cell_type": "markdown",
   "metadata": {
    "slideshow": {
     "slide_type": "slide"
    }
   },
   "source": [
    "### Problem setup\n",
    "\n",
    "- Sentences are sequences of words \n",
    "- Training signal is **sentence to sentence** parallel corpus\n",
    "\n",
    "\\begin{align}\n",
    "D_{train} & = \\{(\\mathbf{en}_1,\\mathbf{fr}_1) \\cdots (\\mathbf{en}_M,\\mathbf{fr}_M)\\} \\\\\n",
    "\\mathbf{en}_m & = e_1 \\cdots e_r\\\\\n",
    "\\mathbf{fr}_m & = f_1 \\cdots f_k\n",
    "\\end{align}\n",
    "\n",
    "- Sequences can be of any lengths (r, k)  "
   ]
  },
  {
   "cell_type": "markdown",
   "metadata": {
    "slideshow": {
     "slide_type": "slide"
    }
   },
   "source": [
    "## Encode the Source \n",
    "\n",
    "\\begin{equation}\n",
    "\\mathbf{h_t} = f_{encoder}(\\mathbf{h_{t-1}}, \\mathbf{V_{fr}}^{\\top}\\mathbf{f_t})\n",
    "\\end{equation}\n",
    "\n",
    "\n",
    "- Final hidden state contains history of all source tokens \n",
    "- Final hidden state provides the information of the source sentence \n",
    "- Let us call the final hidden state the 'context' **c** "
   ]
  },
  {
   "cell_type": "markdown",
   "metadata": {
    "slideshow": {
     "slide_type": "slide"
    }
   },
   "source": [
    "## Decode the Target\n",
    "\n",
    "\\begin{equation}\n",
    "\\mathbf{o_t} = f_{decoder}\\big(\\mathbf{o_{t-1}}, [\\mathbf{V_{en}}^{\\top}\\mathbf{f_t}; \\mathbf{c}]\\big)\n",
    "\\end{equation}\n",
    "\n",
    "## Obtain the probability over the target vocabulary\n",
    "\\begin{equation}\n",
    "p(en_t{\\mid}en_{t-1}, fr_m) \\propto \\exp(\\mathbf{v_{en}}^{\\top}\\mathbf{o_t}) \n",
    "\\end{equation}"
   ]
  },
  {
   "cell_type": "markdown",
   "metadata": {
    "slideshow": {
     "slide_type": "slide"
    }
   },
   "source": [
    "|  French                                              |              English                            |\n",
    "|--------------------------------------------------------------------------------------------------------|\n",
    "| tu es probablement trop jeune pour le comprendre .   | you re probably too young to understand this .  |\n",
    "| je pense apprendre le coreen le semestre prochain .  | i m thinking of learning korean next semester . |\n",
    "| elle trouve toujours a redire aux autres .           | she is always finding fault with other people . |"
   ]
  },
  {
   "cell_type": "code",
   "execution_count": 220,
   "metadata": {
    "slideshow": {
     "slide_type": "slide"
    }
   },
   "outputs": [
    {
     "data": {
      "image/png": "[encoded data removed]",
      "text/plain": [
       "<Figure size 360x360 with 1 Axes>"
      ]
     },
     "metadata": {},
     "output_type": "display_data"
    }
   ],
   "source": [
    "hidden_size = 256\n",
    "encoder = EncoderRNN(lang1.n_words, hidden_size).to(device)\n",
    "decoder = DecoderRNN(hidden_size, lang2.n_words).to(device)\n",
    "\n",
    "trainIters(encoder, decoder, epochs=100)\n"
   ]
  },
  {
   "cell_type": "code",
   "execution_count": 221,
   "metadata": {
    "slideshow": {
     "slide_type": "slide"
    }
   },
   "outputs": [
    {
     "name": "stdout",
     "output_type": "stream",
     "text": [
      "French     :  il entreprend des experiences dans son laboratoire .\n",
      "Reference:  he is carrying out experiments in his laboratory .\n",
      "Translation  :  he is carrying out experiments in his laboratory . <EOS>\n",
      "\n",
      "French     :  elle trouve toujours a redire aux autres .\n",
      "Reference:  she is always finding fault with other people .\n",
      "Translation  :  she is always finding fault with other people . <EOS>\n",
      "\n",
      "French     :  tu es probablement trop jeune pour le comprendre .\n",
      "Reference:  you re probably too young to understand this .\n",
      "Translation  :  you re probably too young to understand this . <EOS>\n",
      "\n",
      "French     :  je pense apprendre le coreen le semestre prochain .\n",
      "Reference:  i m thinking of learning korean next semester .\n",
      "Translation  :  i m thinking of learning korean next semester . <EOS>\n",
      "\n",
      "French     :  elle est tres receptive a la suggestion hypnotique .\n",
      "Reference:  she s very susceptible to hypnotic suggestion .\n",
      "Translation  :  she s very susceptible to hypnotic suggestion . <EOS>\n",
      "\n"
     ]
    }
   ],
   "source": [
    "randomED(encoder, decoder, n=5)"
   ]
  },
  {
   "cell_type": "markdown",
   "metadata": {
    "slideshow": {
     "slide_type": "slide"
    }
   },
   "source": [
    "# Potential Problems?\n",
    "\n",
    "- Whole source sentence is compressed into one single vector\n",
    "- **The context vector is different from just a simple sentence vector** \n",
    "- Sometimes we need subtle contextual cues for translating smaller segments\n",
    "- The simple model can still work, but the computational cost exponentially increases!"
   ]
  },
  {
   "cell_type": "markdown",
   "metadata": {
    "slideshow": {
     "slide_type": "slide"
    }
   },
   "source": [
    "## Recall novelty in Phrase Based SMT\n",
    "\n",
    "- Word or Phrasal Alignments between source and target languages\n",
    "\n"
   ]
  },
  {
   "cell_type": "markdown",
   "metadata": {
    "slideshow": {
     "slide_type": "slide"
    }
   },
   "source": [
    "## Attention based NMT\n",
    "\n",
    "<center>\n",
    "<a href=\"https://d2908q01vomqb2.cloudfront.net/f1f836cb4ea6efb2a0b1b99f41ad8b103eff4b59/2017/07/20/sockeye_1.gif\"><img src=\"images/anmt.png\" style=\"width:800px; background:none; border:none; box-shadow:none;\" /></a>\n",
    "</center>"
   ]
  },
  {
   "cell_type": "markdown",
   "metadata": {
    "slideshow": {
     "slide_type": "slide"
    }
   },
   "source": [
    "## Attention based NMT\n",
    "\n",
    "* The idea originated independently of the alignment assumption\n",
    "* In someways it converges to the alignment idea\n",
    "* Key Concept: **Specialized Contexts**\n",
    "* Focused contextual information for decoding at target time $\\mathbf{o_t}$"
   ]
  },
  {
   "cell_type": "markdown",
   "metadata": {
    "slideshow": {
     "slide_type": "slide"
    }
   },
   "source": [
    "## Modeling Attention\n",
    "\n",
    "- Key Difference: Source Context **Set** instead of a Single Context vector\n",
    "\n",
    "- Source Set = $\\mathbf{h_m} = [\\mathbf{h_1}, \\cdots, \\mathbf{h_m}]$\n",
    "\n",
    "- Compute the score on the context set\n",
    "\\begin{equation}\n",
    "s_{j,t} = f_{scorer}(\\mathbf{o_{t-1}}, \\mathbf{V_{eng}}^{\\top}\\mathbf{f_t}, \\mathbf{h_j})\n",
    "\\end{equation}"
   ]
  },
  {
   "cell_type": "markdown",
   "metadata": {
    "slideshow": {
     "slide_type": "slide"
    }
   },
   "source": [
    "## Obtain a Probabilistic Measure \n",
    "\n",
    "- Normalize or Softmax it\n",
    "\n",
    "\\begin{equation}\n",
    "\\alpha_{j,t} = \\frac{\\exp(s_{j,t})}{\\sum_{j'=1}^{k}\\exp(s_{j',t})}\n",
    "\\end{equation}\n",
    "\n",
    "- The resultant context vector is: \n",
    "\\begin{equation}\n",
    "\\mathbf{c_t} = \\sum_{j=1}^{k}\\alpha_{j,t}\\mathbf{h_j}\n",
    "\\end{equation}"
   ]
  },
  {
   "cell_type": "code",
   "execution_count": 222,
   "metadata": {
    "slideshow": {
     "slide_type": "slide"
    }
   },
   "outputs": [
    {
     "data": {
      "image/png": "[encoded data removed]",
      "text/plain": [
       "<Figure size 360x360 with 1 Axes>"
      ]
     },
     "metadata": {},
     "output_type": "display_data"
    }
   ],
   "source": [
    "hidden_size = 256\n",
    "encoder = EncoderRNN(lang1.n_words, hidden_size).to(device)\n",
    "decoder = AttnDecoderRNN(hidden_size, lang2.n_words).to(device)\n",
    "\n",
    "trainItersAED(encoder, decoder, epochs=10)"
   ]
  },
  {
   "cell_type": "code",
   "execution_count": 224,
   "metadata": {
    "slideshow": {
     "slide_type": "slide"
    }
   },
   "outputs": [
    {
     "name": "stdout",
     "output_type": "stream",
     "text": [
      "input = je pense apprendre le coreen le semestre prochain .\n",
      "output = i m having some problems compiling this software . <EOS>\n"
     ]
    },
    {
     "data": {
      "image/png": "[encoded data removed]",
      "text/plain": [
       "<Figure size 432x288 with 2 Axes>"
      ]
     },
     "metadata": {},
     "output_type": "display_data"
    }
   ],
   "source": [
    "# evaluateAndShowAttention(\"tu es probablement trop jeune pour le comprendre .\")\n",
    "\n",
    "evaluateAndShowAttention(\"je pense apprendre le coreen le semestre prochain .\")\n",
    "\n",
    "# evaluateAndShowAttention(\"nous enquetons sur le meurtre de tom jackson .\")\n"
   ]
  },
  {
   "cell_type": "markdown",
   "metadata": {
    "slideshow": {
     "slide_type": "slide"
    }
   },
   "source": [
    "## Encoder-Decoder models have potentially many use cases!\n",
    "\n",
    "\n",
    "#### Recap (Lecture 14):\n",
    "\n",
    "<center>\n",
    "<a href=\"http://kelvinxu.github.io/projects/capgen.html\"><img src=\"images/capgen.png\" style=\"width:800px; background:none; border:none; box-shadow:none;\"/></a>\n",
    "</center>"
   ]
  },
  {
   "cell_type": "markdown",
   "metadata": {
    "slideshow": {
     "slide_type": "slide"
    }
   },
   "source": [
    "## Sadly, I am skipping a whole lot :-(\n",
    "\n",
    "- Encoding strategies - bidirectional contexts\n",
    "- Convolutional Neural Networks for NMT\n",
    "- Parallelized attention only models\n",
    "- Decoding Strategies - is argmax sufficient? \n",
    "- Beam Search "
   ]
  },
  {
   "cell_type": "markdown",
   "metadata": {
    "slideshow": {
     "slide_type": "slide"
    }
   },
   "source": [
    "## Sneak Peak Into the Imitation Learning / Meta Learning\n",
    "\n",
    "- Can we teach models and make them learn from their mistakes? \n",
    "\n",
    "<center>\n",
    "<img src=\"images/imitationFromRoss.png\" style=\"width:800px; background:none; border:none; box-shadow:none;\" /></a>\n",
    "</center>"
   ]
  },
  {
   "cell_type": "markdown",
   "metadata": {
    "slideshow": {
     "slide_type": "slide"
    }
   },
   "source": [
    "# Bibliography\n",
    "\n",
    "- Cho's [lecture notes](http://arxiv.org/pdf/1511.07916v1.pdf) (he is one of the inventors!)\n",
    "- [Guided Codebase](http://opennmt.net/)\n"
   ]
  }
 ],
 "metadata": {
  "celltoolbar": "Slideshow",
  "gist": {
   "data": {
    "description": "lectures_reveal_js/NMT.ipynb",
    "public": false
   },
   "id": ""
  },
  "kernelspec": {
   "display_name": "Python 3",
   "language": "python",
   "name": "python3"
  },
  "language_info": {
   "codemirror_mode": {
    "name": "ipython",
    "version": 3
   },
   "file_extension": ".py",
   "mimetype": "text/x-python",
   "name": "python",
   "nbconvert_exporter": "python",
   "pygments_lexer": "ipython3",
   "version": "3.6.5"
  }
 },
 "nbformat": 4,
 "nbformat_minor": 2
}
