{
 "cells": [
  {
   "cell_type": "markdown",
   "metadata": {
    "deletable": true,
    "editable": true,
    "slideshow": {
     "slide_type": "slide"
    }
   },
   "source": [
    "<center>\n",
    "<h2>Syntactic Parsing part 1: <br> Graph-based Dependency parsing</h2>\n",
    "<p style=\"text-align:center\">\n",
    "Natural Language Processing<br>\n",
    "(COM4513/6513)<br>\n",
    "<br>\n",
    "<a href=\"http://andreasvlachos.github.io\">Andreas Vlachos</a><br>\n",
    "a.vlachos@sheffield.ac.uk<br>\n",
    "<small>Department of Computer Science<br>\n",
    "University of Sheffield\n",
    "</small>\n",
    "</p>\n",
    "</center>"
   ]
  },
  {
   "cell_type": "markdown",
   "metadata": {
    "deletable": true,
    "editable": true,
    "slideshow": {
     "slide_type": "slide"
    }
   },
   "source": [
    "### So far: classification\n",
    "\n",
    "Given an instance $x$ (e.g. document), predict a label $y \\in \\cal Y$"
   ]
  },
  {
   "cell_type": "markdown",
   "metadata": {
    "deletable": true,
    "editable": true,
    "slideshow": {
     "slide_type": "fragment"
    }
   },
   "source": [
    "Tasks:\n",
    "- sentiment analysis\n",
    "- topic classification\n",
    "- etc."
   ]
  },
  {
   "cell_type": "markdown",
   "metadata": {
    "deletable": true,
    "editable": true,
    "slideshow": {
     "slide_type": "fragment"
    }
   },
   "source": [
    "Algorithms:\n",
    "- perceptron\n",
    "- logistic regression"
   ]
  },
  {
   "cell_type": "markdown",
   "metadata": {
    "deletable": true,
    "editable": true,
    "slideshow": {
     "slide_type": "subslide"
    }
   },
   "source": [
    "### So far: sequence labeling\n",
    "\n",
    "Given a sequence of words $\\mathbf{x} = [x_1,... x_N]$ predict a sequence of labels $\\mathbf{y} \\in \\cal Y^N$"
   ]
  },
  {
   "cell_type": "markdown",
   "metadata": {
    "deletable": true,
    "editable": true,
    "slideshow": {
     "slide_type": "fragment"
    }
   },
   "source": [
    "Tasks:\n",
    "- part of speech tagging\n",
    "- named entity recognition\n",
    "- etc."
   ]
  },
  {
   "cell_type": "markdown",
   "metadata": {
    "deletable": true,
    "editable": true,
    "slideshow": {
     "slide_type": "fragment"
    }
   },
   "source": [
    "Algorithms:\n",
    "- structured perceptron\n",
    "- hidden Markov models\n",
    "- conditional random fields"
   ]
  },
  {
   "cell_type": "markdown",
   "metadata": {
    "deletable": true,
    "editable": true,
    "slideshow": {
     "slide_type": "slide"
    }
   },
   "source": [
    "### In this lecture\n",
    "\n",
    "Syntactic parsing 1: Graph-based Dependency parsing\n",
    "<img src=\"images/tikz/test.png\" style=\"width:1000px; border:none; box-shadow:none;\">\n",
    "\n",
    "- Definitions\n",
    "- Graph-based parsing"
   ]
  },
  {
   "cell_type": "markdown",
   "metadata": {
    "deletable": true,
    "editable": true,
    "slideshow": {
     "slide_type": "slide"
    }
   },
   "source": [
    "### Problem setup\n",
    "\n",
    "Training data is pairs of word sequences (sentences) and dependency trees:\n",
    "\n",
    "\\begin{align}\n",
    "D_{train} & = \\{(\\mathbf{x}^1,G_x^1)...(\\mathbf{x}^M,G_x^M)\\} \\\\\n",
    "\\mathbf{x}^m & = [x_1,... x_N]\\\\\n",
    "graph\\; G_\\mathbf{x} &= (V_\\mathbf{x}, A_\\mathbf{x})\\\\\n",
    "vertices\\; V_\\mathbf{x} &=\\{0,1,...,N\\}\\\\\n",
    "edges\\; A_\\mathbf{x} &=\\{(i,j,k)|i,j\\in V, k \\in L \\text{(labels)}\\}\n",
    "\\end{align}"
   ]
  },
  {
   "cell_type": "markdown",
   "metadata": {
    "deletable": true,
    "editable": true,
    "slideshow": {
     "slide_type": "fragment"
    }
   },
   "source": [
    "We want to learn a model to predict the best graph:\n",
    "\n",
    "$$\n",
    "\\hat G_\\mathbf{x} = \\mathop{\\arg \\max}\\limits_{G_\\mathbf{x} \\in \\cal G_\\mathbf{x}} score(G_\\mathbf{x},\\mathbf{x})\n",
    "$$"
   ]
  },
  {
   "cell_type": "markdown",
   "metadata": {
    "deletable": true,
    "editable": true,
    "slideshow": {
     "slide_type": "subslide"
    }
   },
   "source": [
    "### Some constraints\n",
    "\n",
    "**Connected**: every word can be reached from any other word ignoring edge directionality\n",
    "\n",
    "**Acyclic**: can't re-visit the same word on a directed path\n",
    "\n",
    "**Single-Head**: every word can have only one head"
   ]
  },
  {
   "cell_type": "markdown",
   "metadata": {
    "deletable": true,
    "editable": true,
    "slideshow": {
     "slide_type": "subslide"
    }
   },
   "source": [
    "### Well-formed dependency tree?\n",
    "\n",
    "<img src=\"images/tikz/depParse.png\" style=\"border:none; box-shadow:none;\">\n",
    "\n",
    "- Connected? <span class=\"fragment\">NO</span>\n",
    "- Acyclic? <span class=\"fragment\">YES</span>\n",
    "- Single-headed? <span class=\"fragment\">YES</span>"
   ]
  },
  {
   "cell_type": "markdown",
   "metadata": {
    "deletable": true,
    "editable": true,
    "slideshow": {
     "slide_type": "subslide"
    }
   },
   "source": [
    "### Well-formed dependency tree\n",
    "\n",
    "<img src=\"images/tikz/depParseRoot.png\" style=\"border:none; box-shadow:none;\">\n",
    "\n",
    "Add a special root node with edges to any nodes without heads (main verb and punctuation)."
   ]
  },
  {
   "cell_type": "markdown",
   "metadata": {
    "deletable": true,
    "editable": true,
    "slideshow": {
     "slide_type": "slide"
    }
   },
   "source": [
    "### Learning a dependency parser\n",
    "\n",
    "We want to learn a model to predict the best graph:\n",
    "\n",
    "$$\n",
    "\\hat G_\\mathbf{x} = \\mathop{\\arg \\max}\\limits_{G_\\mathbf{x} \\in \\cal G_\\mathbf{x}} score(G_\\mathbf{x},\\mathbf{x})\n",
    "$$\n",
    "where the $G_x$ is a well-formed dependency tree.\n",
    "\n",
    "Can we learn it using what we know?"
   ]
  },
  {
   "cell_type": "markdown",
   "metadata": {
    "deletable": true,
    "editable": true,
    "slideshow": {
     "slide_type": "fragment"
    }
   },
   "source": [
    "Enumeration over all possible graphs will be expensive.\n",
    "\n",
    "How about a classifier that predicts each edge?"
   ]
  },
  {
   "cell_type": "markdown",
   "metadata": {
    "deletable": true,
    "editable": true,
    "slideshow": {
     "slide_type": "fragment"
    }
   },
   "source": [
    "Maybe. But predicting an edge makes some edges invalid due to the acyclic and single-head constraints.\t\t"
   ]
  },
  {
   "cell_type": "markdown",
   "metadata": {
    "deletable": true,
    "editable": true,
    "slideshow": {
     "slide_type": "slide"
    }
   },
   "source": [
    "### Maximum Spanning Tree\n",
    "\n",
    "Score all edges, but keep only the max spanning tree.\n",
    "<img src=\"images/MSTParsing.png\" style=\"border:none; box-shadow:none;\">\n",
    "\n",
    "Exact solution in $O(N^2)$ time using Chu-Liu-Edmonds, a modification to Kruskal for directed graphs."
   ]
  },
  {
   "cell_type": "markdown",
   "metadata": {
    "deletable": true,
    "editable": true,
    "slideshow": {
     "slide_type": "slide"
    }
   },
   "source": [
    "### Kruskal's algorithm\n",
    "\n",
    "\n",
    "<p><img src=\"images/MST_kruskal_en.gif\" style=\"float: left; width:45%; border:none; box-shadow:none;\">\n",
    "\n",
    "<p style=\"float: right;  font-size: 100%; border:3px; width: 50%; border-radius: 25px; background-color:lightgrey; border-style:solid; border-color:black; padding: 0.3em;\">\n",
    "<b>Input</b>: scored edges $E$<br>\n",
    "sort $E$ by cost(opposit of score)<br>\n",
    "<b>while</b> $G$ not spanning:<br>\n",
    "&nbsp;&nbsp;&nbsp; pop the next edge $e$<br>\n",
    "&nbsp;&nbsp;&nbsp; <b>if</b> connecting different trees:<br>\n",
    "&nbsp;&nbsp;&nbsp;&nbsp;&nbsp;&nbsp;  add $e$ to $G$\n",
    "</p>\n",
    "</p>"
   ]
  },
  {
   "cell_type": "markdown",
   "metadata": {
    "deletable": true,
    "editable": true,
    "slideshow": {
     "slide_type": "-"
    }
   },
   "source": [
    "<p style=\"text-align: left; font-size:60%\">By Schulllz (Own work) [<a href=\"http://creativecommons.org/licenses/by-sa/3.0\">CC BY-SA 3.0</a>], <a href=\"https://commons.wikimedia.org/wiki/File%3AMST_kruskal_en.gif\">via Wikimedia Commons</a></p>"
   ]
  },
  {
   "cell_type": "markdown",
   "metadata": {
    "deletable": true,
    "editable": true,
    "slideshow": {
     "slide_type": "slide"
    }
   },
   "source": [
    "### Graph-based parsing\n",
    "\n",
    "Decompose the graph score into arc scores:\n",
    "\n",
    "\\begin{align}\n",
    "\t\t\t\t\\hat G_\\mathbf{x} & = \\mathop{\\arg \\max}\\limits_{G_\\mathbf{x} \\in \\cal G_\\mathbf{x}} score(G_\\mathbf{x},\\mathbf{x})\\\\\n",
    "\t\t\t\t & = \\mathop{\\arg \\max}\\limits_{G_\\mathbf{x} \\in \\cal G_\\mathbf{x}} \\mathbf{w} \\cdot \\Phi(G_\\mathbf{x},\\mathbf{x}) \\quad \\text{(linear model)}\\\\\n",
    "\t\t\t\t & = \\mathop{\\arg \\max}\\limits_{G_\\mathbf{x} \\in \\cal G_\\mathbf{x}} \\sum_{(i,j,l) \\in A_x} \\mathbf{w} \\cdot \\phi((i,j,l),\\mathbf{x}) \\quad \\text{(arc-factored)}\n",
    "\t\t\t\t \\end{align}\n",
    "\n",
    "Can learn the weights with the structured perceptron!"
   ]
  },
  {
   "cell_type": "markdown",
   "metadata": {
    "deletable": true,
    "editable": true,
    "slideshow": {
     "slide_type": "slide"
    }
   },
   "source": [
    "### Feature extraction\n",
    "\n",
    "What should $\\phi((head,dependent,label),\\mathbf{x})$ be? Discuss!\n",
    "\n",
    "<img src=\"images/tikz/depParseScope.png\" style=\"width:1000px; border:none; box-shadow:none;\">"
   ]
  },
  {
   "cell_type": "markdown",
   "metadata": {
    "deletable": true,
    "editable": true,
    "slideshow": {
     "slide_type": "fragment"
    }
   },
   "source": [
    "- unigram: head=had, head=had&label=dobj, head=VERB\n",
    "- bigram: head=had&dependent=effect\n",
    "- head=VERB&dependent=NOUN&between=ADJ\n",
    "- head=had&label=dobj&other-label=nsubj <span style=\"color:red\" class=\"fragment\">NO!!! Breaks the arc-factored scoring</span>"
   ]
  },
  {
   "cell_type": "markdown",
   "metadata": {
    "deletable": true,
    "editable": true,
    "slideshow": {
     "slide_type": "slide"
    }
   },
   "source": [
    "### More Global models\n",
    "\n",
    "Even though inference and learning are global, features are localized to arcs.\n",
    "\n",
    "Can we have more global features?"
   ]
  },
  {
   "cell_type": "markdown",
   "metadata": {
    "deletable": true,
    "editable": true,
    "slideshow": {
     "slide_type": "fragment"
    }
   },
   "source": [
    "Yes we can! Consider subgraphs spanning a few edges. But inference becomes harder, requiring more complex dynamic programs and clever approximations.\n",
    "\n",
    "Is it worth it? "
   ]
  },
  {
   "cell_type": "markdown",
   "metadata": {
    "deletable": true,
    "editable": true,
    "slideshow": {
     "slide_type": "fragment"
    }
   },
   "source": [
    "Syntactic parsing is used everywhere, thus better compromises between speed and accuracy are always welcome!"
   ]
  },
  {
   "cell_type": "markdown",
   "metadata": {
    "deletable": true,
    "editable": true,
    "slideshow": {
     "slide_type": "slide"
    }
   },
   "source": [
    "### Evaluation\n",
    "\n",
    "<img src=\"images/tikz/depParse.png\" style=\"border:none; box-shadow:none;\">\n",
    "\n",
    "Head-finding word-accuracy:\n",
    "- unlabeled: % of words with the right head\n",
    "- labeled: % of words with the right head and label\n",
    "\n",
    "Sentence accuracy: % of sentences with correct graph"
   ]
  },
  {
   "cell_type": "markdown",
   "metadata": {
    "deletable": true,
    "editable": true,
    "slideshow": {
     "slide_type": "slide"
    }
   },
   "source": [
    "### Bibliography\n",
    "\n",
    "- Nivre and McDonald's tutorial [slides](http://stp.lingfil.uu.se/~nivre/eacl14.html)\n",
    "- McDonald's [paper](http://www.ryanmcd.com/papers/MS-CIS-05-11.pdf) on graph-based parsing\n",
    "- Kruskal's [algorithm](https://en.wikipedia.org/wiki/Kruskal%27s_algorithm) and Marina Valeeva's [visualization](http://www.coli.uni-saarland.de/~yzhang/rapt-ws1213/slides/valeeva.pdf) of Chu-Liu-Edmonds"
   ]
  },
  {
   "cell_type": "markdown",
   "metadata": {
    "deletable": true,
    "editable": true,
    "slideshow": {
     "slide_type": "slide"
    }
   },
   "source": [
    "### Coming up next\n",
    "\n",
    "Transition-based dependency parsing\n",
    "\n",
    "A.k.a. how to use a (small) classifier to predict a graph!"
   ]
  }
 ],
 "metadata": {
  "celltoolbar": "Slideshow",
  "kernelspec": {
   "display_name": "Python 3",
   "language": "python",
   "name": "python3"
  },
  "language_info": {
   "codemirror_mode": {
    "name": "ipython",
    "version": 3
   },
   "file_extension": ".py",
   "mimetype": "text/x-python",
   "name": "python",
   "nbconvert_exporter": "python",
   "pygments_lexer": "ipython3",
   "version": "3.5.2"
  },
  "livereveal": {
   "start_slideshow_at": "selected",
   "theme": "solarized",
   "transition": "slide"
  }
 },
 "nbformat": 4,
 "nbformat_minor": 2
}
