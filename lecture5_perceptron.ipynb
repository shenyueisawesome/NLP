{
 "cells": [
  {
   "cell_type": "code",
   "execution_count": 13,
   "metadata": {
    "collapsed": false,
    "deletable": true,
    "editable": true,
    "slideshow": {
     "slide_type": "skip"
    }
   },
   "outputs": [],
   "source": [
    "import re\n",
    "from collections import Counter\n",
    "\n",
    "# For the example later\n",
    "example_text = open(\"review_polarity/txt_sentoken/pos/cv750_10180.txt\").read()\n",
    "bag_of_words=Counter({'and': 37, 'is': 26, 'he': 11, 'great': 10, 'carlito': 9, 'film': 8, 'but': 8, 'some': 7, 'pacino': 7, \"carlito's\": 7, 'palma': 5, 'well': 5, 'like': 5,  'woman': 4, 'amazing': 4, 'bias':1}) "
   ]
  },
  {
   "cell_type": "markdown",
   "metadata": {
    "deletable": true,
    "editable": true,
    "slideshow": {
     "slide_type": "slide"
    }
   },
   "source": [
    "<center>\n",
    "<h2>Text classification<br> with the perceptron</h2>\n",
    "<p style=\"text-align:center\">\n",
    "Natural Language Processing<br>\n",
    "(COM4513/6513)<br>\n",
    "<br>\n",
    "<a href=\"http://andreasvlachos.github.io\">Andreas Vlachos</a><br>\n",
    "a.vlachos@sheffield.ac.uk<br>\n",
    "<small>Department of Computer Science<br>\n",
    "University of Sheffield\n",
    "</small>\n",
    "</p>\n",
    "</center>"
   ]
  },
  {
   "cell_type": "markdown",
   "metadata": {
    "collapsed": true,
    "deletable": true,
    "editable": true,
    "slideshow": {
     "slide_type": "slide"
    }
   },
   "source": [
    "<h3>Text classification</h3>\n",
    "\n",
    "A very common problem in NLP:\n",
    "<center>\n",
    "<p style=\"border:3px; width: 500px; border-radius: 25px; background-color:lightgrey; border-style:solid; border-color:black; padding: 1em;\">\n",
    "<i>Given a piece of text, assign a label from a predefined set</i>\n",
    "</p>\n",
    "</center>\n",
    "\n",
    "<b>What could the labels be?</b>"
   ]
  },
  {
   "cell_type": "markdown",
   "metadata": {
    "deletable": true,
    "editable": true,
    "slideshow": {
     "slide_type": "fragment"
    }
   },
   "source": [
    "<ul>\n",
    "<li>positive vs negative (e.g. sentiment in reviews)</li>\n",
    "<li>about world politics or not</li>\n",
    "<li>author name (author identification)</li>\n",
    "<li>pass or fail in essay grading</li>\n",
    "</ul>"
   ]
  },
  {
   "cell_type": "markdown",
   "metadata": {
    "deletable": true,
    "editable": true,
    "slideshow": {
     "slide_type": "slide"
    }
   },
   "source": [
    "### In this lecture\n",
    "\n",
    "We will see how to:\n",
    "- representing documents as vectors\n",
    "- learn a classifier using the perceptron rule"
   ]
  },
  {
   "cell_type": "markdown",
   "metadata": {
    "deletable": true,
    "editable": true,
    "slideshow": {
     "slide_type": "fragment"
    }
   },
   "source": [
    "Ready for Lab in Week 4!"
   ]
  },
  {
   "cell_type": "markdown",
   "metadata": {
    "deletable": true,
    "editable": true,
    "slideshow": {
     "slide_type": "slide"
    }
   },
   "source": [
    "### Sentiment analysis on film reviews\n",
    "\n",
    "<img src=\"images/imdb.jpg\" style=\"width:100%;\">"
   ]
  },
  {
   "cell_type": "markdown",
   "metadata": {
    "deletable": true,
    "editable": true,
    "slideshow": {
     "slide_type": "slide"
    }
   },
   "source": [
    "### Representing text"
   ]
  },
  {
   "cell_type": "code",
   "execution_count": 7,
   "metadata": {
    "collapsed": false,
    "deletable": true,
    "editable": true,
    "scrolled": true,
    "slideshow": {
     "slide_type": "-"
    }
   },
   "outputs": [
    {
     "name": "stdout",
     "output_type": "stream",
     "text": [
      "[\"what's\", 'shocking', 'about', \"carlito's\", 'way', 'is', 'how', 'good', 'it', 'is', 'having', 'gotten', 'a', 'bit', 'of', 'a', 'bad', 'rap', 'for', 'not', 'being', 'a', 'big', 'box', 'office', 'hit', 'like', \"pacino's\", 'previous', 'film', 'scent', 'of', 'a', 'woman', 'and', 'not', 'having', 'as', 'strong', 'a', 'performance', 'as', 'he', 'did', 'in', 'that', 'one', 'he', 'had', 'just', 'won', 'an', 'oscar', \"carlito's\", 'way', 'was', 'destined', 'for', 'underrated', 'heaven', \"that's\", 'what', 'it', 'is', 'an', 'underrated', 'gem', 'of', 'a', 'movie', 'and', 'what', 'a', 'shame', 'because', 'pacino', 'and', 'de', 'palma', 'both', 'do', 'amazing', 'jobs', 'with', 'it', 'and', 'turn', 'it', 'into', 'a', 'great', 'piece', 'of', 'a', 'pulpy', 'character', 'study', \"carlito's\", 'way', 'deals']\n"
     ]
    }
   ],
   "source": [
    "print(re.sub(\"[^\\w']\",\" \",example_text).split()[:100])"
   ]
  },
  {
   "cell_type": "markdown",
   "metadata": {
    "deletable": true,
    "editable": true,
    "slideshow": {
     "slide_type": "fragment"
    }
   },
   "source": [
    "Ideas?"
   ]
  },
  {
   "cell_type": "markdown",
   "metadata": {
    "deletable": true,
    "editable": true,
    "slideshow": {
     "slide_type": "fragment"
    }
   },
   "source": [
    "Let's represent text with vectors. Why?"
   ]
  },
  {
   "cell_type": "markdown",
   "metadata": {
    "deletable": true,
    "editable": true,
    "slideshow": {
     "slide_type": "fragment"
    }
   },
   "source": [
    "That's what machine learning algorithms take as input"
   ]
  },
  {
   "cell_type": "markdown",
   "metadata": {
    "deletable": true,
    "editable": true,
    "slideshow": {
     "slide_type": "subslide"
    }
   },
   "source": [
    "### Counting words"
   ]
  },
  {
   "cell_type": "code",
   "execution_count": 9,
   "metadata": {
    "collapsed": false,
    "deletable": true,
    "editable": true,
    "slideshow": {
     "slide_type": "-"
    }
   },
   "outputs": [
    {
     "name": "stdout",
     "output_type": "stream",
     "text": [
      "Counter({'a': 9, 'it': 4, 'and': 4, 'of': 4, 'is': 3, 'way': 3, \"carlito's\": 3, 'for': 2, 'he': 2, 'an': 2, 'what': 2, 'having': 2, 'underrated': 2, 'as': 2, 'not': 2, 'scent': 1, 'office': 1, 'previous': 1, 'movie': 1, 'amazing': 1, 'de': 1, 'one': 1, 'do': 1, 'that': 1, 'turn': 1, 'strong': 1, 'pacino': 1, \"what's\": 1, 'performance': 1, 'just': 1, 'being': 1, 'piece': 1, 'had': 1, 'into': 1, 'destined': 1, 'character': 1, 'pulpy': 1, 'hit': 1, 'how': 1, 'great': 1, 'won': 1, 'film': 1, 'bit': 1, 'palma': 1, 'woman': 1, 'shame': 1, 'like': 1, 'good': 1, \"that's\": 1, 'gem': 1, 'big': 1, 'rap': 1, 'gotten': 1, 'bad': 1, 'oscar': 1, 'did': 1, 'both': 1, 'box': 1, 'because': 1, 'study': 1, 'was': 1, 'with': 1, \"pacino's\": 1, 'heaven': 1, 'deals': 1, 'in': 1, 'shocking': 1, 'jobs': 1, 'about': 1})\n"
     ]
    }
   ],
   "source": [
    "dictionary = Counter(re.sub(\"[^\\w']\",\" \",example_text).split()[:100])\n",
    "print(dictionary)"
   ]
  },
  {
   "cell_type": "markdown",
   "metadata": {
    "deletable": true,
    "editable": true,
    "slideshow": {
     "slide_type": "subslide"
    }
   },
   "source": [
    "### Bag of words representation\n",
    "\n",
    "- The higher the counts for a word, the more important it is\n",
    "- No document has every word; most have 0 counts (implicitly)\n",
    "- For a given vobaculary, every document is represented by a vector of the same length"
   ]
  },
  {
   "cell_type": "markdown",
   "metadata": {
    "deletable": true,
    "editable": true,
    "slideshow": {
     "slide_type": "fragment"
    }
   },
   "source": [
    "Anything missing?"
   ]
  },
  {
   "cell_type": "markdown",
   "metadata": {
    "deletable": true,
    "editable": true,
    "slideshow": {
     "slide_type": "fragment"
    }
   },
   "source": [
    "- which words to keep?\n",
    "- how to value their presence/absence?\n",
    "- word order is ignored, could we add bigrams?"
   ]
  },
  {
   "cell_type": "markdown",
   "metadata": {
    "deletable": true,
    "editable": true,
    "slideshow": {
     "slide_type": "fragment"
    }
   },
   "source": [
    "Choice of representation (features) matters a lot!"
   ]
  },
  {
   "cell_type": "markdown",
   "metadata": {
    "deletable": true,
    "editable": true,
    "slideshow": {
     "slide_type": "slide"
    }
   },
   "source": [
    "### Our first classifier\n",
    "\n",
    "We represent a document as counts over words/features, $\\mathbf{x} \\in \\Re^N$.\n",
    "\n",
    "How to predict if it has positive $(y=1)$ or negative $(y=-1)$ sentiment?"
   ]
  },
  {
   "cell_type": "markdown",
   "metadata": {
    "deletable": true,
    "editable": true,
    "slideshow": {
     "slide_type": "fragment"
    }
   },
   "source": [
    "If each word $n$ has counts $x_n$ in the review and is associated with a weight ($w_n$), then:\n",
    "\n",
    "$$\\hat y = sign(\\sum_{n=1}^N w_nx_n) = sign(\\mathbf{w} \\cdot \\mathbf{x})$$"
   ]
  },
  {
   "cell_type": "markdown",
   "metadata": {
    "deletable": true,
    "editable": true,
    "slideshow": {
     "slide_type": "subslide"
    }
   },
   "source": [
    "$$\\hat y = sign(\\sum_{n=1}^N w_nx_n) = sign(\\mathbf{w} \\cdot \\mathbf{x})$$"
   ]
  },
  {
   "cell_type": "code",
   "execution_count": 14,
   "metadata": {
    "collapsed": false,
    "deletable": true,
    "editable": true
   },
   "outputs": [
    {
     "name": "stdout",
     "output_type": "stream",
     "text": [
      "Counter({'and': 37, 'is': 26, 'he': 11, 'great': 10, 'carlito': 9, 'but': 8, 'film': 8, \"carlito's\": 7, 'pacino': 7, 'some': 7, 'palma': 5, 'like': 5, 'well': 5, 'woman': 4, 'amazing': 4, 'bias': 1})\n"
     ]
    }
   ],
   "source": [
    "print(bag_of_words)"
   ]
  },
  {
   "cell_type": "code",
   "execution_count": 15,
   "metadata": {
    "collapsed": false,
    "deletable": true,
    "editable": true
   },
   "outputs": [],
   "source": [
    "weights = dict({'and': 0.0, 'is': 0.0, 'he': 0.0, 'great': 0.0,\\\n",
    "                'carlito': 0.0, 'but': 0.0, 'film': 0.0, 'some': 0.0,\\\n",
    "                'carlito\\'s': 0.0, 'pacino': 0.0, 'like': 0.0,\\\n",
    "                'palma': 0.0, 'well': 0.0, 'amazing': 0.0, 'woman': 0.0, 'bias': 0.0})"
   ]
  },
  {
   "cell_type": "code",
   "execution_count": 16,
   "metadata": {
    "collapsed": false,
    "deletable": true,
    "editable": true
   },
   "outputs": [
    {
     "name": "stdout",
     "output_type": "stream",
     "text": [
      "0.0\n",
      "positive\n"
     ]
    }
   ],
   "source": [
    "score = 0.0\n",
    "for word, counts in bag_of_words.items():\n",
    "    score += counts * weights[word]\n",
    "print(score)\n",
    "print(\"positive\") if score >= 0.0 else print(\"negative\")"
   ]
  },
  {
   "cell_type": "markdown",
   "metadata": {
    "deletable": true,
    "editable": true,
    "slideshow": {
     "slide_type": "subslide"
    }
   },
   "source": [
    "<h3>Another view</h3>\n",
    "<a href=\"https://blog.dbrgn.ch/2013/3/26/perceptrons-in-python/\"><img src=\"images/perceptron.png\" style=\"width:600px; background:none; border:none; box-shadow:none;\" /></a>\n",
    "<p class=\"fragment\">\n",
    "How to learn the weights $\\mathbf{w}$?\n",
    "</p>"
   ]
  },
  {
   "cell_type": "markdown",
   "metadata": {
    "deletable": true,
    "editable": true,
    "slideshow": {
     "slide_type": "slide"
    }
   },
   "source": [
    "<h3>The perceptron</h3>\n",
    "\n",
    "<p><img style=\"float: left; width:40%\" src=\"images/colorfulperceptron.jpg\"/><img src=\"images/Rosenblatt-CAL1958.jpg\" style=\"width:35%; float: right;\"/>\n",
    "</p>"
   ]
  },
  {
   "cell_type": "markdown",
   "metadata": {
    "deletable": true,
    "editable": true,
    "slideshow": {
     "slide_type": "-"
    }
   },
   "source": [
    "<p>Proposed by Rosenblatt in 1958 and still in use by researchers</p>"
   ]
  },
  {
   "cell_type": "markdown",
   "metadata": {
    "deletable": true,
    "editable": true,
    "slideshow": {
     "slide_type": "subslide"
    }
   },
   "source": [
    "### Supervised learning\n",
    "\n",
    "Given training documents with the correct labels\n",
    "\n",
    "$$D_{train} = \\{\\mathbf{x}^1,y^1)...(\\mathbf{x}^M,y^M)\\}$$\n",
    "\n",
    "Find the weights $\\mathbf{w}$ for the linear classifier\n",
    "\n",
    "$$\\hat y = sign(\\sum_{n=1}^N w_nx_n) = sign(\\mathbf{w} \\cdot \\mathbf{x})$$\n",
    "\n",
    "so that we can predict the labels of **unseen** documents\n"
   ]
  },
  {
   "cell_type": "markdown",
   "metadata": {
    "deletable": true,
    "editable": true,
    "slideshow": {
     "slide_type": "subslide"
    }
   },
   "source": [
    "### Supervised learning\n",
    "\n",
    "\n",
    "<img src=\"images/supervisedMLbyRaschka.jpg\" style=\"width:100%;\">"
   ]
  },
  {
   "cell_type": "markdown",
   "metadata": {
    "deletable": true,
    "editable": true,
    "slideshow": {
     "slide_type": "subslide"
    }
   },
   "source": [
    "<h3>Learning with the perceptron</h3>\n",
    "<p style=\"font-size: 100%; border:3px; width: 90%; border-radius: 25px; background-color:lightgrey; border-style:solid; border-color:black; padding: 0.3em;\">\n",
    "\\begin{align}\n",
    "& \\textbf{Input:} \\; D_{train} = \\{(\\mathbf{x}^1,y^1)...(\\mathbf{x}^M,y^M)\\}\\\\\n",
    "& set\\; \\mathbf{w} = \\mathbf{0} \\\\\n",
    "& \\mathbf{for} \\; (\\mathbf{x},y) \\in D_{train} \\; \\mathbf{do}\\\\\n",
    "& \\quad predict  \\; \\hat y = sign(\\mathbf{w}\\cdot \\phi(\\mathbf{x}))\\\\\n",
    "& \\quad \\mathbf{if} \\; \\hat y \\neq y \\; \\mathbf{then}\\\\\n",
    "& \\quad \\quad \\mathbf{if} \\; \\hat y\\; \\mathbf{is}\\; 1 \\; \\mathbf{then}\\\\\n",
    "& \\quad \\quad \\quad update \\; \\mathbf{w} = \\mathbf{w} + \\phi(\\mathbf{x})\\\\\n",
    "& \\quad \\quad \\mathbf{else}\\\\\n",
    "& \\quad \\quad \\quad update \\; \\mathbf{w} = \\mathbf{w} - \\phi(\\mathbf{x})\\\\\n",
    "& \\mathbf{return} \\; \\mathbf{w}\n",
    "\\end{align}\n",
    "</p>\n",
    "\n",
    "<ul class=\"fragment\">\n",
    "<li>error-driven, online learning</li>\n",
    "<li>$x$ is the document $\\phi(x)$ is the bag of words, bigrams, etc.</li>\n",
    "</ul>"
   ]
  },
  {
   "cell_type": "markdown",
   "metadata": {
    "deletable": true,
    "editable": true,
    "slideshow": {
     "slide_type": "slide"
    }
   },
   "source": [
    "### A little test\n",
    "\n",
    "Given the following tweets labeled with sentiment:\n",
    "\n",
    "| Label        | Tweet | \n",
    "| -------------|--------|\n",
    "| negative     | Very sad about Iran. |\n",
    "| negative     | No Sat off...Need to work 6 days a week. |\n",
    "| negative     | I’m a sad panda today.|\n",
    "| positive     | such a beautiful satisfying day of bargain shopping. loves it. |\n",
    "| positive     | who else is in a happy mood?? |\n",
    "| positive     | actually quite happy today. |\n",
    "\n",
    "What features would the perceptron find indicative of positive/negative class?\n",
    "\n",
    "Would they generalize to unseen test data?"
   ]
  },
  {
   "cell_type": "markdown",
   "metadata": {
    "deletable": true,
    "editable": true,
    "slideshow": {
     "slide_type": "slide"
    }
   },
   "source": [
    "### Sparsity and the bias\n",
    "\n",
    "In NLP, no matter how large our training dataset, we will never see (enough of) all the words/features.\n",
    "- features unseen in training are ignored in testing\n",
    "- there are ways to ameliorate this issue (e.g. word clusters), but it never goes away\n",
    "- there will be texts containing only unseen words"
   ]
  },
  {
   "cell_type": "markdown",
   "metadata": {
    "deletable": true,
    "editable": true,
    "slideshow": {
     "slide_type": "fragment"
    }
   },
   "source": [
    "Bias: that appears in each instance\n",
    "- its value is hardcoded to 1 \n",
    "- that 1 in the diagram\n",
    "- effectively learns to predict the majority class"
   ]
  },
  {
   "cell_type": "markdown",
   "metadata": {
    "deletable": true,
    "editable": true,
    "slideshow": {
     "slide_type": "slide"
    }
   },
   "source": [
    "<h3>3 tricks for better perceptrons</h3>\n",
    "<span style=\"font-size: 100%; color:blue\">averaging</span>, <span style=\"font-size: 100%; color:green\">multiple passes</span>, <span style=\"font-size: 100%; color:red\">shuffling</span>\n",
    "<p style=\"border:3px; width:900px; border-radius: 25px; background-color:lightgrey; border-style:solid; border-color:black; padding: 0.3em; font-size: 100%;\">\n",
    "\\begin{align}\n",
    "& \\textbf{Input:} \\; D_{train} = \\{(x^1,y^1)...(x^M,y^M)\\}\\\\\n",
    "& set \\; \\mathbf{w}_{\\color{blue}{0}} = \\mathbf{0}; \\color{blue}{c = 1} \\\\\n",
    "& \\color{green}{\\mathbf{for} \\; i=1 \\; \\mathbf{to} \\; maxIter \\; \\mathbf{do}}\\\\\n",
    "& \\quad \\color{red}{shuffle(D_{train})}\\\\\t\t\t\t\t\n",
    "& \\quad \\mathbf{for} \\; (x,y) \\in D_{train} \\; \\mathbf{do}\\\\\n",
    "& \\quad \\quad predict  \\; \\hat y = sign(\\mathbf{w}_{\\color{blue}{c-1}}\\cdot \\phi(x))\\\\\n",
    "& \\quad \\quad \\mathbf{if} \\; \\hat y \\neq y \\; \\mathbf{then}\\\\\n",
    "& \\quad \\quad \\quad update \\; \\mathbf{w}_{\\color{blue}{c}} = \\mathbf{w}_{\\color{blue}{c-1}} + y\\phi(x) \\\\\n",
    "& \\quad \\quad \\mathbf{else}\\\\\n",
    "& \\quad \\quad \\quad \\mathbf{w}_{\\color{blue}{c}} = \\mathbf{w}_{\\color{blue}{c-1}} \\\\\n",
    "& \\quad \\quad \\color{blue}{c = c + 1} \\\\\n",
    "& \\mathbf{return} \\; \\color{blue}{\\frac{1}{c}\\sum_{i=1}^c \\mathbf{w}_i}\n",
    "\\end{align}\n",
    "</p>"
   ]
  },
  {
   "cell_type": "markdown",
   "metadata": {
    "deletable": true,
    "editable": true,
    "slideshow": {
     "slide_type": "slide"
    }
   },
   "source": [
    "### Binary to multiclass\n",
    "\n",
    "A vector of weights per label $y \\in \\cal Y$:\n",
    "\n",
    "$$\\hat y = \\mathop{\\arg \\max}\\limits_{y \\in \\cal Y} (\\mathbf{w}^y \\cdot \\phi(x))$$\n",
    "\n",
    "Update rule:\n",
    "\n",
    "\\begin{align}\n",
    "&\\mathbf{if} \\; \\hat y \\neq y \\; \\mathbf{then}\\\\\n",
    "&\\quad \\quad update \\; \\mathbf{w^y} = \\mathbf{w^y} + \\phi(\\mathbf{x})\\\\\n",
    "&\\quad \\quad update \\; \\mathbf{w^{\\hat y}} = \\mathbf{w^{\\hat y}} - \\phi(\\mathbf{x})\\\\\n",
    "\\end{align}"
   ]
  },
  {
   "cell_type": "markdown",
   "metadata": {
    "deletable": true,
    "editable": true,
    "slideshow": {
     "slide_type": "fragment"
    }
   },
   "source": [
    "Equivalently, make label-specific representations:\n",
    "\n",
    "$$\\hat y = \\mathop{\\arg \\max}\\limits_{y \\in \\cal Y} (\\mathbf{w} \\cdot \\phi(x,y))$$"
   ]
  },
  {
   "cell_type": "markdown",
   "metadata": {
    "deletable": true,
    "editable": true,
    "slideshow": {
     "slide_type": "slide"
    }
   },
   "source": [
    "### Evaluation\n",
    "\n",
    "The standard way to evaluate our classifier is:\n",
    "\n",
    "$$ Accuracy = \\frac{correctLabels}{allInstances}$$\n",
    "\n",
    "What could go wrong?"
   ]
  },
  {
   "cell_type": "markdown",
   "metadata": {
    "deletable": true,
    "editable": true,
    "slideshow": {
     "slide_type": "fragment"
    }
   },
   "source": [
    "When one class is much more common than the other, predicting it always\n",
    "gives high accuracy."
   ]
  },
  {
   "cell_type": "markdown",
   "metadata": {
    "deletable": true,
    "editable": true,
    "slideshow": {
     "slide_type": "subslide"
    }
   },
   "source": [
    "### Evaluation\n",
    "\n",
    "| Predicted/Correct\t| MinorityClass | MajorityClass  |\n",
    "| ------------- \t\t|:-------------:| -----:|\n",
    "| **MinorityClass**     | TruePositive | FalsePositive |\n",
    "| **MajorityClass**     | FalseNegative  | TrueNegative |\n",
    "\n",
    "$$ Precision = \\frac{TruePositive}{TruePositive+FalsePositive}$$\n",
    "\n",
    "$$ Recall = \\frac{TruePositive}{TruePositive+FalseNegative}$$"
   ]
  },
  {
   "cell_type": "markdown",
   "metadata": {
    "deletable": true,
    "editable": true,
    "slideshow": {
     "slide_type": "slide"
    }
   },
   "source": [
    "### Bibliography\n",
    "- Manning, Raghavan and Schutze's [vector space chapter](http://nlp.stanford.edu/IR-book/pdf/06vect.pdf) from the Introduction to Information Retrieval.\n",
    "- Hal Daumé III's [chapter](http://ciml.info/dl/v0_9/ciml-v0_9-ch03.pdf) on the perceptron from his book on machine learning\n",
    "- For more background reading on classification, Kevin Murphy's [introduction](https://www.cs.ubc.ca/~murphyk/MLbook/pml-intro-22may12.pdf) touches upon most important concepts in ML"
   ]
  },
  {
   "cell_type": "markdown",
   "metadata": {
    "deletable": true,
    "editable": true,
    "slideshow": {
     "slide_type": "slide"
    }
   },
   "source": [
    "### Coming up next\n",
    "\n",
    "How to use the perceptron for PoS tagging"
   ]
  }
 ],
 "metadata": {
  "celltoolbar": "Slideshow",
  "kernelspec": {
   "display_name": "Python 3",
   "language": "python",
   "name": "python3"
  },
  "language_info": {
   "codemirror_mode": {
    "name": "ipython",
    "version": 3
   },
   "file_extension": ".py",
   "mimetype": "text/x-python",
   "name": "python",
   "nbconvert_exporter": "python",
   "pygments_lexer": "ipython3",
   "version": "3.5.2"
  },
  "livereveal": {
   "start_slideshow_at": "selected",
   "theme": "solarized",
   "transition": "slide"
  }
 },
 "nbformat": 4,
 "nbformat_minor": 2
}
